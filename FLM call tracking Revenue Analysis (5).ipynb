{
 "cells": [
  {
   "cell_type": "markdown",
   "metadata": {},
   "source": [
    "#                     FLM call tracking revenue analysis for 1st quarter 2021\n",
    " "
   ]
  },
  {
   "cell_type": "markdown",
   "metadata": {},
   "source": [
    "##  Business Problem  "
   ]
  },
  {
   "cell_type": "markdown",
   "metadata": {},
   "source": [
    "Sales department needs to measure the efficiency of sales calls made by their team  and wanted  to find out the relationships with sales revenues\n",
    "The challenge here everyday number of calls are made and tracking the outcome may not be feasible always whether it is turned into business incident or not .\n",
    "Call durations are segregated for 1st quarter of 2021 , to be analyzed how effectively the call data is incorporated as significance of sales win or lost . \n"
   ]
  },
  {
   "cell_type": "markdown",
   "metadata": {},
   "source": [
    "## Project Objective and Scope"
   ]
  },
  {
   "cell_type": "markdown",
   "metadata": {},
   "source": [
    "All call data to be downloaded from ESA server, sales revenue data will be given by the stake holder.\n",
    "We will have to find out the trends observed in terms of sellers calls made and acquired revenues \n",
    "Identify the most popular group ,max and minimum seller variables \n"
   ]
  },
  {
   "cell_type": "markdown",
   "metadata": {},
   "source": [
    "## Project Approach "
   ]
  },
  {
   "cell_type": "markdown",
   "metadata": {},
   "source": [
    "A typical Lifecycle can be adopted for this assignment, as follows: \u000b",
    "\n",
    "1. Data Preparation \n",
    "2. Exploratory Analysis\n",
    "4. Communicating Results"
   ]
  },
  {
   "cell_type": "markdown",
   "metadata": {},
   "source": [
    "##  Data Preparation  "
   ]
  },
  {
   "cell_type": "markdown",
   "metadata": {},
   "source": [
    "1. All call data to extracted month wise for Jan to Mar 2021 from ESA server\n",
    "\n",
    "2. Monthly collected data will be joined  with unique key of  Jan to Mar 2021  output to be saved  in single file \n",
    "\n",
    "3. FMS data  to be collected from ESA team since we do not have direct access \n",
    "\n",
    "4. FMS table data has  all employee details and this has to be merged with call data which has collected  earlier.\n",
    "\n",
    "5. Further  sale revenue data needs to be merged correctly because this has employee wise unique records \n",
    "\n",
    "6. Call data is bifurcated with start and end data of each call so one employee may have often records \n",
    "\n",
    "7. Duplicate records will be removed while merging with sales revenue data because adding duplicate records can lead to have more sale revenue over sightly\n"
   ]
  },
  {
   "cell_type": "code",
   "execution_count": 1,
   "metadata": {},
   "outputs": [],
   "source": [
    "import pyodbc \n",
    "import jaydebeapi "
   ]
  },
  {
   "cell_type": "code",
   "execution_count": 2,
   "metadata": {},
   "outputs": [],
   "source": [
    "# from jupyterthemes import get_themes\n",
    "# import jupyterthemes as jt\n",
    "# from jupyterthemes.stylefx import set_nb_theme\n",
    "# set_nb_theme('chesterish')"
   ]
  },
  {
   "cell_type": "code",
   "execution_count": 3,
   "metadata": {},
   "outputs": [],
   "source": [
    "import jpype\n",
    "import ibm_db\n",
    "import ibm_db_dbi\n",
    "from pandas.io import sql\n",
    "import pandas.io.sql as psql"
   ]
  },
  {
   "cell_type": "code",
   "execution_count": 4,
   "metadata": {},
   "outputs": [],
   "source": [
    "import pandas as pd\n",
    "from pandas.plotting import scatter_matrix\n",
    "from pandas import ExcelWriter\n",
    "from pandas import ExcelFile\n",
    "from openpyxl import load_workbook\n",
    "import numpy as np\n",
    "from scipy.stats import norm, skew\n",
    "from scipy import stats\n",
    "import statsmodels.api as sm\n",
    "import warnings\n",
    "import datetime\n",
    "from datetime import datetime as dt\n",
    "warnings.filterwarnings('ignore')\n",
    "import seaborn as sns\n",
    "import scipy.stats as stats\n",
    "from statsmodels.formula.api import ols\n",
    "from statsmodels.stats.anova import _get_covariance,anova_lm\n",
    "from matplotlib import pyplot\n",
    "import matplotlib.pyplot as plt\n",
    "import matplotlib.pylab as pylab\n",
    "import matplotlib\n",
    "# %matplotlib inline\n",
    "# sns.set()"
   ]
  },
  {
   "cell_type": "code",
   "execution_count": 5,
   "metadata": {},
   "outputs": [],
   "source": [
    "import statsmodels.formula.api as smf\n",
    "from sklearn.linear_model import LinearRegression\n",
    "from sklearn import metrics\n",
    "from sklearn.model_selection import train_test_split\n",
    "import numpy as np"
   ]
  },
  {
   "cell_type": "markdown",
   "metadata": {},
   "source": [
    "## ESA server connection "
   ]
  },
  {
   "cell_type": "code",
   "execution_count": 6,
   "metadata": {},
   "outputs": [],
   "source": [
    "# # #To connect to ESA Database which is NetezzaSQL, install odbc driver.\n",
    "# print (pyodbc.dataSources()) \n",
    "# conn = pyodbc.connect('DRIVER={NetezzaSQL};'\\\n",
    "# 'SERVER=;'\\\n",
    "# 'PORT=;'\\\n",
    "# 'DATABASE=;'\\\n",
    "# 'UID=;PWD=;')"
   ]
  },
  {
   "cell_type": "markdown",
   "metadata": {},
   "source": [
    "## Importing data from 1st January 2021 to 31st May  2021"
   ]
  },
  {
   "cell_type": "code",
   "execution_count": 7,
   "metadata": {},
   "outputs": [],
   "source": [
    "# # # query1 = 'select * from EDGEDM.CRM_SELLER_CALL_FACT WHERE DATE_ENTERED BETWEEN 2020-01-01 AND 2020-12-01'\n",
    "# sql = \"\"\" SELECT EDGEDM.CRM_SELLER_CALL_FACT.SNAPSHOT_CURR_WEEK_INDC,\n",
    "# EDGEDM.CRM_SELLER_CALL_FACT.SNAPSHOT_WK_QTRYR_KEY,\n",
    "# EDGEDM.CRM_SELLER_CALL_FACT.CRM_ID,\n",
    "# EDGEDM.CRM_SELLER_CALL_FACT.CRM_SOURCE,\n",
    "# EDGEDM.CRM_SELLER_CALL_FACT.ACTIVE_INDC,\n",
    "# EDGEDM.CRM_SELLER_CALL_FACT.DATE_ENTERED,\n",
    "# EDGEDM.CRM_SELLER_CALL_FACT.DATE_MODIFIED,\n",
    "# EDGEDM.CRM_SELLER_CALL_FACT.CNUM,\n",
    "# EDGEDM.CRM_SELLER_CALL_FACT.INTERACTION_TYPE,\n",
    "# EDGEDM.CRM_SELLER_CALL_FACT.DIRECTION,\n",
    "# EDGEDM.CRM_SELLER_CALL_FACT.STATUS,\n",
    "# EDGEDM.CRM_SELLER_CALL_FACT.DATE_START,\n",
    "# EDGEDM.CRM_SELLER_CALL_FACT.DATE_END,\n",
    "# EDGEDM.CRM_SELLER_CALL_FACT.START_DAY_KEY,\n",
    "# EDGEDM.CRM_SELLER_CALL_FACT.END_DAY_KEY,\n",
    "# EDGEDM.CRM_SELLER_CALL_FACT.CALL_WEEK_MNEMONIC_ID,\n",
    "# EDGEDM.CRM_SELLER_CALL_FACT.PARENT_TYPE,\n",
    "# EDGEDM.CRM_SELLER_CALL_FACT.PARENT_ID,\n",
    "# EDGEDM.CRM_SELLER_CALL_FACT.TAGS,\n",
    "# EDGEDM.CRM_SELLER_CALL_FACT.DURATION,\n",
    "# EDGEDM.CRM_SELLER_CALL_FACT.IW_ROW_UPDT_TS\n",
    "\n",
    "# FROM EDGEDM.CRM_SELLER_CALL_FACT\n",
    "# WHERE EDGEDM.CRM_SELLER_CALL_FACT.DATE_START BETWEEN ? AND ? ;\"\"\"\n",
    "\n",
    "# df1 = pd.read_sql_query(sql, conn, params=['2021-01-01','2021-01-01'])"
   ]
  },
  {
   "cell_type": "markdown",
   "metadata": {},
   "source": [
    "## Importing data from 1st January 2021 to 31st March 2021\n",
    "\n",
    "Since the data rannge is requed huge momery , we have to extract it month wise "
   ]
  },
  {
   "cell_type": "code",
   "execution_count": 8,
   "metadata": {},
   "outputs": [],
   "source": [
    "# sql = \"\"\" SELECT EDGEDM.CRM_SELLER_CALL_FACT.SNAPSHOT_CURR_WEEK_INDC,\n",
    "# EDGEDM.CRM_SELLER_CALL_FACT.SNAPSHOT_WK_QTRYR_KEY,\n",
    "# EDGEDM.CRM_SELLER_CALL_FACT.CRM_ID,\n",
    "# EDGEDM.CRM_SELLER_CALL_FACT.CRM_SOURCE,\n",
    "# EDGEDM.CRM_SELLER_CALL_FACT.ACTIVE_INDC,\n",
    "# EDGEDM.CRM_SELLER_CALL_FACT.DATE_ENTERED,\n",
    "# EDGEDM.CRM_SELLER_CALL_FACT.DATE_MODIFIED,\n",
    "# EDGEDM.CRM_SELLER_CALL_FACT.CNUM,\n",
    "# EDGEDM.CRM_SELLER_CALL_FACT.INTERACTION_TYPE,\n",
    "# EDGEDM.CRM_SELLER_CALL_FACT.DIRECTION,\n",
    "# EDGEDM.CRM_SELLER_CALL_FACT.STATUS,\n",
    "# EDGEDM.CRM_SELLER_CALL_FACT.DATE_START,\n",
    "# EDGEDM.CRM_SELLER_CALL_FACT.DATE_END,\n",
    "# EDGEDM.CRM_SELLER_CALL_FACT.START_DAY_KEY,\n",
    "# EDGEDM.CRM_SELLER_CALL_FACT.END_DAY_KEY,\n",
    "# EDGEDM.CRM_SELLER_CALL_FACT.CALL_WEEK_MNEMONIC_ID,\n",
    "# EDGEDM.CRM_SELLER_CALL_FACT.PARENT_TYPE,\n",
    "# EDGEDM.CRM_SELLER_CALL_FACT.PARENT_ID,\n",
    "# EDGEDM.CRM_SELLER_CALL_FACT.TAGS,\n",
    "# EDGEDM.CRM_SELLER_CALL_FACT.DURATION,\n",
    "# EDGEDM.CRM_SELLER_CALL_FACT.IW_ROW_UPDT_TS\n",
    "\n",
    "# FROM EDGEDM.CRM_SELLER_CALL_FACT\n",
    "# WHERE YEAR(EDGEDM.CRM_SELLER_CALL_FACT.DATE_START) = ? AND MONTH(EDGEDM.CRM_SELLER_CALL_FACT.DATE_START) = ?; \"\"\"\n"
   ]
  },
  {
   "cell_type": "markdown",
   "metadata": {},
   "source": [
    "#### Import data from sql serve for May 2021"
   ]
  },
  {
   "cell_type": "code",
   "execution_count": 9,
   "metadata": {},
   "outputs": [],
   "source": [
    "# df_may = pd.read_sql_query(sql, conn, params=[2021,5])\n",
    "# # df_may.to_csv (r'C:/Users/SuprasannaPradhan/Documents/DIA/df_may.csv', index = False, header=True"
   ]
  },
  {
   "cell_type": "markdown",
   "metadata": {},
   "source": [
    "#### Import data from sql serve for APR 2021"
   ]
  },
  {
   "cell_type": "code",
   "execution_count": 10,
   "metadata": {},
   "outputs": [],
   "source": [
    "# df_apr = pd.read_sql_query(sql, conn, params=[2021,4])\n",
    "# # df_apr.to_csv (r'C:/Users/SuprasannaPradhan/Documents/DIA/df_apr.csv', index = False, header=True)"
   ]
  },
  {
   "cell_type": "markdown",
   "metadata": {},
   "source": [
    "#### Import data from sql serve for MAR 2021"
   ]
  },
  {
   "cell_type": "code",
   "execution_count": 11,
   "metadata": {},
   "outputs": [],
   "source": [
    "# df_mar = pd.read_sql_query(sql, conn, params=[2021,3])\n",
    "# # df_mar.to_csv (r'C:/Users/SuprasannaPradhan/Documents/DIA/df_mar.csv', index = False, header=True)"
   ]
  },
  {
   "cell_type": "markdown",
   "metadata": {},
   "source": [
    "#### Import data from sql serve for FEB 2021"
   ]
  },
  {
   "cell_type": "code",
   "execution_count": 12,
   "metadata": {},
   "outputs": [],
   "source": [
    "# df_feb = pd.read_sql_query(sql, conn, params=[2021,2])\n",
    "# # df_feb.to_csv (r'C:/Users/SuprasannaPradhan/Documents/DIA/df_feb.csv', index = False, header=True)"
   ]
  },
  {
   "cell_type": "markdown",
   "metadata": {},
   "source": [
    "#### Import data from sql serve for JAN 2021"
   ]
  },
  {
   "cell_type": "code",
   "execution_count": 13,
   "metadata": {},
   "outputs": [],
   "source": [
    "# df_jan = pd.read_sql_query(sql, conn, params=[2021,1])\n",
    "# df_jan.to_csv (r'C:/Users/SuprasannaPradhan/Documents/DIA/df_jan.csv', index = False, header=True)               "
   ]
  },
  {
   "cell_type": "markdown",
   "metadata": {},
   "source": [
    "#### Import to one file all JAN to MAR 2021"
   ]
  },
  {
   "cell_type": "code",
   "execution_count": 14,
   "metadata": {},
   "outputs": [],
   "source": [
    "# df1qtr = df_mar.append([df_feb,df_jan],ignore_index = True)\n",
    "# df2021 = df_may.append([df_apr,df_mar,df_feb,df_jan],ignore_index = True)"
   ]
  },
  {
   "cell_type": "code",
   "execution_count": 15,
   "metadata": {},
   "outputs": [],
   "source": [
    "## Store in local drive \n",
    "# df1qtr = pd.read_csv ('C:/Users/SuprasannaPradhan/Documents/DIA/df1qtr.csv')\n",
    "# # # df_jan = pd.read_csv('C:/Users/SuprasannaPradhan/Documents/DIA/df_jan.csv')"
   ]
  },
  {
   "cell_type": "markdown",
   "metadata": {},
   "source": [
    "#### Removeing leading zeros from the data key "
   ]
  },
  {
   "cell_type": "code",
   "execution_count": 16,
   "metadata": {},
   "outputs": [],
   "source": [
    "# df1qtr['CNUM'] = df1qtr['CNUM'].apply(lambda x:x.lstrip('0') if type(x) == str else x)"
   ]
  },
  {
   "cell_type": "code",
   "execution_count": 17,
   "metadata": {},
   "outputs": [],
   "source": [
    "# df1qtr.count()"
   ]
  },
  {
   "cell_type": "code",
   "execution_count": 18,
   "metadata": {},
   "outputs": [],
   "source": [
    "# df_jan['Numeric_CNUM'] = pd.to_numeric(df_jan['CNUM'], errors='coerce')\n",
    "# mask = df_jan['Numeric_CNUM'].isna()\n",
    "# df_jan.loc[mask, 'Text_CNUM'] = df_jan.loc[mask, 'CNUM']\n",
    "# # df_jan.drop(columns=['CNUM'])"
   ]
  },
  {
   "cell_type": "code",
   "execution_count": 19,
   "metadata": {},
   "outputs": [],
   "source": [
    "# df_jan['row3'] = df_jan.Numeric_CNUM\n",
    "# df_jan.loc[df_jan.row3 > 0 , 'row3'] = df_jan.CNUM"
   ]
  },
  {
   "cell_type": "code",
   "execution_count": 20,
   "metadata": {},
   "outputs": [],
   "source": [
    "# df_jan['row4'] = df_jan['row3'] * 1  "
   ]
  },
  {
   "cell_type": "code",
   "execution_count": 21,
   "metadata": {},
   "outputs": [],
   "source": [
    "# df_jan['Text_CNUM'].fillna('', inplace=True)\n",
    "# df_jan['Numeric_CNUM'] = df_jan['Numeric_CNUM'].astype(object).fillna('')"
   ]
  },
  {
   "cell_type": "markdown",
   "metadata": {},
   "source": [
    "## Importing FMS data "
   ]
  },
  {
   "cell_type": "code",
   "execution_count": 22,
   "metadata": {},
   "outputs": [],
   "source": [
    "# fms_data = pd.read_csv ('C:/Users/SuprasannaPradhan/Documents/DIA/EDGEDM_DIM_FMS_HIERS.csv')"
   ]
  },
  {
   "cell_type": "markdown",
   "metadata": {},
   "source": [
    "## Merging data set and saved local drive "
   ]
  },
  {
   "cell_type": "code",
   "execution_count": 23,
   "metadata": {},
   "outputs": [],
   "source": [
    "# qtr1_call = pd.merge(left = df1qtr, right=fms_data,how='left', left_on='CNUM', right_on='CNUM',indicator=True)\n",
    "# qtr1_call.to_csv (r'C:/Users/SuprasannaPradhan/Documents/DIA/qtr1_call.csv', index = False, header=True)"
   ]
  },
  {
   "cell_type": "code",
   "execution_count": 24,
   "metadata": {},
   "outputs": [],
   "source": [
    "chunksize = 10000\n",
    "qtr= pd.read_csv ('C:/Users/SuprasannaPradhan/Documents/DIA/qtr1_call.csv',chunksize=chunksize, iterator=True)\n",
    "qtr1_call = pd.concat(qtr, ignore_index=True)"
   ]
  },
  {
   "cell_type": "code",
   "execution_count": 25,
   "metadata": {},
   "outputs": [],
   "source": [
    "qtr1_call[\"EMP_FULL_NAME\"] = qtr1_call[\"EMP_FULL_NAME\"].str.upper()"
   ]
  },
  {
   "cell_type": "markdown",
   "metadata": {},
   "source": [
    "## Overview of data "
   ]
  },
  {
   "cell_type": "code",
   "execution_count": 26,
   "metadata": {},
   "outputs": [
    {
     "data": {
      "text/plain": [
       "Index(['SNAPSHOT_CURR_WEEK_INDC', 'SNAPSHOT_WK_QTRYR_KEY', 'CRM_ID',\n",
       "       'CRM_SOURCE', 'ACTIVE_INDC', 'DATE_ENTERED', 'DATE_MODIFIED', 'CNUM',\n",
       "       'INTERACTION_TYPE', 'DIRECTION', 'STATUS', 'DATE_START', 'DATE_END',\n",
       "       'START_DAY_KEY', 'END_DAY_KEY', 'CALL_WEEK_MNEMONIC_ID', 'PARENT_TYPE',\n",
       "       'PARENT_ID', 'TAGS', 'DURATION', 'IW_ROW_UPDT_TS', 'IS_MGR_INDC',\n",
       "       'GBL_INDC', 'EMP_INTERNET_ID', 'EMP_FULL_NAME', 'ORG_NAME',\n",
       "       'JOB_ROLE_DESC', 'JOB_ROLE_TYPE', 'ROLE_DESC', 'JOB_ROLE_CTGY2_DESC',\n",
       "       'JOB_ROLE_CTGY3_DESC', 'JOB_ROLE_GROUP_NAME', 'SELLER_LEVEL_NAME',\n",
       "       'ORG_ROLLUP2_DESC', 'ORG_ROLLUP1_DESC', 'IOT_ID', 'IOT_NAME', 'IMT_ID',\n",
       "       'IMT_NAME', 'FMS_LVL', 'FMS_LEVEL_0', 'FMS_LEVEL_1', 'FMS_LEVEL_2',\n",
       "       'FMS_LEVEL_3', 'FMS_LEVEL_4', 'FMS_LEVEL_5', 'FMS_LEVEL_6',\n",
       "       'FMS_LEVEL_7', 'FMS_LEVEL_8', 'FMS_LEVEL_9', 'FMS_LEVEL_10',\n",
       "       'FMS_LEVEL_11', 'FMS_LEVEL_12', 'FMS_LEVEL_13', 'FMS_LEVEL_14',\n",
       "       'FMS_PRSN_LEVEL_0', 'FMS_PRSN_LEVEL_1', 'FMS_PRSN_LEVEL_2',\n",
       "       'FMS_PRSN_LEVEL_3', 'FMS_PRSN_LEVEL_4', 'FMS_PRSN_LEVEL_5',\n",
       "       'FMS_PRSN_LEVEL_6', 'FMS_PRSN_LEVEL_7', 'FMS_PRSN_LEVEL_8',\n",
       "       'FMS_PRSN_LEVEL_9', 'FMS_PRSN_LEVEL_10', 'FMS_PRSN_LEVEL_11',\n",
       "       'FMS_PRSN_LEVEL_12', 'FMS_PRSN_LEVEL_13', 'FMS_PRSN_LEVEL_14',\n",
       "       'IW_ROW_UPDT_TS_Y', 'EMPLOYEE_MGR_L1_CNUM', 'EMPLOYEE_MGR_L1_NAME',\n",
       "       'EMPLOYEE_MGR_L1_EMAIL', 'EMPLOYEE_MGR_L2_CNUM', 'EMPLOYEE_MGR_L2_NAME',\n",
       "       'EMPLOYEE_MGR_L2_EMAIL', 'EMPLOYEE_MGR_L3_CNUM', 'EMPLOYEE_MGR_L3_NAME',\n",
       "       'EMPLOYEE_MGR_L3_EMAIL', 'DATE_START_Y', 'DATE_END_Y', 'LEVERAGE_GROUP',\n",
       "       '_merge'],\n",
       "      dtype='object')"
      ]
     },
     "execution_count": 26,
     "metadata": {},
     "output_type": "execute_result"
    }
   ],
   "source": [
    "qtr1_call.columns"
   ]
  },
  {
   "cell_type": "markdown",
   "metadata": {},
   "source": [
    "It is very huge data we have been having 5.1 + MB"
   ]
  },
  {
   "cell_type": "code",
   "execution_count": 27,
   "metadata": {},
   "outputs": [],
   "source": [
    "# pd.set_option('display.max_columns', None)\n",
    "# pd.set_option('display.max_rows', None)\n",
    "# qtr1_call"
   ]
  },
  {
   "cell_type": "markdown",
   "metadata": {},
   "source": [
    "\n",
    "## Adding Month and Week variable in the data set "
   ]
  },
  {
   "cell_type": "code",
   "execution_count": 28,
   "metadata": {},
   "outputs": [
    {
     "data": {
      "text/html": [
       "<div>\n",
       "<style scoped>\n",
       "    .dataframe tbody tr th:only-of-type {\n",
       "        vertical-align: middle;\n",
       "    }\n",
       "\n",
       "    .dataframe tbody tr th {\n",
       "        vertical-align: top;\n",
       "    }\n",
       "\n",
       "    .dataframe thead th {\n",
       "        text-align: right;\n",
       "    }\n",
       "</style>\n",
       "<table border=\"1\" class=\"dataframe\">\n",
       "  <thead>\n",
       "    <tr style=\"text-align: right;\">\n",
       "      <th></th>\n",
       "      <th>CNUM</th>\n",
       "      <th>first</th>\n",
       "      <th>last</th>\n",
       "    </tr>\n",
       "  </thead>\n",
       "  <tbody>\n",
       "    <tr>\n",
       "      <th>0</th>\n",
       "      <td>100010702</td>\n",
       "      <td>2021-03-23 11:30:00</td>\n",
       "      <td>2021-01-22 09:00:00</td>\n",
       "    </tr>\n",
       "    <tr>\n",
       "      <th>1</th>\n",
       "      <td>100022866</td>\n",
       "      <td>2021-03-02 16:00:00</td>\n",
       "      <td>2021-01-12 13:00:00</td>\n",
       "    </tr>\n",
       "    <tr>\n",
       "      <th>2</th>\n",
       "      <td>10002834</td>\n",
       "      <td>2021-01-12 03:00:00</td>\n",
       "      <td>2021-01-12 14:00:00</td>\n",
       "    </tr>\n",
       "    <tr>\n",
       "      <th>3</th>\n",
       "      <td>100049866</td>\n",
       "      <td>2021-03-09 13:00:00</td>\n",
       "      <td>2021-01-29 15:00:00</td>\n",
       "    </tr>\n",
       "    <tr>\n",
       "      <th>4</th>\n",
       "      <td>100119866</td>\n",
       "      <td>2021-02-01 15:30:00</td>\n",
       "      <td>2021-01-20 16:00:00</td>\n",
       "    </tr>\n",
       "    <tr>\n",
       "      <th>5</th>\n",
       "      <td>100137631</td>\n",
       "      <td>2021-03-12 13:30:00</td>\n",
       "      <td>2021-01-14 12:00:00</td>\n",
       "    </tr>\n",
       "    <tr>\n",
       "      <th>6</th>\n",
       "      <td>10016649</td>\n",
       "      <td>2021-03-29 16:00:00</td>\n",
       "      <td>2021-03-31 17:30:00</td>\n",
       "    </tr>\n",
       "    <tr>\n",
       "      <th>7</th>\n",
       "      <td>100185778</td>\n",
       "      <td>2021-03-02 02:00:00</td>\n",
       "      <td>2021-01-22 06:30:00</td>\n",
       "    </tr>\n",
       "    <tr>\n",
       "      <th>8</th>\n",
       "      <td>10020618</td>\n",
       "      <td>2021-02-17 09:30:00</td>\n",
       "      <td>2021-02-24 13:00:00</td>\n",
       "    </tr>\n",
       "    <tr>\n",
       "      <th>9</th>\n",
       "      <td>100212706</td>\n",
       "      <td>2021-03-09 09:30:00</td>\n",
       "      <td>2021-01-19 10:00:00</td>\n",
       "    </tr>\n",
       "  </tbody>\n",
       "</table>\n",
       "</div>"
      ],
      "text/plain": [
       "        CNUM                first                 last\n",
       "0  100010702  2021-03-23 11:30:00  2021-01-22 09:00:00\n",
       "1  100022866  2021-03-02 16:00:00  2021-01-12 13:00:00\n",
       "2   10002834  2021-01-12 03:00:00  2021-01-12 14:00:00\n",
       "3  100049866  2021-03-09 13:00:00  2021-01-29 15:00:00\n",
       "4  100119866  2021-02-01 15:30:00  2021-01-20 16:00:00\n",
       "5  100137631  2021-03-12 13:30:00  2021-01-14 12:00:00\n",
       "6   10016649  2021-03-29 16:00:00  2021-03-31 17:30:00\n",
       "7  100185778  2021-03-02 02:00:00  2021-01-22 06:30:00\n",
       "8   10020618  2021-02-17 09:30:00  2021-02-24 13:00:00\n",
       "9  100212706  2021-03-09 09:30:00  2021-01-19 10:00:00"
      ]
     },
     "execution_count": 28,
     "metadata": {},
     "output_type": "execute_result"
    }
   ],
   "source": [
    "q1_date = qtr1_call.groupby(['CNUM'])['DATE_START'].agg(['first','last']).reset_index()\n",
    "q1_date.head(10)"
   ]
  },
  {
   "cell_type": "code",
   "execution_count": 29,
   "metadata": {},
   "outputs": [],
   "source": [
    "#Adding month and weeks in the data set \n",
    "q1_date_update = q1_date .iloc[ : , [0,1,2]] \n",
    "q1_date_update.columns = ['CNUM','DATE_START_f','DATE_START_e',] \n",
    "q1_date_update = q1_date_update.drop(columns=['DATE_START_e'])\n",
    "q1_date_update[\"DATE_START_f\"] = pd.to_datetime(q1_date_update.DATE_START_f, format='%Y-%m-%d %H:%M:%S')\n",
    "q1_date_update['DATE_START_f'] = pd.to_datetime(q1_date_update.DATE_START_f, format='%Y-%m-%d')\n",
    "q1_date_update['DATE_START_f'] = q1_date_update['DATE_START_f'].dt.strftime('%Y-%m-%d')\n",
    "q1_date_update['MONTH'] = pd.PeriodIndex(q1_date_update['DATE_START_f'], freq='M')\n",
    "q1_date_update['WEEK'] = pd.PeriodIndex(q1_date_update['DATE_START_f'], freq='W')"
   ]
  },
  {
   "cell_type": "code",
   "execution_count": 30,
   "metadata": {},
   "outputs": [
    {
     "data": {
      "text/html": [
       "<div>\n",
       "<style scoped>\n",
       "    .dataframe tbody tr th:only-of-type {\n",
       "        vertical-align: middle;\n",
       "    }\n",
       "\n",
       "    .dataframe tbody tr th {\n",
       "        vertical-align: top;\n",
       "    }\n",
       "\n",
       "    .dataframe thead th {\n",
       "        text-align: right;\n",
       "    }\n",
       "</style>\n",
       "<table border=\"1\" class=\"dataframe\">\n",
       "  <thead>\n",
       "    <tr style=\"text-align: right;\">\n",
       "      <th></th>\n",
       "      <th>CNUM</th>\n",
       "      <th>DATE_START_f</th>\n",
       "      <th>MONTH</th>\n",
       "      <th>WEEK</th>\n",
       "    </tr>\n",
       "  </thead>\n",
       "  <tbody>\n",
       "    <tr>\n",
       "      <th>0</th>\n",
       "      <td>100010702</td>\n",
       "      <td>2021-03-23</td>\n",
       "      <td>2021-03</td>\n",
       "      <td>2021-03-22/2021-03-28</td>\n",
       "    </tr>\n",
       "    <tr>\n",
       "      <th>1</th>\n",
       "      <td>100022866</td>\n",
       "      <td>2021-03-02</td>\n",
       "      <td>2021-03</td>\n",
       "      <td>2021-03-01/2021-03-07</td>\n",
       "    </tr>\n",
       "    <tr>\n",
       "      <th>2</th>\n",
       "      <td>10002834</td>\n",
       "      <td>2021-01-12</td>\n",
       "      <td>2021-01</td>\n",
       "      <td>2021-01-11/2021-01-17</td>\n",
       "    </tr>\n",
       "    <tr>\n",
       "      <th>3</th>\n",
       "      <td>100049866</td>\n",
       "      <td>2021-03-09</td>\n",
       "      <td>2021-03</td>\n",
       "      <td>2021-03-08/2021-03-14</td>\n",
       "    </tr>\n",
       "    <tr>\n",
       "      <th>4</th>\n",
       "      <td>100119866</td>\n",
       "      <td>2021-02-01</td>\n",
       "      <td>2021-02</td>\n",
       "      <td>2021-02-01/2021-02-07</td>\n",
       "    </tr>\n",
       "    <tr>\n",
       "      <th>5</th>\n",
       "      <td>100137631</td>\n",
       "      <td>2021-03-12</td>\n",
       "      <td>2021-03</td>\n",
       "      <td>2021-03-08/2021-03-14</td>\n",
       "    </tr>\n",
       "    <tr>\n",
       "      <th>6</th>\n",
       "      <td>10016649</td>\n",
       "      <td>2021-03-29</td>\n",
       "      <td>2021-03</td>\n",
       "      <td>2021-03-29/2021-04-04</td>\n",
       "    </tr>\n",
       "    <tr>\n",
       "      <th>7</th>\n",
       "      <td>100185778</td>\n",
       "      <td>2021-03-02</td>\n",
       "      <td>2021-03</td>\n",
       "      <td>2021-03-01/2021-03-07</td>\n",
       "    </tr>\n",
       "    <tr>\n",
       "      <th>8</th>\n",
       "      <td>10020618</td>\n",
       "      <td>2021-02-17</td>\n",
       "      <td>2021-02</td>\n",
       "      <td>2021-02-15/2021-02-21</td>\n",
       "    </tr>\n",
       "    <tr>\n",
       "      <th>9</th>\n",
       "      <td>100212706</td>\n",
       "      <td>2021-03-09</td>\n",
       "      <td>2021-03</td>\n",
       "      <td>2021-03-08/2021-03-14</td>\n",
       "    </tr>\n",
       "  </tbody>\n",
       "</table>\n",
       "</div>"
      ],
      "text/plain": [
       "        CNUM DATE_START_f    MONTH                   WEEK\n",
       "0  100010702   2021-03-23  2021-03  2021-03-22/2021-03-28\n",
       "1  100022866   2021-03-02  2021-03  2021-03-01/2021-03-07\n",
       "2   10002834   2021-01-12  2021-01  2021-01-11/2021-01-17\n",
       "3  100049866   2021-03-09  2021-03  2021-03-08/2021-03-14\n",
       "4  100119866   2021-02-01  2021-02  2021-02-01/2021-02-07\n",
       "5  100137631   2021-03-12  2021-03  2021-03-08/2021-03-14\n",
       "6   10016649   2021-03-29  2021-03  2021-03-29/2021-04-04\n",
       "7  100185778   2021-03-02  2021-03  2021-03-01/2021-03-07\n",
       "8   10020618   2021-02-17  2021-02  2021-02-15/2021-02-21\n",
       "9  100212706   2021-03-09  2021-03  2021-03-08/2021-03-14"
      ]
     },
     "execution_count": 30,
     "metadata": {},
     "output_type": "execute_result"
    }
   ],
   "source": [
    "q1_date_update.head(10)"
   ]
  },
  {
   "cell_type": "markdown",
   "metadata": {},
   "source": [
    "## Prepared subset of data set "
   ]
  },
  {
   "cell_type": "code",
   "execution_count": 31,
   "metadata": {},
   "outputs": [
    {
     "data": {
      "text/html": [
       "<div>\n",
       "<style scoped>\n",
       "    .dataframe tbody tr th:only-of-type {\n",
       "        vertical-align: middle;\n",
       "    }\n",
       "\n",
       "    .dataframe tbody tr th {\n",
       "        vertical-align: top;\n",
       "    }\n",
       "\n",
       "    .dataframe thead th {\n",
       "        text-align: right;\n",
       "    }\n",
       "</style>\n",
       "<table border=\"1\" class=\"dataframe\">\n",
       "  <thead>\n",
       "    <tr style=\"text-align: right;\">\n",
       "      <th></th>\n",
       "      <th>CNUM</th>\n",
       "      <th>INTERACTION_TYPE</th>\n",
       "      <th>DIRECTION</th>\n",
       "      <th>STATUS</th>\n",
       "      <th>DATE_START</th>\n",
       "      <th>DATE_END</th>\n",
       "      <th>PARENT_TYPE</th>\n",
       "      <th>TAGS</th>\n",
       "      <th>DURATION</th>\n",
       "      <th>EMP_INTERNET_ID</th>\n",
       "      <th>EMP_FULL_NAME</th>\n",
       "      <th>ORG_NAME</th>\n",
       "      <th>SELLER_LEVEL_NAME</th>\n",
       "      <th>IOT_NAME</th>\n",
       "      <th>IMT_NAME</th>\n",
       "      <th>FMS_PRSN_LEVEL_1</th>\n",
       "      <th>EMPLOYEE_MGR_L1_NAME</th>\n",
       "      <th>LEVERAGE_GROUP</th>\n",
       "    </tr>\n",
       "  </thead>\n",
       "  <tbody>\n",
       "    <tr>\n",
       "      <th>0</th>\n",
       "      <td>1J6736897</td>\n",
       "      <td>Phone</td>\n",
       "      <td>Outbound</td>\n",
       "      <td>Held</td>\n",
       "      <td>2021-03-03 18:30:00</td>\n",
       "      <td>2021-03-03 19:00:00</td>\n",
       "      <td>Opportunities</td>\n",
       "      <td>NaN</td>\n",
       "      <td>30</td>\n",
       "      <td>Linda.Burke1@ibm.com</td>\n",
       "      <td>LINDA BURKE</td>\n",
       "      <td>AI Applications Portfolio</td>\n",
       "      <td>Non-Executive</td>\n",
       "      <td>Americas</td>\n",
       "      <td>US Distr Market</td>\n",
       "      <td>BRIDGET VAN KRALINGEN</td>\n",
       "      <td>Kevin Reese</td>\n",
       "      <td>POOL</td>\n",
       "    </tr>\n",
       "    <tr>\n",
       "      <th>1</th>\n",
       "      <td>R41242821</td>\n",
       "      <td>Phone</td>\n",
       "      <td>Outbound</td>\n",
       "      <td>Held</td>\n",
       "      <td>2021-03-10 10:00:00</td>\n",
       "      <td>2021-03-10 11:00:00</td>\n",
       "      <td>Accounts</td>\n",
       "      <td>NaN</td>\n",
       "      <td>0</td>\n",
       "      <td>Gostev.AV@ru.ibm.com</td>\n",
       "      <td>ALEXEY GOSTEV</td>\n",
       "      <td>Data and AI</td>\n",
       "      <td>Employee</td>\n",
       "      <td>EMEA</td>\n",
       "      <td>CEE Mkt</td>\n",
       "      <td>BRIDGET VAN KRALINGEN</td>\n",
       "      <td>Alexander Klimenkov</td>\n",
       "      <td>ABSOLUTE</td>\n",
       "    </tr>\n",
       "    <tr>\n",
       "      <th>2</th>\n",
       "      <td>75610655</td>\n",
       "      <td>Phone</td>\n",
       "      <td>Outbound</td>\n",
       "      <td>Held</td>\n",
       "      <td>2021-03-03 16:00:00</td>\n",
       "      <td>2021-03-03 16:30:00</td>\n",
       "      <td>Accounts</td>\n",
       "      <td>NaN</td>\n",
       "      <td>30</td>\n",
       "      <td>cpenailillob@ibm.com</td>\n",
       "      <td>CAMILA IGNACIA PENAILILLO</td>\n",
       "      <td>Data and AI</td>\n",
       "      <td>Employee</td>\n",
       "      <td>Americas</td>\n",
       "      <td>Latin America Mkt</td>\n",
       "      <td>BRIDGET VAN KRALINGEN</td>\n",
       "      <td>Santiago Diego Sibils Ramos</td>\n",
       "      <td>ABSOLUTE</td>\n",
       "    </tr>\n",
       "    <tr>\n",
       "      <th>3</th>\n",
       "      <td>101722778</td>\n",
       "      <td>Video</td>\n",
       "      <td>Outbound</td>\n",
       "      <td>Held</td>\n",
       "      <td>2021-03-03 08:00:00</td>\n",
       "      <td>2021-03-03 09:00:00</td>\n",
       "      <td>soc_businesspartners</td>\n",
       "      <td>NaN</td>\n",
       "      <td>0</td>\n",
       "      <td>limyc@my.ibm.com</td>\n",
       "      <td>YEE CHING LIM</td>\n",
       "      <td>Systems HW Server</td>\n",
       "      <td>Non-Executive</td>\n",
       "      <td>APAC</td>\n",
       "      <td>ASEAN Mkt</td>\n",
       "      <td>BRIDGET VAN KRALINGEN</td>\n",
       "      <td>CHOO KWOK GOH</td>\n",
       "      <td>POOL</td>\n",
       "    </tr>\n",
       "    <tr>\n",
       "      <th>4</th>\n",
       "      <td>2632U744</td>\n",
       "      <td>Video</td>\n",
       "      <td>Outbound</td>\n",
       "      <td>Held</td>\n",
       "      <td>2021-03-23 05:30:00</td>\n",
       "      <td>2021-03-23 08:00:00</td>\n",
       "      <td>Opportunities</td>\n",
       "      <td>NaN</td>\n",
       "      <td>30</td>\n",
       "      <td>NaN</td>\n",
       "      <td>NaN</td>\n",
       "      <td>NaN</td>\n",
       "      <td>NaN</td>\n",
       "      <td>NaN</td>\n",
       "      <td>NaN</td>\n",
       "      <td>NaN</td>\n",
       "      <td>NaN</td>\n",
       "      <td>NaN</td>\n",
       "    </tr>\n",
       "  </tbody>\n",
       "</table>\n",
       "</div>"
      ],
      "text/plain": [
       "        CNUM INTERACTION_TYPE DIRECTION STATUS           DATE_START  \\\n",
       "0  1J6736897            Phone  Outbound   Held  2021-03-03 18:30:00   \n",
       "1  R41242821            Phone  Outbound   Held  2021-03-10 10:00:00   \n",
       "2   75610655            Phone  Outbound   Held  2021-03-03 16:00:00   \n",
       "3  101722778            Video  Outbound   Held  2021-03-03 08:00:00   \n",
       "4   2632U744            Video  Outbound   Held  2021-03-23 05:30:00   \n",
       "\n",
       "              DATE_END           PARENT_TYPE TAGS  DURATION  \\\n",
       "0  2021-03-03 19:00:00         Opportunities  NaN        30   \n",
       "1  2021-03-10 11:00:00              Accounts  NaN         0   \n",
       "2  2021-03-03 16:30:00              Accounts  NaN        30   \n",
       "3  2021-03-03 09:00:00  soc_businesspartners  NaN         0   \n",
       "4  2021-03-23 08:00:00         Opportunities  NaN        30   \n",
       "\n",
       "        EMP_INTERNET_ID              EMP_FULL_NAME                   ORG_NAME  \\\n",
       "0  Linda.Burke1@ibm.com                LINDA BURKE  AI Applications Portfolio   \n",
       "1  Gostev.AV@ru.ibm.com              ALEXEY GOSTEV                Data and AI   \n",
       "2  cpenailillob@ibm.com  CAMILA IGNACIA PENAILILLO                Data and AI   \n",
       "3      limyc@my.ibm.com              YEE CHING LIM          Systems HW Server   \n",
       "4                   NaN                        NaN                        NaN   \n",
       "\n",
       "  SELLER_LEVEL_NAME  IOT_NAME           IMT_NAME       FMS_PRSN_LEVEL_1  \\\n",
       "0     Non-Executive  Americas    US Distr Market  BRIDGET VAN KRALINGEN   \n",
       "1          Employee      EMEA            CEE Mkt  BRIDGET VAN KRALINGEN   \n",
       "2          Employee  Americas  Latin America Mkt  BRIDGET VAN KRALINGEN   \n",
       "3     Non-Executive      APAC          ASEAN Mkt  BRIDGET VAN KRALINGEN   \n",
       "4               NaN       NaN                NaN                    NaN   \n",
       "\n",
       "          EMPLOYEE_MGR_L1_NAME LEVERAGE_GROUP  \n",
       "0                  Kevin Reese           POOL  \n",
       "1          Alexander Klimenkov       ABSOLUTE  \n",
       "2  Santiago Diego Sibils Ramos       ABSOLUTE  \n",
       "3                CHOO KWOK GOH           POOL  \n",
       "4                          NaN            NaN  "
      ]
     },
     "execution_count": 31,
     "metadata": {},
     "output_type": "execute_result"
    }
   ],
   "source": [
    "# Subset of data whihc  variables are need for our analysis \n",
    "q1_prune = qtr1_call .iloc[ : , [7,8,9,10,11,12,16,18,19,23,24,25,32,36,38,56,72,82]] \n",
    "q1_prune.head()"
   ]
  },
  {
   "cell_type": "code",
   "execution_count": 467,
   "metadata": {},
   "outputs": [
    {
     "data": {
      "text/plain": [
       "CNUM                    8207633\n",
       "INTERACTION_TYPE        7983541\n",
       "DIRECTION               8207410\n",
       "STATUS                  8208565\n",
       "DATE_START              8208565\n",
       "DATE_END                8208565\n",
       "PARENT_TYPE             8155040\n",
       "TAGS                    2103314\n",
       "DURATION                8208565\n",
       "EMP_INTERNET_ID         7260356\n",
       "EMP_FULL_NAME           7256801\n",
       "ORG_NAME                7260356\n",
       "SELLER_LEVEL_NAME       7260356\n",
       "IOT_NAME                7260356\n",
       "IMT_NAME                7260356\n",
       "FMS_PRSN_LEVEL_1        6432358\n",
       "EMPLOYEE_MGR_L1_NAME    7244105\n",
       "LEVERAGE_GROUP          7260356\n",
       "dtype: int64"
      ]
     },
     "execution_count": 467,
     "metadata": {},
     "output_type": "execute_result"
    }
   ],
   "source": [
    "q1_prune.count()"
   ]
  },
  {
   "cell_type": "code",
   "execution_count": 468,
   "metadata": {},
   "outputs": [],
   "source": [
    "# Final merged data \n",
    "dt_mrg= pd.merge(q1_prune, q1_date_update, on ='CNUM',how='left')"
   ]
  },
  {
   "cell_type": "code",
   "execution_count": 469,
   "metadata": {
    "scrolled": false
   },
   "outputs": [
    {
     "data": {
      "text/plain": [
       "CNUM                    8207633\n",
       "INTERACTION_TYPE        7983541\n",
       "DIRECTION               8207410\n",
       "STATUS                  8208565\n",
       "DATE_START              8208565\n",
       "DATE_END                8208565\n",
       "PARENT_TYPE             8155040\n",
       "TAGS                    2103314\n",
       "DURATION                8208565\n",
       "EMP_INTERNET_ID         7260356\n",
       "EMP_FULL_NAME           7256801\n",
       "ORG_NAME                7260356\n",
       "SELLER_LEVEL_NAME       7260356\n",
       "IOT_NAME                7260356\n",
       "IMT_NAME                7260356\n",
       "FMS_PRSN_LEVEL_1        6432358\n",
       "EMPLOYEE_MGR_L1_NAME    7244105\n",
       "LEVERAGE_GROUP          7260356\n",
       "DATE_START_f            8207633\n",
       "MONTH                   8207633\n",
       "WEEK                    8207633\n",
       "dtype: int64"
      ]
     },
     "execution_count": 469,
     "metadata": {},
     "output_type": "execute_result"
    }
   ],
   "source": [
    "dt_mrg.count()"
   ]
  },
  {
   "cell_type": "markdown",
   "metadata": {},
   "source": [
    "## Importing sales revenue data "
   ]
  },
  {
   "cell_type": "code",
   "execution_count": 470,
   "metadata": {},
   "outputs": [],
   "source": [
    "flm_rev = pd.read_excel('C:/Users/SuprasannaPradhan/Documents/DIA/PQ_ALL_Seller_Detail_041521.xlsx')\n",
    "# flm_rev = pd.read_excel('users.xlsx', sheet_name = [0,1,2])"
   ]
  },
  {
   "cell_type": "code",
   "execution_count": 471,
   "metadata": {},
   "outputs": [
    {
     "data": {
      "text/html": [
       "<div>\n",
       "<style scoped>\n",
       "    .dataframe tbody tr th:only-of-type {\n",
       "        vertical-align: middle;\n",
       "    }\n",
       "\n",
       "    .dataframe tbody tr th {\n",
       "        vertical-align: top;\n",
       "    }\n",
       "\n",
       "    .dataframe thead th {\n",
       "        text-align: right;\n",
       "    }\n",
       "</style>\n",
       "<table border=\"1\" class=\"dataframe\">\n",
       "  <thead>\n",
       "    <tr style=\"text-align: right;\">\n",
       "      <th></th>\n",
       "      <th>Group</th>\n",
       "      <th>Grp</th>\n",
       "      <th>Geo</th>\n",
       "      <th>Mkt</th>\n",
       "      <th>Serial No</th>\n",
       "      <th>Seller</th>\n",
       "      <th>FLM</th>\n",
       "      <th>Sub Brand</th>\n",
       "      <th>Sales Role</th>\n",
       "      <th>Segment</th>\n",
       "      <th>...</th>\n",
       "      <th>WSR$</th>\n",
       "      <th>WSR +KS$</th>\n",
       "      <th>No ValPipe</th>\n",
       "      <th>No WSR</th>\n",
       "      <th>No WSR +KS</th>\n",
       "      <th>WSR +KS&lt; 5 ops</th>\n",
       "      <th>WSR&lt; $50K</th>\n",
       "      <th>WSR&lt; $100K</th>\n",
       "      <th>WSR&lt; $250K</th>\n",
       "      <th>WSR&lt; $500K</th>\n",
       "    </tr>\n",
       "  </thead>\n",
       "  <tbody>\n",
       "    <tr>\n",
       "      <th>0</th>\n",
       "      <td>Technology</td>\n",
       "      <td>Systems</td>\n",
       "      <td>AMER</td>\n",
       "      <td>US</td>\n",
       "      <td>0J1182897</td>\n",
       "      <td>Ashley Oswald/US/IBM@IBM</td>\n",
       "      <td>Cary Binz/Raleigh/IBM@IBM</td>\n",
       "      <td>Systems HW Server</td>\n",
       "      <td>Brand Sales Partner Specialist (BSPS)  Server ...</td>\n",
       "      <td>Segment 2</td>\n",
       "      <td>...</td>\n",
       "      <td>-</td>\n",
       "      <td>-</td>\n",
       "      <td>1</td>\n",
       "      <td>1</td>\n",
       "      <td>1</td>\n",
       "      <td>1</td>\n",
       "      <td>-</td>\n",
       "      <td>-</td>\n",
       "      <td>-</td>\n",
       "      <td>-</td>\n",
       "    </tr>\n",
       "    <tr>\n",
       "      <th>1</th>\n",
       "      <td>Technology</td>\n",
       "      <td>Systems</td>\n",
       "      <td>AMER</td>\n",
       "      <td>US</td>\n",
       "      <td>241587897</td>\n",
       "      <td>Joe Broadway/Dallas/IBM@IBM</td>\n",
       "      <td>Chris Winters/Atlanta/IBM@IBM</td>\n",
       "      <td>Systems HW Server</td>\n",
       "      <td>Brand Sales Partner Specialist (BSPS)  Power D...</td>\n",
       "      <td>Shared</td>\n",
       "      <td>...</td>\n",
       "      <td>0.058</td>\n",
       "      <td>0.058</td>\n",
       "      <td>-</td>\n",
       "      <td>-</td>\n",
       "      <td>-</td>\n",
       "      <td>1</td>\n",
       "      <td>-</td>\n",
       "      <td>1</td>\n",
       "      <td>1</td>\n",
       "      <td>1</td>\n",
       "    </tr>\n",
       "  </tbody>\n",
       "</table>\n",
       "<p>2 rows × 21 columns</p>\n",
       "</div>"
      ],
      "text/plain": [
       "        Group      Grp   Geo Mkt  Serial No                       Seller  \\\n",
       "0  Technology  Systems  AMER  US  0J1182897     Ashley Oswald/US/IBM@IBM   \n",
       "1  Technology  Systems  AMER  US  241587897  Joe Broadway/Dallas/IBM@IBM   \n",
       "\n",
       "                             FLM          Sub Brand  \\\n",
       "0      Cary Binz/Raleigh/IBM@IBM  Systems HW Server   \n",
       "1  Chris Winters/Atlanta/IBM@IBM  Systems HW Server   \n",
       "\n",
       "                                          Sales Role    Segment  ...   WSR$  \\\n",
       "0  Brand Sales Partner Specialist (BSPS)  Server ...  Segment 2  ...      -   \n",
       "1  Brand Sales Partner Specialist (BSPS)  Power D...     Shared  ...  0.058   \n",
       "\n",
       "  WSR +KS$ No ValPipe No WSR No WSR +KS WSR +KS< 5 ops WSR< $50K WSR< $100K  \\\n",
       "0        -          1      1          1              1         -          -   \n",
       "1    0.058          -      -          -              1         -          1   \n",
       "\n",
       "  WSR< $250K WSR< $500K  \n",
       "0          -          -  \n",
       "1          1          1  \n",
       "\n",
       "[2 rows x 21 columns]"
      ]
     },
     "execution_count": 471,
     "metadata": {},
     "output_type": "execute_result"
    }
   ],
   "source": [
    "flm_rev.head(2)"
   ]
  },
  {
   "cell_type": "markdown",
   "metadata": {},
   "source": [
    "## Seperating Employee names from the  eamil id "
   ]
  },
  {
   "cell_type": "code",
   "execution_count": 472,
   "metadata": {},
   "outputs": [],
   "source": [
    "# Seperating employee name from eemail id \n",
    "flm_rev[['EMP_FULL_NAME','COUNTRY_EMP','OTHER_EMP','NONE_EMP']] = flm_rev.Seller.str.split(\"/\",expand=True)\n",
    "# Seperating FLM  name from  eemail id \n",
    "flm_rev[['EMPLOYEE_MGR_L1_NAME ','COUNTRY_MGR','OTHER_MGR']] = flm_rev.FLM.str.split(\"/\",expand=True)"
   ]
  },
  {
   "cell_type": "code",
   "execution_count": 473,
   "metadata": {},
   "outputs": [
    {
     "name": "stdout",
     "output_type": "stream",
     "text": [
      "<class 'pandas.core.frame.DataFrame'>\n",
      "RangeIndex: 4305 entries, 0 to 4304\n",
      "Data columns (total 28 columns):\n",
      " #   Column                 Non-Null Count  Dtype \n",
      "---  ------                 --------------  ----- \n",
      " 0   Group                  4305 non-null   object\n",
      " 1   Grp                    4305 non-null   object\n",
      " 2   Geo                    4305 non-null   object\n",
      " 3   Mkt                    4305 non-null   object\n",
      " 4   Serial No              4297 non-null   object\n",
      " 5   Seller                 4305 non-null   object\n",
      " 6   FLM                    4303 non-null   object\n",
      " 7   Sub Brand              4305 non-null   object\n",
      " 8   Sales Role             4305 non-null   object\n",
      " 9   Segment                4305 non-null   object\n",
      " 10  Val Pipe$              4305 non-null   object\n",
      " 11  WSR$                   4305 non-null   object\n",
      " 12  WSR +KS$               4305 non-null   object\n",
      " 13  No ValPipe             4305 non-null   object\n",
      " 14  No WSR                 4305 non-null   object\n",
      " 15  No WSR +KS             4305 non-null   object\n",
      " 16  WSR +KS< 5 ops         4305 non-null   object\n",
      " 17  WSR< $50K              4305 non-null   object\n",
      " 18  WSR< $100K             4305 non-null   object\n",
      " 19  WSR< $250K             4305 non-null   object\n",
      " 20  WSR< $500K             4305 non-null   object\n",
      " 21  EMP_FULL_NAME          4305 non-null   object\n",
      " 22  COUNTRY_EMP            4305 non-null   object\n",
      " 23  OTHER_EMP              4305 non-null   object\n",
      " 24  NONE_EMP               1 non-null      object\n",
      " 25  EMPLOYEE_MGR_L1_NAME   4303 non-null   object\n",
      " 26  COUNTRY_MGR            4303 non-null   object\n",
      " 27  OTHER_MGR              4303 non-null   object\n",
      "dtypes: object(28)\n",
      "memory usage: 941.8+ KB\n"
     ]
    }
   ],
   "source": [
    "flm_rev.info()"
   ]
  },
  {
   "cell_type": "markdown",
   "metadata": {},
   "source": [
    "## Subset of revenue data "
   ]
  },
  {
   "cell_type": "code",
   "execution_count": 474,
   "metadata": {},
   "outputs": [],
   "source": [
    "q1_rev = flm_rev.iloc[ : , [21,10,7,9,2,3,25]] "
   ]
  },
  {
   "cell_type": "code",
   "execution_count": 475,
   "metadata": {},
   "outputs": [],
   "source": [
    "q1_rev[\"EMP_FULL_NAME\"] = q1_rev[\"EMP_FULL_NAME\"].str.upper()"
   ]
  },
  {
   "cell_type": "code",
   "execution_count": 476,
   "metadata": {},
   "outputs": [
    {
     "data": {
      "text/html": [
       "<div>\n",
       "<style scoped>\n",
       "    .dataframe tbody tr th:only-of-type {\n",
       "        vertical-align: middle;\n",
       "    }\n",
       "\n",
       "    .dataframe tbody tr th {\n",
       "        vertical-align: top;\n",
       "    }\n",
       "\n",
       "    .dataframe thead th {\n",
       "        text-align: right;\n",
       "    }\n",
       "</style>\n",
       "<table border=\"1\" class=\"dataframe\">\n",
       "  <thead>\n",
       "    <tr style=\"text-align: right;\">\n",
       "      <th></th>\n",
       "      <th>EMP_FULL_NAME</th>\n",
       "      <th>Val Pipe$</th>\n",
       "      <th>Sub Brand</th>\n",
       "      <th>Segment</th>\n",
       "      <th>Geo</th>\n",
       "      <th>Mkt</th>\n",
       "      <th>EMPLOYEE_MGR_L1_NAME</th>\n",
       "    </tr>\n",
       "  </thead>\n",
       "  <tbody>\n",
       "    <tr>\n",
       "      <th>0</th>\n",
       "      <td>ASHLEY OSWALD</td>\n",
       "      <td>-</td>\n",
       "      <td>Systems HW Server</td>\n",
       "      <td>Segment 2</td>\n",
       "      <td>AMER</td>\n",
       "      <td>US</td>\n",
       "      <td>Cary Binz</td>\n",
       "    </tr>\n",
       "    <tr>\n",
       "      <th>1</th>\n",
       "      <td>JOE BROADWAY</td>\n",
       "      <td>0.058</td>\n",
       "      <td>Systems HW Server</td>\n",
       "      <td>Shared</td>\n",
       "      <td>AMER</td>\n",
       "      <td>US</td>\n",
       "      <td>Chris Winters</td>\n",
       "    </tr>\n",
       "    <tr>\n",
       "      <th>2</th>\n",
       "      <td>CAROLINE CASSIDY</td>\n",
       "      <td>-</td>\n",
       "      <td>Systems HW Storage</td>\n",
       "      <td>Segment 2</td>\n",
       "      <td>AMER</td>\n",
       "      <td>US</td>\n",
       "      <td>Chris Winters</td>\n",
       "    </tr>\n",
       "    <tr>\n",
       "      <th>3</th>\n",
       "      <td>PAULA BOSLEY</td>\n",
       "      <td>-</td>\n",
       "      <td>Systems HW Storage</td>\n",
       "      <td>Segment 1</td>\n",
       "      <td>AMER</td>\n",
       "      <td>US</td>\n",
       "      <td>Chris Winters</td>\n",
       "    </tr>\n",
       "    <tr>\n",
       "      <th>4</th>\n",
       "      <td>MARCEL LEWIS</td>\n",
       "      <td>-</td>\n",
       "      <td>Systems HW Server</td>\n",
       "      <td>Segment 2</td>\n",
       "      <td>AMER</td>\n",
       "      <td>US</td>\n",
       "      <td>David Adams</td>\n",
       "    </tr>\n",
       "  </tbody>\n",
       "</table>\n",
       "</div>"
      ],
      "text/plain": [
       "      EMP_FULL_NAME Val Pipe$           Sub Brand    Segment   Geo Mkt  \\\n",
       "0     ASHLEY OSWALD         -   Systems HW Server  Segment 2  AMER  US   \n",
       "1      JOE BROADWAY     0.058   Systems HW Server     Shared  AMER  US   \n",
       "2  CAROLINE CASSIDY         -  Systems HW Storage  Segment 2  AMER  US   \n",
       "3      PAULA BOSLEY         -  Systems HW Storage  Segment 1  AMER  US   \n",
       "4      MARCEL LEWIS         -   Systems HW Server  Segment 2  AMER  US   \n",
       "\n",
       "  EMPLOYEE_MGR_L1_NAME   \n",
       "0             Cary Binz  \n",
       "1         Chris Winters  \n",
       "2         Chris Winters  \n",
       "3         Chris Winters  \n",
       "4           David Adams  "
      ]
     },
     "execution_count": 476,
     "metadata": {},
     "output_type": "execute_result"
    }
   ],
   "source": [
    "q1_rev.head()"
   ]
  },
  {
   "cell_type": "code",
   "execution_count": 477,
   "metadata": {},
   "outputs": [
    {
     "data": {
      "text/plain": [
       "EMP_FULL_NAME            4305\n",
       "Val Pipe$                4305\n",
       "Sub Brand                4305\n",
       "Segment                  4305\n",
       "Geo                      4305\n",
       "Mkt                      4305\n",
       "EMPLOYEE_MGR_L1_NAME     4303\n",
       "dtype: int64"
      ]
     },
     "execution_count": 477,
     "metadata": {},
     "output_type": "execute_result"
    }
   ],
   "source": [
    "q1_rev.count()"
   ]
  },
  {
   "cell_type": "markdown",
   "metadata": {},
   "source": [
    "## Data set for call duration "
   ]
  },
  {
   "cell_type": "code",
   "execution_count": 478,
   "metadata": {},
   "outputs": [],
   "source": [
    "dt_grp = dt_mrg.groupby(['EMP_FULL_NAME']).sum()['DURATION'].reset_index()\n",
    "dt_grp.to_csv (r'C:/Users/SuprasannaPradhan/Documents/DIA/dt_grp.csv', index = False, header=True)"
   ]
  },
  {
   "cell_type": "code",
   "execution_count": 479,
   "metadata": {},
   "outputs": [],
   "source": [
    "# # dropping ALL duplicte values\n",
    "# dt_grp.sort_values(\"EMP_FULL_NAME\", inplace = True) \n",
    "# dt_grp.drop_duplicates(subset =\"EMP_FULL_NAME\",\n",
    "#                      keep = False, inplace = True)"
   ]
  },
  {
   "cell_type": "code",
   "execution_count": 480,
   "metadata": {},
   "outputs": [
    {
     "data": {
      "text/html": [
       "<div>\n",
       "<style scoped>\n",
       "    .dataframe tbody tr th:only-of-type {\n",
       "        vertical-align: middle;\n",
       "    }\n",
       "\n",
       "    .dataframe tbody tr th {\n",
       "        vertical-align: top;\n",
       "    }\n",
       "\n",
       "    .dataframe thead th {\n",
       "        text-align: right;\n",
       "    }\n",
       "</style>\n",
       "<table border=\"1\" class=\"dataframe\">\n",
       "  <thead>\n",
       "    <tr style=\"text-align: right;\">\n",
       "      <th></th>\n",
       "      <th>EMP_FULL_NAME</th>\n",
       "      <th>DURATION</th>\n",
       "    </tr>\n",
       "  </thead>\n",
       "  <tbody>\n",
       "    <tr>\n",
       "      <th>0</th>\n",
       "      <td>A RAM UM</td>\n",
       "      <td>46770</td>\n",
       "    </tr>\n",
       "    <tr>\n",
       "      <th>1</th>\n",
       "      <td>AADIL LAGHZAOUI</td>\n",
       "      <td>21510</td>\n",
       "    </tr>\n",
       "  </tbody>\n",
       "</table>\n",
       "</div>"
      ],
      "text/plain": [
       "     EMP_FULL_NAME  DURATION\n",
       "0         A RAM UM     46770\n",
       "1  AADIL LAGHZAOUI     21510"
      ]
     },
     "execution_count": 480,
     "metadata": {},
     "output_type": "execute_result"
    }
   ],
   "source": [
    "dt_grp.head(2)"
   ]
  },
  {
   "cell_type": "code",
   "execution_count": 490,
   "metadata": {},
   "outputs": [],
   "source": [
    "cn_grp = dt_mrg.pivot_table(index=['CNUM','EMP_FULL_NAME','MONTH','WEEK'],values=['DURATION'], aggfunc='sum')\n",
    "cn_grp = cn_grp.reset_index() \n",
    "cn_grp['Call_Hours'] =(cn_grp['DURATION']/60)\n",
    "cn_grp= cn_grp.sort_values('Call_Hours',ascending=False).reset_index(drop=True)"
   ]
  },
  {
   "cell_type": "code",
   "execution_count": 491,
   "metadata": {},
   "outputs": [
    {
     "data": {
      "text/html": [
       "<div>\n",
       "<style scoped>\n",
       "    .dataframe tbody tr th:only-of-type {\n",
       "        vertical-align: middle;\n",
       "    }\n",
       "\n",
       "    .dataframe tbody tr th {\n",
       "        vertical-align: top;\n",
       "    }\n",
       "\n",
       "    .dataframe thead th {\n",
       "        text-align: right;\n",
       "    }\n",
       "</style>\n",
       "<table border=\"1\" class=\"dataframe\">\n",
       "  <thead>\n",
       "    <tr style=\"text-align: right;\">\n",
       "      <th></th>\n",
       "      <th>CNUM</th>\n",
       "      <th>EMP_FULL_NAME</th>\n",
       "      <th>MONTH</th>\n",
       "      <th>WEEK</th>\n",
       "      <th>DURATION</th>\n",
       "      <th>Call_Hours</th>\n",
       "    </tr>\n",
       "  </thead>\n",
       "  <tbody>\n",
       "    <tr>\n",
       "      <th>0</th>\n",
       "      <td>I81713754</td>\n",
       "      <td>CLARA OGWUAZOR MBAMALU</td>\n",
       "      <td>2021-03</td>\n",
       "      <td>2021-03-08/2021-03-14</td>\n",
       "      <td>516210</td>\n",
       "      <td>8603.50</td>\n",
       "    </tr>\n",
       "    <tr>\n",
       "      <th>1</th>\n",
       "      <td>I00339754</td>\n",
       "      <td>GLENN DARCY</td>\n",
       "      <td>2021-03</td>\n",
       "      <td>2021-03-01/2021-03-07</td>\n",
       "      <td>468840</td>\n",
       "      <td>7814.00</td>\n",
       "    </tr>\n",
       "    <tr>\n",
       "      <th>2</th>\n",
       "      <td>107372778</td>\n",
       "      <td>JAGATHESYWARA GOOPAALAN</td>\n",
       "      <td>2021-03</td>\n",
       "      <td>2021-03-08/2021-03-14</td>\n",
       "      <td>464550</td>\n",
       "      <td>7742.50</td>\n",
       "    </tr>\n",
       "    <tr>\n",
       "      <th>3</th>\n",
       "      <td>ZZ02DZ834</td>\n",
       "      <td>AQULIA ZIXUAN NG</td>\n",
       "      <td>2021-03</td>\n",
       "      <td>2021-03-01/2021-03-07</td>\n",
       "      <td>425250</td>\n",
       "      <td>7087.50</td>\n",
       "    </tr>\n",
       "    <tr>\n",
       "      <th>4</th>\n",
       "      <td>I01371754</td>\n",
       "      <td>VALERIE KNIBBELER</td>\n",
       "      <td>2021-03</td>\n",
       "      <td>2021-03-01/2021-03-07</td>\n",
       "      <td>366975</td>\n",
       "      <td>6116.25</td>\n",
       "    </tr>\n",
       "  </tbody>\n",
       "</table>\n",
       "</div>"
      ],
      "text/plain": [
       "        CNUM            EMP_FULL_NAME    MONTH                   WEEK  \\\n",
       "0  I81713754   CLARA OGWUAZOR MBAMALU  2021-03  2021-03-08/2021-03-14   \n",
       "1  I00339754              GLENN DARCY  2021-03  2021-03-01/2021-03-07   \n",
       "2  107372778  JAGATHESYWARA GOOPAALAN  2021-03  2021-03-08/2021-03-14   \n",
       "3  ZZ02DZ834         AQULIA ZIXUAN NG  2021-03  2021-03-01/2021-03-07   \n",
       "4  I01371754        VALERIE KNIBBELER  2021-03  2021-03-01/2021-03-07   \n",
       "\n",
       "   DURATION  Call_Hours  \n",
       "0    516210     8603.50  \n",
       "1    468840     7814.00  \n",
       "2    464550     7742.50  \n",
       "3    425250     7087.50  \n",
       "4    366975     6116.25  "
      ]
     },
     "execution_count": 491,
     "metadata": {},
     "output_type": "execute_result"
    }
   ],
   "source": [
    "cn_grp.head()"
   ]
  },
  {
   "cell_type": "markdown",
   "metadata": {},
   "source": [
    "## Data set for number of calls"
   ]
  },
  {
   "cell_type": "code",
   "execution_count": 382,
   "metadata": {},
   "outputs": [],
   "source": [
    "q1_grp = dt_mrg.pivot_table(index=['EMP_FULL_NAME'], values=['DURATION'], aggfunc='count')\n",
    "q1_grp = q1_grp.reset_index() \n",
    "q1_grp = q1_grp.rename(columns={'DURATION': 'Number_Of_Calls'})"
   ]
  },
  {
   "cell_type": "code",
   "execution_count": 383,
   "metadata": {},
   "outputs": [
    {
     "data": {
      "text/html": [
       "<div>\n",
       "<style scoped>\n",
       "    .dataframe tbody tr th:only-of-type {\n",
       "        vertical-align: middle;\n",
       "    }\n",
       "\n",
       "    .dataframe tbody tr th {\n",
       "        vertical-align: top;\n",
       "    }\n",
       "\n",
       "    .dataframe thead th {\n",
       "        text-align: right;\n",
       "    }\n",
       "</style>\n",
       "<table border=\"1\" class=\"dataframe\">\n",
       "  <thead>\n",
       "    <tr style=\"text-align: right;\">\n",
       "      <th></th>\n",
       "      <th>EMP_FULL_NAME</th>\n",
       "      <th>Number_Of_Calls</th>\n",
       "    </tr>\n",
       "  </thead>\n",
       "  <tbody>\n",
       "    <tr>\n",
       "      <th>0</th>\n",
       "      <td>A RAM UM</td>\n",
       "      <td>1559</td>\n",
       "    </tr>\n",
       "    <tr>\n",
       "      <th>1</th>\n",
       "      <td>AADIL LAGHZAOUI</td>\n",
       "      <td>1196</td>\n",
       "    </tr>\n",
       "    <tr>\n",
       "      <th>2</th>\n",
       "      <td>AALISHAN MOOSAVI</td>\n",
       "      <td>68</td>\n",
       "    </tr>\n",
       "    <tr>\n",
       "      <th>3</th>\n",
       "      <td>AARON BROWN</td>\n",
       "      <td>994</td>\n",
       "    </tr>\n",
       "    <tr>\n",
       "      <th>4</th>\n",
       "      <td>AARON FIELD</td>\n",
       "      <td>129</td>\n",
       "    </tr>\n",
       "    <tr>\n",
       "      <th>5</th>\n",
       "      <td>AARON HUI</td>\n",
       "      <td>405</td>\n",
       "    </tr>\n",
       "    <tr>\n",
       "      <th>6</th>\n",
       "      <td>AARON LOPEZ</td>\n",
       "      <td>563</td>\n",
       "    </tr>\n",
       "    <tr>\n",
       "      <th>7</th>\n",
       "      <td>AARON NICHOLS</td>\n",
       "      <td>1509</td>\n",
       "    </tr>\n",
       "    <tr>\n",
       "      <th>8</th>\n",
       "      <td>AARON TALAVERA DIAZ</td>\n",
       "      <td>277</td>\n",
       "    </tr>\n",
       "    <tr>\n",
       "      <th>9</th>\n",
       "      <td>ABBEY HAGIN</td>\n",
       "      <td>806</td>\n",
       "    </tr>\n",
       "  </tbody>\n",
       "</table>\n",
       "</div>"
      ],
      "text/plain": [
       "         EMP_FULL_NAME  Number_Of_Calls\n",
       "0             A RAM UM             1559\n",
       "1      AADIL LAGHZAOUI             1196\n",
       "2     AALISHAN MOOSAVI               68\n",
       "3          AARON BROWN              994\n",
       "4          AARON FIELD              129\n",
       "5            AARON HUI              405\n",
       "6          AARON LOPEZ              563\n",
       "7        AARON NICHOLS             1509\n",
       "8  AARON TALAVERA DIAZ              277\n",
       "9          ABBEY HAGIN              806"
      ]
     },
     "execution_count": 383,
     "metadata": {},
     "output_type": "execute_result"
    }
   ],
   "source": [
    "q1_grp.head(10)"
   ]
  },
  {
   "cell_type": "code",
   "execution_count": 384,
   "metadata": {},
   "outputs": [],
   "source": [
    "dt_grp=pd.merge(dt_grp,q1_grp,on='EMP_FULL_NAME',how='left')"
   ]
  },
  {
   "cell_type": "code",
   "execution_count": 385,
   "metadata": {},
   "outputs": [
    {
     "data": {
      "text/html": [
       "<div>\n",
       "<style scoped>\n",
       "    .dataframe tbody tr th:only-of-type {\n",
       "        vertical-align: middle;\n",
       "    }\n",
       "\n",
       "    .dataframe tbody tr th {\n",
       "        vertical-align: top;\n",
       "    }\n",
       "\n",
       "    .dataframe thead th {\n",
       "        text-align: right;\n",
       "    }\n",
       "</style>\n",
       "<table border=\"1\" class=\"dataframe\">\n",
       "  <thead>\n",
       "    <tr style=\"text-align: right;\">\n",
       "      <th></th>\n",
       "      <th>EMP_FULL_NAME</th>\n",
       "      <th>DURATION</th>\n",
       "      <th>Number_Of_Calls</th>\n",
       "    </tr>\n",
       "  </thead>\n",
       "  <tbody>\n",
       "    <tr>\n",
       "      <th>0</th>\n",
       "      <td>A RAM UM</td>\n",
       "      <td>46770</td>\n",
       "      <td>1559</td>\n",
       "    </tr>\n",
       "    <tr>\n",
       "      <th>1</th>\n",
       "      <td>AADIL LAGHZAOUI</td>\n",
       "      <td>21510</td>\n",
       "      <td>1196</td>\n",
       "    </tr>\n",
       "    <tr>\n",
       "      <th>2</th>\n",
       "      <td>AALISHAN MOOSAVI</td>\n",
       "      <td>1365</td>\n",
       "      <td>68</td>\n",
       "    </tr>\n",
       "    <tr>\n",
       "      <th>3</th>\n",
       "      <td>AARON BROWN</td>\n",
       "      <td>27630</td>\n",
       "      <td>994</td>\n",
       "    </tr>\n",
       "    <tr>\n",
       "      <th>4</th>\n",
       "      <td>AARON FIELD</td>\n",
       "      <td>3420</td>\n",
       "      <td>129</td>\n",
       "    </tr>\n",
       "  </tbody>\n",
       "</table>\n",
       "</div>"
      ],
      "text/plain": [
       "      EMP_FULL_NAME  DURATION  Number_Of_Calls\n",
       "0          A RAM UM     46770             1559\n",
       "1   AADIL LAGHZAOUI     21510             1196\n",
       "2  AALISHAN MOOSAVI      1365               68\n",
       "3       AARON BROWN     27630              994\n",
       "4       AARON FIELD      3420              129"
      ]
     },
     "execution_count": 385,
     "metadata": {},
     "output_type": "execute_result"
    }
   ],
   "source": [
    "dt_grp.head()"
   ]
  },
  {
   "cell_type": "code",
   "execution_count": 386,
   "metadata": {},
   "outputs": [],
   "source": [
    "# # Creating the merging ID: this column is created with combination of Revenue and call duraton data ,\n",
    "# dt_rev['MERGING_ID'] = dt_rev['EMP_FULL_NAME'].map(str) + dt_rev['EMPLOYEE_MGR_L1_NAME'].map(str)\n",
    "# dt_rev['MERGING_ID'] = dt_rev['EMP_FULL_NAME'].map(str) + dt_rev['EMPLOYEE_MGR_L1_NAME'].map(str)"
   ]
  },
  {
   "cell_type": "code",
   "execution_count": 387,
   "metadata": {},
   "outputs": [],
   "source": [
    "#merging revenue dataset \n",
    "dt_rev=pd.merge(dt_grp,q1_rev,on='EMP_FULL_NAME',how='left',indicator=True)\n",
    "dt_sale = pd.merge(q1_grp,q1_rev ,on='EMP_FULL_NAME',how='left',indicator=True)"
   ]
  },
  {
   "cell_type": "code",
   "execution_count": 388,
   "metadata": {},
   "outputs": [],
   "source": [
    "# dropping all duplicte values of names\n",
    "dt_rev.sort_values(\"EMP_FULL_NAME\", inplace = True) \n",
    "dt_rev.drop_duplicates(subset =\"EMP_FULL_NAME\",\n",
    "                     keep = False, inplace = True)\n"
   ]
  },
  {
   "cell_type": "code",
   "execution_count": 389,
   "metadata": {},
   "outputs": [
    {
     "data": {
      "text/plain": [
       "EMP_FULL_NAME            8287\n",
       "DURATION                 8287\n",
       "Number_Of_Calls          8287\n",
       "Val Pipe$                1934\n",
       "Sub Brand                1934\n",
       "Segment                  1934\n",
       "Geo                      1934\n",
       "Mkt                      1934\n",
       "EMPLOYEE_MGR_L1_NAME     1933\n",
       "_merge                   8287\n",
       "dtype: int64"
      ]
     },
     "execution_count": 389,
     "metadata": {},
     "output_type": "execute_result"
    }
   ],
   "source": [
    "dt_rev.count()"
   ]
  },
  {
   "cell_type": "markdown",
   "metadata": {},
   "source": [
    "## Call hours and sales revenue for period of 1st quarter(2021-01-01 to 2021-03-31)"
   ]
  },
  {
   "cell_type": "code",
   "execution_count": 390,
   "metadata": {},
   "outputs": [
    {
     "name": "stdout",
     "output_type": "stream",
     "text": [
      "<class 'pandas.core.frame.DataFrame'>\n",
      "Int64Index: 8287 entries, 0 to 8288\n",
      "Data columns (total 10 columns):\n",
      " #   Column                 Non-Null Count  Dtype   \n",
      "---  ------                 --------------  -----   \n",
      " 0   EMP_FULL_NAME          8287 non-null   object  \n",
      " 1   DURATION               8287 non-null   int64   \n",
      " 2   Number_Of_Calls        8287 non-null   int64   \n",
      " 3   Val Pipe$              1934 non-null   object  \n",
      " 4   Sub Brand              1934 non-null   object  \n",
      " 5   Segment                1934 non-null   object  \n",
      " 6   Geo                    1934 non-null   object  \n",
      " 7   Mkt                    1934 non-null   object  \n",
      " 8   EMPLOYEE_MGR_L1_NAME   1933 non-null   object  \n",
      " 9   _merge                 8287 non-null   category\n",
      "dtypes: category(1), int64(2), object(7)\n",
      "memory usage: 655.6+ KB\n"
     ]
    }
   ],
   "source": [
    "# Checking data set\n",
    "dt_rev.info()"
   ]
  },
  {
   "cell_type": "code",
   "execution_count": 391,
   "metadata": {},
   "outputs": [],
   "source": [
    "# Change columon name \n",
    "dt_rev = dt_rev.rename(columns={'EMP_FULL_NAME': 'SELLER','Val Pipe$':'REVENUE','Sub Brand':'Sub_Brand','DURATION':'Call_Minutes'})"
   ]
  },
  {
   "cell_type": "markdown",
   "metadata": {},
   "source": [
    "## Converting to numberic and creating actual amount of revenue columon¶"
   ]
  },
  {
   "cell_type": "code",
   "execution_count": 392,
   "metadata": {},
   "outputs": [
    {
     "name": "stdout",
     "output_type": "stream",
     "text": [
      "<class 'pandas.core.frame.DataFrame'>\n",
      "Int64Index: 8287 entries, 0 to 8288\n",
      "Data columns (total 10 columns):\n",
      " #   Column                 Non-Null Count  Dtype  \n",
      "---  ------                 --------------  -----  \n",
      " 0   SELLER                 8287 non-null   object \n",
      " 1   Call_Minutes           8287 non-null   int64  \n",
      " 2   Number_Of_Calls        8287 non-null   int64  \n",
      " 3   Sub_Brand              1934 non-null   object \n",
      " 4   Segment                1934 non-null   object \n",
      " 5   Geo                    1934 non-null   object \n",
      " 6   Mkt                    1934 non-null   object \n",
      " 7   EMPLOYEE_MGR_L1_NAME   1933 non-null   object \n",
      " 8   REV_AMT                8287 non-null   float64\n",
      " 9   Call_Hours             8287 non-null   float64\n",
      "dtypes: float64(2), int64(2), object(6)\n",
      "memory usage: 712.2+ KB\n"
     ]
    }
   ],
   "source": [
    "dt_rev['REV_AMT'] = pd.to_numeric(dt_rev['REVENUE'] *1000000, errors='coerce')\n",
    "mask = dt_rev['REV_AMT'].isna()\n",
    "dt_rev.loc[mask, 'Text'] = dt_rev.loc[mask,'REVENUE']\n",
    "dt_rev['REV_AMT'] = dt_rev['REV_AMT'].replace(np.nan, 0)\n",
    "dt_rev['Call_Hours'] =(dt_rev['Call_Minutes']/60)\n",
    "dt_rev = dt_rev.drop(columns=['_merge','Text','REVENUE'])\n",
    "dt_rev.info()"
   ]
  },
  {
   "cell_type": "code",
   "execution_count": 393,
   "metadata": {},
   "outputs": [
    {
     "data": {
      "text/html": [
       "<style type=\"text/css\">\n",
       "table.dataframe td, table.dataframe th {\n",
       "    border: 1px  black solid !important;\n",
       "  color: black !important;\n",
       "}\n",
       "</style>\n"
      ],
      "text/plain": [
       "<IPython.core.display.HTML object>"
      ]
     },
     "metadata": {},
     "output_type": "display_data"
    }
   ],
   "source": [
    "%%HTML\n",
    "<style type=\"text/css\">\n",
    "table.dataframe td, table.dataframe th {\n",
    "    border: 1px  black solid !important;\n",
    "  color: black !important;\n",
    "}\n",
    "</style>"
   ]
  },
  {
   "cell_type": "code",
   "execution_count": 394,
   "metadata": {},
   "outputs": [
    {
     "data": {
      "text/html": [
       "<div>\n",
       "<style scoped>\n",
       "    .dataframe tbody tr th:only-of-type {\n",
       "        vertical-align: middle;\n",
       "    }\n",
       "\n",
       "    .dataframe tbody tr th {\n",
       "        vertical-align: top;\n",
       "    }\n",
       "\n",
       "    .dataframe thead th {\n",
       "        text-align: right;\n",
       "    }\n",
       "</style>\n",
       "<table border=\"1\" class=\"dataframe\">\n",
       "  <thead>\n",
       "    <tr style=\"text-align: right;\">\n",
       "      <th></th>\n",
       "      <th>SELLER</th>\n",
       "      <th>Call_Minutes</th>\n",
       "      <th>Number_Of_Calls</th>\n",
       "      <th>Sub_Brand</th>\n",
       "      <th>Segment</th>\n",
       "      <th>Geo</th>\n",
       "      <th>Mkt</th>\n",
       "      <th>EMPLOYEE_MGR_L1_NAME</th>\n",
       "      <th>REV_AMT</th>\n",
       "      <th>Call_Hours</th>\n",
       "    </tr>\n",
       "  </thead>\n",
       "  <tbody>\n",
       "    <tr>\n",
       "      <th>0</th>\n",
       "      <td>A RAM UM</td>\n",
       "      <td>46770</td>\n",
       "      <td>1559</td>\n",
       "      <td>NaN</td>\n",
       "      <td>NaN</td>\n",
       "      <td>NaN</td>\n",
       "      <td>NaN</td>\n",
       "      <td>NaN</td>\n",
       "      <td>0.0</td>\n",
       "      <td>779.50</td>\n",
       "    </tr>\n",
       "    <tr>\n",
       "      <th>1</th>\n",
       "      <td>AADIL LAGHZAOUI</td>\n",
       "      <td>21510</td>\n",
       "      <td>1196</td>\n",
       "      <td>Systems HW Cross Brand</td>\n",
       "      <td>Segment 2</td>\n",
       "      <td>EMEA</td>\n",
       "      <td>MEA</td>\n",
       "      <td>Hicham Sbaa</td>\n",
       "      <td>634000.0</td>\n",
       "      <td>358.50</td>\n",
       "    </tr>\n",
       "    <tr>\n",
       "      <th>2</th>\n",
       "      <td>AALISHAN MOOSAVI</td>\n",
       "      <td>1365</td>\n",
       "      <td>68</td>\n",
       "      <td>NaN</td>\n",
       "      <td>NaN</td>\n",
       "      <td>NaN</td>\n",
       "      <td>NaN</td>\n",
       "      <td>NaN</td>\n",
       "      <td>0.0</td>\n",
       "      <td>22.75</td>\n",
       "    </tr>\n",
       "    <tr>\n",
       "      <th>3</th>\n",
       "      <td>AARON BROWN</td>\n",
       "      <td>27630</td>\n",
       "      <td>994</td>\n",
       "      <td>SW Crossbrand (non z)</td>\n",
       "      <td>Segment 2</td>\n",
       "      <td>AMER</td>\n",
       "      <td>PUB</td>\n",
       "      <td>Paula Buerkle</td>\n",
       "      <td>972000.0</td>\n",
       "      <td>460.50</td>\n",
       "    </tr>\n",
       "    <tr>\n",
       "      <th>4</th>\n",
       "      <td>AARON FIELD</td>\n",
       "      <td>3420</td>\n",
       "      <td>129</td>\n",
       "      <td>NaN</td>\n",
       "      <td>NaN</td>\n",
       "      <td>NaN</td>\n",
       "      <td>NaN</td>\n",
       "      <td>NaN</td>\n",
       "      <td>0.0</td>\n",
       "      <td>57.00</td>\n",
       "    </tr>\n",
       "  </tbody>\n",
       "</table>\n",
       "</div>"
      ],
      "text/plain": [
       "             SELLER  Call_Minutes  Number_Of_Calls               Sub_Brand  \\\n",
       "0          A RAM UM         46770             1559                     NaN   \n",
       "1   AADIL LAGHZAOUI         21510             1196  Systems HW Cross Brand   \n",
       "2  AALISHAN MOOSAVI          1365               68                     NaN   \n",
       "3       AARON BROWN         27630              994   SW Crossbrand (non z)   \n",
       "4       AARON FIELD          3420              129                     NaN   \n",
       "\n",
       "     Segment   Geo  Mkt EMPLOYEE_MGR_L1_NAME    REV_AMT  Call_Hours  \n",
       "0        NaN   NaN  NaN                   NaN       0.0      779.50  \n",
       "1  Segment 2  EMEA  MEA           Hicham Sbaa  634000.0      358.50  \n",
       "2        NaN   NaN  NaN                   NaN       0.0       22.75  \n",
       "3  Segment 2  AMER  PUB         Paula Buerkle  972000.0      460.50  \n",
       "4        NaN   NaN  NaN                   NaN       0.0       57.00  "
      ]
     },
     "execution_count": 394,
     "metadata": {},
     "output_type": "execute_result"
    }
   ],
   "source": [
    "dt_rev.head()"
   ]
  },
  {
   "cell_type": "markdown",
   "metadata": {},
   "source": [
    "##  Check Null values of revenue"
   ]
  },
  {
   "cell_type": "code",
   "execution_count": 395,
   "metadata": {},
   "outputs": [
    {
     "data": {
      "text/plain": [
       "SELLER                      0\n",
       "Call_Minutes                0\n",
       "Number_Of_Calls             0\n",
       "Sub_Brand                6353\n",
       "Segment                  6353\n",
       "Geo                      6353\n",
       "Mkt                      6353\n",
       "EMPLOYEE_MGR_L1_NAME     6354\n",
       "REV_AMT                     0\n",
       "Call_Hours                  0\n",
       "dtype: int64"
      ]
     },
     "execution_count": 395,
     "metadata": {},
     "output_type": "execute_result"
    }
   ],
   "source": [
    "# let us chekc the Null vlaues \n",
    "check_null=dt_rev.isnull().sum()\n",
    "check_null"
   ]
  },
  {
   "cell_type": "code",
   "execution_count": 396,
   "metadata": {},
   "outputs": [],
   "source": [
    "# #Replace with zero all Nan values\n",
    "# dt_rev.replace('-', np.nan, inplace=True) \n",
    "# dt_rev['REVENUE'] = dt_rev['REVENUE'].replace(np.nan, 0)\n",
    "# # dt_rev['CALLS_IN_MINUTES'] = dt_rev['CALLS_IN_MINUTES'].replace(np.nan, 0)"
   ]
  },
  {
   "cell_type": "code",
   "execution_count": 397,
   "metadata": {},
   "outputs": [],
   "source": [
    "# check_null=dt_rev['REVENUE'].isnull().sum()\n",
    "# check_null"
   ]
  },
  {
   "cell_type": "code",
   "execution_count": 398,
   "metadata": {},
   "outputs": [
    {
     "data": {
      "text/html": [
       "<div>\n",
       "<style scoped>\n",
       "    .dataframe tbody tr th:only-of-type {\n",
       "        vertical-align: middle;\n",
       "    }\n",
       "\n",
       "    .dataframe tbody tr th {\n",
       "        vertical-align: top;\n",
       "    }\n",
       "\n",
       "    .dataframe thead th {\n",
       "        text-align: right;\n",
       "    }\n",
       "</style>\n",
       "<table border=\"1\" class=\"dataframe\">\n",
       "  <thead>\n",
       "    <tr style=\"text-align: right;\">\n",
       "      <th></th>\n",
       "      <th>SELLER</th>\n",
       "      <th>Call_Minutes</th>\n",
       "      <th>Number_Of_Calls</th>\n",
       "      <th>Sub_Brand</th>\n",
       "      <th>Segment</th>\n",
       "      <th>Geo</th>\n",
       "      <th>Mkt</th>\n",
       "      <th>EMPLOYEE_MGR_L1_NAME</th>\n",
       "      <th>REV_AMT</th>\n",
       "      <th>Call_Hours</th>\n",
       "    </tr>\n",
       "  </thead>\n",
       "  <tbody>\n",
       "    <tr>\n",
       "      <th>0</th>\n",
       "      <td>A RAM UM</td>\n",
       "      <td>46770</td>\n",
       "      <td>1559</td>\n",
       "      <td>NaN</td>\n",
       "      <td>NaN</td>\n",
       "      <td>NaN</td>\n",
       "      <td>NaN</td>\n",
       "      <td>NaN</td>\n",
       "      <td>0.0</td>\n",
       "      <td>779.50</td>\n",
       "    </tr>\n",
       "    <tr>\n",
       "      <th>1</th>\n",
       "      <td>AADIL LAGHZAOUI</td>\n",
       "      <td>21510</td>\n",
       "      <td>1196</td>\n",
       "      <td>Systems HW Cross Brand</td>\n",
       "      <td>Segment 2</td>\n",
       "      <td>EMEA</td>\n",
       "      <td>MEA</td>\n",
       "      <td>Hicham Sbaa</td>\n",
       "      <td>634000.0</td>\n",
       "      <td>358.50</td>\n",
       "    </tr>\n",
       "    <tr>\n",
       "      <th>2</th>\n",
       "      <td>AALISHAN MOOSAVI</td>\n",
       "      <td>1365</td>\n",
       "      <td>68</td>\n",
       "      <td>NaN</td>\n",
       "      <td>NaN</td>\n",
       "      <td>NaN</td>\n",
       "      <td>NaN</td>\n",
       "      <td>NaN</td>\n",
       "      <td>0.0</td>\n",
       "      <td>22.75</td>\n",
       "    </tr>\n",
       "    <tr>\n",
       "      <th>3</th>\n",
       "      <td>AARON BROWN</td>\n",
       "      <td>27630</td>\n",
       "      <td>994</td>\n",
       "      <td>SW Crossbrand (non z)</td>\n",
       "      <td>Segment 2</td>\n",
       "      <td>AMER</td>\n",
       "      <td>PUB</td>\n",
       "      <td>Paula Buerkle</td>\n",
       "      <td>972000.0</td>\n",
       "      <td>460.50</td>\n",
       "    </tr>\n",
       "    <tr>\n",
       "      <th>4</th>\n",
       "      <td>AARON FIELD</td>\n",
       "      <td>3420</td>\n",
       "      <td>129</td>\n",
       "      <td>NaN</td>\n",
       "      <td>NaN</td>\n",
       "      <td>NaN</td>\n",
       "      <td>NaN</td>\n",
       "      <td>NaN</td>\n",
       "      <td>0.0</td>\n",
       "      <td>57.00</td>\n",
       "    </tr>\n",
       "  </tbody>\n",
       "</table>\n",
       "</div>"
      ],
      "text/plain": [
       "             SELLER  Call_Minutes  Number_Of_Calls               Sub_Brand  \\\n",
       "0          A RAM UM         46770             1559                     NaN   \n",
       "1   AADIL LAGHZAOUI         21510             1196  Systems HW Cross Brand   \n",
       "2  AALISHAN MOOSAVI          1365               68                     NaN   \n",
       "3       AARON BROWN         27630              994   SW Crossbrand (non z)   \n",
       "4       AARON FIELD          3420              129                     NaN   \n",
       "\n",
       "     Segment   Geo  Mkt EMPLOYEE_MGR_L1_NAME    REV_AMT  Call_Hours  \n",
       "0        NaN   NaN  NaN                   NaN       0.0      779.50  \n",
       "1  Segment 2  EMEA  MEA           Hicham Sbaa  634000.0      358.50  \n",
       "2        NaN   NaN  NaN                   NaN       0.0       22.75  \n",
       "3  Segment 2  AMER  PUB         Paula Buerkle  972000.0      460.50  \n",
       "4        NaN   NaN  NaN                   NaN       0.0       57.00  "
      ]
     },
     "execution_count": 398,
     "metadata": {},
     "output_type": "execute_result"
    }
   ],
   "source": [
    "dt_rev.head()"
   ]
  },
  {
   "cell_type": "markdown",
   "metadata": {},
   "source": [
    "## Adding Productivity Levels"
   ]
  },
  {
   "cell_type": "code",
   "execution_count": 399,
   "metadata": {},
   "outputs": [],
   "source": [
    " def func(x):\n",
    "    if x > 0:\n",
    "        return 'Success'\n",
    "    else:\n",
    "        return 'Unsuccess'\n",
    "dt_rev['Productivity'] = dt_rev['REV_AMT'].apply(func)\n",
    "dt_rev.to_csv (r'C:/Users/SuprasannaPradhan/Documents/DIA/dt_rev.csv', index = False, header=True)"
   ]
  },
  {
   "cell_type": "code",
   "execution_count": 400,
   "metadata": {},
   "outputs": [
    {
     "data": {
      "text/html": [
       "<div>\n",
       "<style scoped>\n",
       "    .dataframe tbody tr th:only-of-type {\n",
       "        vertical-align: middle;\n",
       "    }\n",
       "\n",
       "    .dataframe tbody tr th {\n",
       "        vertical-align: top;\n",
       "    }\n",
       "\n",
       "    .dataframe thead th {\n",
       "        text-align: right;\n",
       "    }\n",
       "</style>\n",
       "<table border=\"1\" class=\"dataframe\">\n",
       "  <thead>\n",
       "    <tr style=\"text-align: right;\">\n",
       "      <th></th>\n",
       "      <th>SELLER</th>\n",
       "      <th>Call_Minutes</th>\n",
       "      <th>Number_Of_Calls</th>\n",
       "      <th>Sub_Brand</th>\n",
       "      <th>Segment</th>\n",
       "      <th>Geo</th>\n",
       "      <th>Mkt</th>\n",
       "      <th>EMPLOYEE_MGR_L1_NAME</th>\n",
       "      <th>REV_AMT</th>\n",
       "      <th>Call_Hours</th>\n",
       "      <th>Productivity</th>\n",
       "    </tr>\n",
       "  </thead>\n",
       "  <tbody>\n",
       "    <tr>\n",
       "      <th>0</th>\n",
       "      <td>A RAM UM</td>\n",
       "      <td>46770</td>\n",
       "      <td>1559</td>\n",
       "      <td>NaN</td>\n",
       "      <td>NaN</td>\n",
       "      <td>NaN</td>\n",
       "      <td>NaN</td>\n",
       "      <td>NaN</td>\n",
       "      <td>0.0</td>\n",
       "      <td>779.50</td>\n",
       "      <td>Unsuccess</td>\n",
       "    </tr>\n",
       "    <tr>\n",
       "      <th>1</th>\n",
       "      <td>AADIL LAGHZAOUI</td>\n",
       "      <td>21510</td>\n",
       "      <td>1196</td>\n",
       "      <td>Systems HW Cross Brand</td>\n",
       "      <td>Segment 2</td>\n",
       "      <td>EMEA</td>\n",
       "      <td>MEA</td>\n",
       "      <td>Hicham Sbaa</td>\n",
       "      <td>634000.0</td>\n",
       "      <td>358.50</td>\n",
       "      <td>Success</td>\n",
       "    </tr>\n",
       "    <tr>\n",
       "      <th>2</th>\n",
       "      <td>AALISHAN MOOSAVI</td>\n",
       "      <td>1365</td>\n",
       "      <td>68</td>\n",
       "      <td>NaN</td>\n",
       "      <td>NaN</td>\n",
       "      <td>NaN</td>\n",
       "      <td>NaN</td>\n",
       "      <td>NaN</td>\n",
       "      <td>0.0</td>\n",
       "      <td>22.75</td>\n",
       "      <td>Unsuccess</td>\n",
       "    </tr>\n",
       "    <tr>\n",
       "      <th>3</th>\n",
       "      <td>AARON BROWN</td>\n",
       "      <td>27630</td>\n",
       "      <td>994</td>\n",
       "      <td>SW Crossbrand (non z)</td>\n",
       "      <td>Segment 2</td>\n",
       "      <td>AMER</td>\n",
       "      <td>PUB</td>\n",
       "      <td>Paula Buerkle</td>\n",
       "      <td>972000.0</td>\n",
       "      <td>460.50</td>\n",
       "      <td>Success</td>\n",
       "    </tr>\n",
       "    <tr>\n",
       "      <th>4</th>\n",
       "      <td>AARON FIELD</td>\n",
       "      <td>3420</td>\n",
       "      <td>129</td>\n",
       "      <td>NaN</td>\n",
       "      <td>NaN</td>\n",
       "      <td>NaN</td>\n",
       "      <td>NaN</td>\n",
       "      <td>NaN</td>\n",
       "      <td>0.0</td>\n",
       "      <td>57.00</td>\n",
       "      <td>Unsuccess</td>\n",
       "    </tr>\n",
       "  </tbody>\n",
       "</table>\n",
       "</div>"
      ],
      "text/plain": [
       "             SELLER  Call_Minutes  Number_Of_Calls               Sub_Brand  \\\n",
       "0          A RAM UM         46770             1559                     NaN   \n",
       "1   AADIL LAGHZAOUI         21510             1196  Systems HW Cross Brand   \n",
       "2  AALISHAN MOOSAVI          1365               68                     NaN   \n",
       "3       AARON BROWN         27630              994   SW Crossbrand (non z)   \n",
       "4       AARON FIELD          3420              129                     NaN   \n",
       "\n",
       "     Segment   Geo  Mkt EMPLOYEE_MGR_L1_NAME    REV_AMT  Call_Hours  \\\n",
       "0        NaN   NaN  NaN                   NaN       0.0      779.50   \n",
       "1  Segment 2  EMEA  MEA           Hicham Sbaa  634000.0      358.50   \n",
       "2        NaN   NaN  NaN                   NaN       0.0       22.75   \n",
       "3  Segment 2  AMER  PUB         Paula Buerkle  972000.0      460.50   \n",
       "4        NaN   NaN  NaN                   NaN       0.0       57.00   \n",
       "\n",
       "  Productivity  \n",
       "0    Unsuccess  \n",
       "1      Success  \n",
       "2    Unsuccess  \n",
       "3      Success  \n",
       "4    Unsuccess  "
      ]
     },
     "execution_count": 400,
     "metadata": {},
     "output_type": "execute_result"
    }
   ],
   "source": [
    "dt_rev.head()"
   ]
  },
  {
   "cell_type": "markdown",
   "metadata": {},
   "source": [
    "## Nomalizing Hours  and sales value "
   ]
  },
  {
   "cell_type": "code",
   "execution_count": 492,
   "metadata": {},
   "outputs": [],
   "source": [
    "dt_rev['Call_Hours'] = (dt_rev['Call_Hours'] - dt_rev['Call_Hours'].min()) / (dt_rev['Call_Hours'].max() - dt_rev['Call_Hours'].min())    \n",
    "# dt_rev['NOR_DURATION'] = (dt_rev['DURATION'] - dt_rev['DURATION'].min()) / (dt_rev['DURATION'].max() - dt_rev['DURATION'].min()) "
   ]
  },
  {
   "cell_type": "markdown",
   "metadata": {},
   "source": [
    "   We have created to addtional columons with normalziation of revenue and hours"
   ]
  },
  {
   "cell_type": "markdown",
   "metadata": {},
   "source": [
    "## Univariate analysis"
   ]
  },
  {
   "cell_type": "code",
   "execution_count": 493,
   "metadata": {},
   "outputs": [
    {
     "data": {
      "text/plain": [
       "<seaborn.axisgrid.PairGrid at 0x18d763b0a90>"
      ]
     },
     "execution_count": 493,
     "metadata": {},
     "output_type": "execute_result"
    },
    {
     "data": {
      "text/plain": [
       "<Figure size 720x576 with 0 Axes>"
      ]
     },
     "metadata": {},
     "output_type": "display_data"
    },
    {
     "data": {
      "image/png": "[encoded data removed]",
      "text/plain": [
       "<Figure size 900x900 with 30 Axes>"
      ]
     },
     "metadata": {
      "needs_background": "light"
     },
     "output_type": "display_data"
    }
   ],
   "source": [
    "plt.figure(figsize=(10,8))\n",
    "sns.pairplot(dt_rev,diag_kind= 'kde')"
   ]
  },
  {
   "cell_type": "markdown",
   "metadata": {},
   "source": [
    "## Checking  Outlier"
   ]
  },
  {
   "cell_type": "code",
   "execution_count": 494,
   "metadata": {
    "scrolled": true
   },
   "outputs": [
    {
     "data": {
      "text/plain": [
       "<AxesSubplot:>"
      ]
     },
     "execution_count": 494,
     "metadata": {},
     "output_type": "execute_result"
    },
    {
     "data": {
      "image/png": "[encoded data removed]",
      "text/plain": [
       "<Figure size 360x360 with 1 Axes>"
      ]
     },
     "metadata": {
      "needs_background": "light"
     },
     "output_type": "display_data"
    }
   ],
   "source": [
    "plt.figure(figsize=(5,5))\n",
    "dt_rev.boxplot(column=\"REV_AMT\")"
   ]
  },
  {
   "cell_type": "markdown",
   "metadata": {},
   "source": [
    "## Removing the outlier"
   ]
  },
  {
   "cell_type": "code",
   "execution_count": 495,
   "metadata": {},
   "outputs": [],
   "source": [
    "import numpy as np\n",
    "for col in dt_rev.columns:\n",
    "    percentiles = dt_rev['REV_AMT'].quantile([0.01, 0.99]).values\n",
    "    dt_rev['REV_AMT'] = np.clip(dt_rev['REV_AMT'], percentiles[0], percentiles[1])"
   ]
  },
  {
   "cell_type": "code",
   "execution_count": 496,
   "metadata": {},
   "outputs": [
    {
     "data": {
      "text/plain": [
       "<AxesSubplot:>"
      ]
     },
     "execution_count": 496,
     "metadata": {},
     "output_type": "execute_result"
    },
    {
     "data": {
      "image/png": "[encoded data removed]",
      "text/plain": [
       "<Figure size 360x360 with 1 Axes>"
      ]
     },
     "metadata": {
      "needs_background": "light"
     },
     "output_type": "display_data"
    }
   ],
   "source": [
    "plt.figure(figsize=(5,5))\n",
    "dt_rev.boxplot(column=\"REV_AMT\")"
   ]
  },
  {
   "cell_type": "code",
   "execution_count": 545,
   "metadata": {
    "scrolled": true
   },
   "outputs": [
    {
     "data": {
      "text/plain": [
       "<AxesSubplot:>"
      ]
     },
     "execution_count": 545,
     "metadata": {},
     "output_type": "execute_result"
    },
    {
     "data": {
      "image/png": "[encoded data removed]",
      "text/plain": [
       "<Figure size 360x360 with 1 Axes>"
      ]
     },
     "metadata": {
      "needs_background": "light"
     },
     "output_type": "display_data"
    }
   ],
   "source": [
    "plt.figure(figsize=(5,5))\n",
    "dt_rev.boxplot(column=\"Call_Hours\")"
   ]
  },
  {
   "cell_type": "code",
   "execution_count": 546,
   "metadata": {},
   "outputs": [
    {
     "data": {
      "text/html": [
       "<div>\n",
       "<style scoped>\n",
       "    .dataframe tbody tr th:only-of-type {\n",
       "        vertical-align: middle;\n",
       "    }\n",
       "\n",
       "    .dataframe tbody tr th {\n",
       "        vertical-align: top;\n",
       "    }\n",
       "\n",
       "    .dataframe thead th {\n",
       "        text-align: right;\n",
       "    }\n",
       "</style>\n",
       "<table border=\"1\" class=\"dataframe\">\n",
       "  <thead>\n",
       "    <tr style=\"text-align: right;\">\n",
       "      <th></th>\n",
       "      <th>Productivity</th>\n",
       "      <th>Number_Of_Calls</th>\n",
       "    </tr>\n",
       "  </thead>\n",
       "  <tbody>\n",
       "    <tr>\n",
       "      <th>0</th>\n",
       "      <td>Unsuccess</td>\n",
       "      <td>5743531</td>\n",
       "    </tr>\n",
       "    <tr>\n",
       "      <th>1</th>\n",
       "      <td>Success</td>\n",
       "      <td>1512011</td>\n",
       "    </tr>\n",
       "  </tbody>\n",
       "</table>\n",
       "</div>"
      ],
      "text/plain": [
       "  Productivity  Number_Of_Calls\n",
       "0    Unsuccess          5743531\n",
       "1      Success          1512011"
      ]
     },
     "execution_count": 546,
     "metadata": {},
     "output_type": "execute_result"
    }
   ],
   "source": [
    "dt_count = dt_rev.pivot_table(index=['Productivity'], values=['Number_Of_Calls'], aggfunc='sum')\n",
    "dt_count = dt_count.sort_values('Number_Of_Calls',ascending=False).reset_index() \n",
    "dt_count"
   ]
  },
  {
   "cell_type": "code",
   "execution_count": 547,
   "metadata": {},
   "outputs": [
    {
     "data": {
      "text/plain": [
       "Text(0.5, 1.0, 'Productivity v/s COUNT')"
      ]
     },
     "execution_count": 547,
     "metadata": {},
     "output_type": "execute_result"
    },
    {
     "data": {
      "image/png": "[encoded data removed]",
      "text/plain": [
       "<Figure size 432x288 with 1 Axes>"
      ]
     },
     "metadata": {
      "needs_background": "light"
     },
     "output_type": "display_data"
    }
   ],
   "source": [
    "# count plotof win and lost\n",
    "# plt.style.use('fivethirtyeight')\n",
    "dt_rev['Productivity'].hist()\n",
    "plt.xlabel('Productivity')\n",
    "plt.ylabel('Count')\n",
    "plt.title('Productivity v/s COUNT')"
   ]
  },
  {
   "cell_type": "markdown",
   "metadata": {},
   "source": [
    "## Bivariate analysis"
   ]
  },
  {
   "cell_type": "code",
   "execution_count": 548,
   "metadata": {},
   "outputs": [
    {
     "data": {
      "text/html": [
       "<div>\n",
       "<style scoped>\n",
       "    .dataframe tbody tr th:only-of-type {\n",
       "        vertical-align: middle;\n",
       "    }\n",
       "\n",
       "    .dataframe tbody tr th {\n",
       "        vertical-align: top;\n",
       "    }\n",
       "\n",
       "    .dataframe thead th {\n",
       "        text-align: right;\n",
       "    }\n",
       "</style>\n",
       "<table border=\"1\" class=\"dataframe\">\n",
       "  <thead>\n",
       "    <tr style=\"text-align: right;\">\n",
       "      <th></th>\n",
       "      <th>Number_Of_Calls</th>\n",
       "    </tr>\n",
       "    <tr>\n",
       "      <th>Productivity</th>\n",
       "      <th></th>\n",
       "    </tr>\n",
       "  </thead>\n",
       "  <tbody>\n",
       "    <tr>\n",
       "      <th>Success</th>\n",
       "      <td>1512011</td>\n",
       "    </tr>\n",
       "    <tr>\n",
       "      <th>Unsuccess</th>\n",
       "      <td>5743531</td>\n",
       "    </tr>\n",
       "  </tbody>\n",
       "</table>\n",
       "</div>"
      ],
      "text/plain": [
       "              Number_Of_Calls\n",
       "Productivity                 \n",
       "Success               1512011\n",
       "Unsuccess             5743531"
      ]
     },
     "execution_count": 548,
     "metadata": {},
     "output_type": "execute_result"
    }
   ],
   "source": [
    "dt_dur = dt_rev.pivot_table(index=['Productivity'], values=['Number_Of_Calls'], aggfunc='sum')\n",
    "# dt_dur = dt_dur.sort_values('HOURS',ascending=False).reset_index() \n",
    "dt_dur"
   ]
  },
  {
   "cell_type": "code",
   "execution_count": 549,
   "metadata": {},
   "outputs": [
    {
     "data": {
      "image/png": "[encoded data removed]",
      "text/plain": [
       "<Figure size 576x360 with 1 Axes>"
      ]
     },
     "metadata": {},
     "output_type": "display_data"
    }
   ],
   "source": [
    "q1_win = dt_rev.groupby(\"Productivity\")[\"Number_Of_Calls\"].sum()\n",
    "# data.plot.pie(autopct=\"%.1f%%\");\n",
    "# Using matplotlib\n",
    "pie, ax = plt.subplots(figsize=[8,5])\n",
    "labels = q1_win.keys()\n",
    "plt.pie(x=q1_win, autopct=\"%.1f%%\", explode=[0.05]*2, labels=labels, pctdistance=0.5)\n",
    "plt.title(\"Productivity % by Number of Calls made for Qurter 2021\", fontsize=14);\n",
    "pie.savefig(\"q1GeoPieChart.png\")"
   ]
  },
  {
   "cell_type": "markdown",
   "metadata": {},
   "source": [
    "## Scatter plot - REVENUE by Number of Calls"
   ]
  },
  {
   "cell_type": "code",
   "execution_count": 550,
   "metadata": {},
   "outputs": [
    {
     "data": {
      "image/png": "[encoded data removed]",
      "text/plain": [
       "<Figure size 720x576 with 1 Axes>"
      ]
     },
     "metadata": {
      "needs_background": "light"
     },
     "output_type": "display_data"
    }
   ],
   "source": [
    "fig, ax = plt.subplots(figsize=(10,8))\n",
    "ax.scatter(dt_rev['Number_Of_Calls'], dt_rev['REV_AMT'])\n",
    "ax.set_xlabel('Number of call made for 1st quarter of 2021')\n",
    "ax.set_ylabel('Revenue for 1st quarter of 2021')\n",
    "plt.show()"
   ]
  },
  {
   "cell_type": "markdown",
   "metadata": {},
   "source": [
    "## Line plot - HOURS Vs REVENUE"
   ]
  },
  {
   "cell_type": "code",
   "execution_count": 551,
   "metadata": {},
   "outputs": [
    {
     "data": {
      "image/png": "[encoded data removed]",
      "text/plain": [
       "<Figure size 720x576 with 1 Axes>"
      ]
     },
     "metadata": {
      "needs_background": "light"
     },
     "output_type": "display_data"
    }
   ],
   "source": [
    "plt.figure(figsize=(10,8))\n",
    "sns.lineplot(x=\"REV_AMT\", y=\"Call_Hours\", data=dt_rev)\n",
    "plt.show()"
   ]
  },
  {
   "cell_type": "markdown",
   "metadata": {},
   "source": [
    "## Revenue Vs Revenue  by Productivity"
   ]
  },
  {
   "cell_type": "code",
   "execution_count": 552,
   "metadata": {},
   "outputs": [
    {
     "data": {
      "text/plain": [
       "<AxesSubplot:xlabel='Call_Hours', ylabel='REV_AMT'>"
      ]
     },
     "execution_count": 552,
     "metadata": {},
     "output_type": "execute_result"
    },
    {
     "data": {
      "image/png": "[encoded data removed]",
      "text/plain": [
       "<Figure size 720x576 with 1 Axes>"
      ]
     },
     "metadata": {
      "needs_background": "light"
     },
     "output_type": "display_data"
    }
   ],
   "source": [
    "# Plot\n",
    "plt.figure(figsize=(10,8))\n",
    "sns.scatterplot(data=dt_rev, x=\"Call_Hours\", y=\"REV_AMT\", hue=\"Productivity\", palette=\"deep\")"
   ]
  },
  {
   "cell_type": "code",
   "execution_count": 556,
   "metadata": {},
   "outputs": [
    {
     "data": {
      "text/plain": [
       "<AxesSubplot:xlabel='Number_Of_Calls', ylabel='REV_AMT'>"
      ]
     },
     "execution_count": 556,
     "metadata": {},
     "output_type": "execute_result"
    },
    {
     "data": {
      "image/png": "[encoded data removed]",
      "text/plain": [
       "<Figure size 720x576 with 1 Axes>"
      ]
     },
     "metadata": {
      "needs_background": "light"
     },
     "output_type": "display_data"
    }
   ],
   "source": [
    "# Plot\n",
    "plt.figure(figsize=(10,8))\n",
    "sns.scatterplot(data=dt_rev, x='Number_Of_Calls', y=\"REV_AMT\", hue=\"Productivity\", palette=\"deep\")"
   ]
  },
  {
   "cell_type": "markdown",
   "metadata": {},
   "source": [
    "## Checking Win/Lost  by Duratioin "
   ]
  },
  {
   "cell_type": "code",
   "execution_count": 557,
   "metadata": {},
   "outputs": [
    {
     "data": {
      "image/png": "[encoded data removed]",
      "text/plain": [
       "<Figure size 720x576 with 1 Axes>"
      ]
     },
     "metadata": {
      "needs_background": "light"
     },
     "output_type": "display_data"
    }
   ],
   "source": [
    "plt.figure(figsize=(10,8))\n",
    "sns.boxplot(x=\"Productivity\",y=\"Number_Of_Calls\" ,data=dt_rev, palette=\"Set3\")\n",
    "fig.tight_layout()\n",
    "plt.show()"
   ]
  },
  {
   "cell_type": "code",
   "execution_count": 558,
   "metadata": {},
   "outputs": [
    {
     "data": {
      "image/png": "[encoded data removed]",
      "text/plain": [
       "<Figure size 720x576 with 1 Axes>"
      ]
     },
     "metadata": {
      "needs_background": "light"
     },
     "output_type": "display_data"
    }
   ],
   "source": [
    "plt.figure(figsize=(10,8))\n",
    "sns.boxplot(x=\"Productivity\",y=\"Call_Hours\" ,data=dt_rev, palette=\"Set3\")\n",
    "fig.tight_layout()\n",
    "plt.show()"
   ]
  },
  {
   "cell_type": "code",
   "execution_count": 559,
   "metadata": {},
   "outputs": [],
   "source": [
    "# from sklearn.preprocessing import StandardScaler\n",
    "# std_scale = StandardScaler()\n",
    "# std_scale\n",
    "# dt_rev['N_VAL_PIPE'] = std_scale.fit_transform(dt_rev[['N_VAL_PIPE']])"
   ]
  },
  {
   "cell_type": "markdown",
   "metadata": {},
   "source": [
    "##  Anova one way"
   ]
  },
  {
   "cell_type": "code",
   "execution_count": 560,
   "metadata": {},
   "outputs": [
    {
     "name": "stdout",
     "output_type": "stream",
     "text": [
      "                     df        sum_sq       mean_sq         F    PR(>F)\n",
      "Number_Of_Calls     1.0  1.407401e+12  1.407401e+12  3.680344  0.055092\n",
      "Residual         8285.0  3.168268e+15  3.824102e+11       NaN       NaN\n"
     ]
    }
   ],
   "source": [
    "formula = 'REV_AMT ~ (Number_Of_Calls)'\n",
    "model = ols (formula,dt_rev).fit()\n",
    "aov_tab =  anova_lm(model)\n",
    "print(aov_tab)"
   ]
  },
  {
   "cell_type": "code",
   "execution_count": 561,
   "metadata": {},
   "outputs": [
    {
     "name": "stdout",
     "output_type": "stream",
     "text": [
      "                df        sum_sq       mean_sq         F    PR(>F)\n",
      "Call_Hours     1.0  1.514088e+12  1.514088e+12  3.959463  0.046641\n",
      "Residual    8285.0  3.168161e+15  3.823973e+11       NaN       NaN\n"
     ]
    }
   ],
   "source": [
    "formula = 'REV_AMT ~ (Call_Hours)'\n",
    "model = ols (formula,dt_rev).fit()\n",
    "aov_tab =  anova_lm(model)\n",
    "print(aov_tab)"
   ]
  },
  {
   "cell_type": "markdown",
   "metadata": {},
   "source": [
    "Assume in our case that we say no changes are impacted to call duration due these variables\n",
    "P value is here gater then  the 0.05 .\n",
    "\n",
    "\n"
   ]
  },
  {
   "cell_type": "markdown",
   "metadata": {},
   "source": [
    "## Anova two  way"
   ]
  },
  {
   "cell_type": "code",
   "execution_count": 562,
   "metadata": {},
   "outputs": [
    {
     "name": "stdout",
     "output_type": "stream",
     "text": [
      "                                df        sum_sq       mean_sq          F  \\\n",
      "Number_Of_Calls                1.0  1.407401e+12  1.407401e+12   3.689153   \n",
      "Call_Hours                     1.0  2.361692e+11  2.361692e+11   0.619059   \n",
      "Call_Minutes                   1.0  1.050936e+11  1.050936e+11   0.275477   \n",
      "Number_Of_Calls:Call_Hours     1.0  7.996040e+12  7.996040e+12  20.959641   \n",
      "Residual                    8283.0  3.159939e+15  3.814970e+11        NaN   \n",
      "\n",
      "                              PR(>F)  \n",
      "Number_Of_Calls             0.054802  \n",
      "Call_Hours                  0.431420  \n",
      "Call_Minutes                0.599695  \n",
      "Number_Of_Calls:Call_Hours  0.000005  \n",
      "Residual                         NaN  \n"
     ]
    }
   ],
   "source": [
    "formula = 'REV_AMT ~ (Number_Of_Calls) + (Call_Hours)+ (Call_Minutes) + (Number_Of_Calls):(Call_Hours)'\n",
    "model = ols (formula,dt_rev).fit()\n",
    "aov_tab =  anova_lm(model,type=2)\n",
    "print(aov_tab)"
   ]
  },
  {
   "cell_type": "markdown",
   "metadata": {},
   "source": [
    "Hereby we observed that no variables are having significant relationship with revenue "
   ]
  },
  {
   "cell_type": "markdown",
   "metadata": {},
   "source": [
    "## Pearson’s Correlation Coefficient"
   ]
  },
  {
   "cell_type": "code",
   "execution_count": 563,
   "metadata": {},
   "outputs": [],
   "source": [
    "from scipy.stats import pearsonr"
   ]
  },
  {
   "cell_type": "code",
   "execution_count": 564,
   "metadata": {},
   "outputs": [
    {
     "name": "stdout",
     "output_type": "stream",
     "text": [
      "stat=0.022, p=0.047\n",
      "Probably dependent\n"
     ]
    }
   ],
   "source": [
    "# # Apply the pearsonr()\n",
    "list1 = dt_rev['REV_AMT']\n",
    "list2 = dt_rev['Call_Hours']\n",
    "stat,p = pearsonr(list1, list2)\n",
    "print('stat=%.3f, p=%.3f'% (stat, p))\n",
    "\n",
    "if p >0.05:\n",
    "    print('Probably independent')\n",
    "else:\n",
    "    print('Probably dependent')"
   ]
  },
  {
   "cell_type": "markdown",
   "metadata": {},
   "source": [
    "## Average /SD"
   ]
  },
  {
   "cell_type": "code",
   "execution_count": 565,
   "metadata": {},
   "outputs": [],
   "source": [
    "avg = dt_rev.describe().transpose()"
   ]
  },
  {
   "cell_type": "code",
   "execution_count": 566,
   "metadata": {},
   "outputs": [
    {
     "data": {
      "text/html": [
       "<div>\n",
       "<style scoped>\n",
       "    .dataframe tbody tr th:only-of-type {\n",
       "        vertical-align: middle;\n",
       "    }\n",
       "\n",
       "    .dataframe tbody tr th {\n",
       "        vertical-align: top;\n",
       "    }\n",
       "\n",
       "    .dataframe thead th {\n",
       "        text-align: right;\n",
       "    }\n",
       "</style>\n",
       "<table border=\"1\" class=\"dataframe\">\n",
       "  <thead>\n",
       "    <tr style=\"text-align: right;\">\n",
       "      <th></th>\n",
       "      <th>count</th>\n",
       "      <th>mean</th>\n",
       "      <th>std</th>\n",
       "      <th>min</th>\n",
       "      <th>25%</th>\n",
       "      <th>50%</th>\n",
       "      <th>75%</th>\n",
       "      <th>max</th>\n",
       "    </tr>\n",
       "  </thead>\n",
       "  <tbody>\n",
       "    <tr>\n",
       "      <th>Call_Minutes</th>\n",
       "      <td>8287.0</td>\n",
       "      <td>19876.580910</td>\n",
       "      <td>24210.987226</td>\n",
       "      <td>0.0</td>\n",
       "      <td>4830.000000</td>\n",
       "      <td>16110.000000</td>\n",
       "      <td>28620.000000</td>\n",
       "      <td>516210.0</td>\n",
       "    </tr>\n",
       "    <tr>\n",
       "      <th>Number_Of_Calls</th>\n",
       "      <td>8287.0</td>\n",
       "      <td>875.533003</td>\n",
       "      <td>1140.254637</td>\n",
       "      <td>1.0</td>\n",
       "      <td>266.500000</td>\n",
       "      <td>754.000000</td>\n",
       "      <td>1222.000000</td>\n",
       "      <td>24214.0</td>\n",
       "    </tr>\n",
       "    <tr>\n",
       "      <th>REV_AMT</th>\n",
       "      <td>8287.0</td>\n",
       "      <td>158041.028116</td>\n",
       "      <td>618493.211384</td>\n",
       "      <td>0.0</td>\n",
       "      <td>0.000000</td>\n",
       "      <td>0.000000</td>\n",
       "      <td>0.000000</td>\n",
       "      <td>4467000.0</td>\n",
       "    </tr>\n",
       "    <tr>\n",
       "      <th>Call_Hours</th>\n",
       "      <td>8287.0</td>\n",
       "      <td>0.038505</td>\n",
       "      <td>0.046901</td>\n",
       "      <td>0.0</td>\n",
       "      <td>0.009357</td>\n",
       "      <td>0.031208</td>\n",
       "      <td>0.055443</td>\n",
       "      <td>1.0</td>\n",
       "    </tr>\n",
       "    <tr>\n",
       "      <th>Productivity_Unsuccess</th>\n",
       "      <td>5.0</td>\n",
       "      <td>0.600000</td>\n",
       "      <td>0.547723</td>\n",
       "      <td>0.0</td>\n",
       "      <td>0.000000</td>\n",
       "      <td>1.000000</td>\n",
       "      <td>1.000000</td>\n",
       "      <td>1.0</td>\n",
       "    </tr>\n",
       "    <tr>\n",
       "      <th>Productivity_Unsuccess</th>\n",
       "      <td>5.0</td>\n",
       "      <td>0.600000</td>\n",
       "      <td>0.547723</td>\n",
       "      <td>0.0</td>\n",
       "      <td>0.000000</td>\n",
       "      <td>1.000000</td>\n",
       "      <td>1.000000</td>\n",
       "      <td>1.0</td>\n",
       "    </tr>\n",
       "  </tbody>\n",
       "</table>\n",
       "</div>"
      ],
      "text/plain": [
       "                         count           mean            std  min  \\\n",
       "Call_Minutes            8287.0   19876.580910   24210.987226  0.0   \n",
       "Number_Of_Calls         8287.0     875.533003    1140.254637  1.0   \n",
       "REV_AMT                 8287.0  158041.028116  618493.211384  0.0   \n",
       "Call_Hours              8287.0       0.038505       0.046901  0.0   \n",
       "Productivity_Unsuccess     5.0       0.600000       0.547723  0.0   \n",
       "Productivity_Unsuccess     5.0       0.600000       0.547723  0.0   \n",
       "\n",
       "                                25%           50%           75%        max  \n",
       "Call_Minutes            4830.000000  16110.000000  28620.000000   516210.0  \n",
       "Number_Of_Calls          266.500000    754.000000   1222.000000    24214.0  \n",
       "REV_AMT                    0.000000      0.000000      0.000000  4467000.0  \n",
       "Call_Hours                 0.009357      0.031208      0.055443        1.0  \n",
       "Productivity_Unsuccess     0.000000      1.000000      1.000000        1.0  \n",
       "Productivity_Unsuccess     0.000000      1.000000      1.000000        1.0  "
      ]
     },
     "execution_count": 566,
     "metadata": {},
     "output_type": "execute_result"
    }
   ],
   "source": [
    "avg"
   ]
  },
  {
   "cell_type": "code",
   "execution_count": 567,
   "metadata": {},
   "outputs": [
    {
     "name": "stdout",
     "output_type": "stream",
     "text": [
      "2745290.000000\n"
     ]
    }
   ],
   "source": [
    "x=(2.74529e+06)\n",
    "print(\"{:f}\".format(x)) "
   ]
  },
  {
   "cell_type": "code",
   "execution_count": 568,
   "metadata": {},
   "outputs": [
    {
     "data": {
      "text/html": [
       "<div>\n",
       "<style scoped>\n",
       "    .dataframe tbody tr th:only-of-type {\n",
       "        vertical-align: middle;\n",
       "    }\n",
       "\n",
       "    .dataframe tbody tr th {\n",
       "        vertical-align: top;\n",
       "    }\n",
       "\n",
       "    .dataframe thead th {\n",
       "        text-align: right;\n",
       "    }\n",
       "</style>\n",
       "<table border=\"1\" class=\"dataframe\">\n",
       "  <thead>\n",
       "    <tr style=\"text-align: right;\">\n",
       "      <th></th>\n",
       "      <th>index</th>\n",
       "      <th>0</th>\n",
       "    </tr>\n",
       "  </thead>\n",
       "  <tbody>\n",
       "    <tr>\n",
       "      <th>0</th>\n",
       "      <td>Call_Minutes</td>\n",
       "      <td>1.647172e+08</td>\n",
       "    </tr>\n",
       "    <tr>\n",
       "      <th>1</th>\n",
       "      <td>Number_Of_Calls</td>\n",
       "      <td>7.255542e+06</td>\n",
       "    </tr>\n",
       "    <tr>\n",
       "      <th>2</th>\n",
       "      <td>REV_AMT</td>\n",
       "      <td>1.309686e+09</td>\n",
       "    </tr>\n",
       "    <tr>\n",
       "      <th>3</th>\n",
       "      <td>Call_Hours</td>\n",
       "      <td>3.190896e+02</td>\n",
       "    </tr>\n",
       "  </tbody>\n",
       "</table>\n",
       "</div>"
      ],
      "text/plain": [
       "             index             0\n",
       "0     Call_Minutes  1.647172e+08\n",
       "1  Number_Of_Calls  7.255542e+06\n",
       "2          REV_AMT  1.309686e+09\n",
       "3       Call_Hours  3.190896e+02"
      ]
     },
     "execution_count": 568,
     "metadata": {},
     "output_type": "execute_result"
    }
   ],
   "source": [
    "dt_sum = dt_rev[['Call_Minutes','Number_Of_Calls','REV_AMT','Call_Hours']]\n",
    "dt_sum.sum().reset_index()\n",
    "# dt_sum.sum(axis = 0, skipna = True).reset_index()"
   ]
  },
  {
   "cell_type": "markdown",
   "metadata": {},
   "source": [
    "## Covariance"
   ]
  },
  {
   "cell_type": "code",
   "execution_count": 569,
   "metadata": {},
   "outputs": [
    {
     "name": "stdout",
     "output_type": "stream",
     "text": [
      "[[3.82533853e+11 1.48606660e+07]\n",
      " [1.48606660e+07 1.30018064e+06]]\n"
     ]
    }
   ],
   "source": [
    "from numpy import cov\n",
    "\n",
    "list1 = dt_rev['REV_AMT']\n",
    "list2 = dt_rev['Number_Of_Calls']\n",
    "covariance = cov(list1, list2)\n",
    "print(covariance)"
   ]
  },
  {
   "cell_type": "markdown",
   "metadata": {},
   "source": [
    "A value of +1.00 would be a perfect (very strong) positive correlation"
   ]
  },
  {
   "cell_type": "markdown",
   "metadata": {},
   "source": [
    "##  Standarad Correlation "
   ]
  },
  {
   "cell_type": "code",
   "execution_count": 570,
   "metadata": {
    "scrolled": true
   },
   "outputs": [
    {
     "data": {
      "text/html": [
       "<div>\n",
       "<style scoped>\n",
       "    .dataframe tbody tr th:only-of-type {\n",
       "        vertical-align: middle;\n",
       "    }\n",
       "\n",
       "    .dataframe tbody tr th {\n",
       "        vertical-align: top;\n",
       "    }\n",
       "\n",
       "    .dataframe thead th {\n",
       "        text-align: right;\n",
       "    }\n",
       "</style>\n",
       "<table border=\"1\" class=\"dataframe\">\n",
       "  <thead>\n",
       "    <tr style=\"text-align: right;\">\n",
       "      <th></th>\n",
       "      <th>Call_Minutes</th>\n",
       "      <th>Number_Of_Calls</th>\n",
       "      <th>REV_AMT</th>\n",
       "      <th>Call_Hours</th>\n",
       "      <th>Productivity_Unsuccess</th>\n",
       "      <th>Productivity_Unsuccess</th>\n",
       "    </tr>\n",
       "  </thead>\n",
       "  <tbody>\n",
       "    <tr>\n",
       "      <th>Call_Minutes</th>\n",
       "      <td>1.000000</td>\n",
       "      <td>0.781774</td>\n",
       "      <td>0.021856</td>\n",
       "      <td>1.000000</td>\n",
       "      <td>-0.216273</td>\n",
       "      <td>-0.216273</td>\n",
       "    </tr>\n",
       "    <tr>\n",
       "      <th>Number_Of_Calls</th>\n",
       "      <td>0.781774</td>\n",
       "      <td>1.000000</td>\n",
       "      <td>0.021072</td>\n",
       "      <td>0.781774</td>\n",
       "      <td>-0.421321</td>\n",
       "      <td>-0.421321</td>\n",
       "    </tr>\n",
       "    <tr>\n",
       "      <th>REV_AMT</th>\n",
       "      <td>0.021856</td>\n",
       "      <td>0.021072</td>\n",
       "      <td>1.000000</td>\n",
       "      <td>0.021856</td>\n",
       "      <td>-0.965014</td>\n",
       "      <td>-0.965014</td>\n",
       "    </tr>\n",
       "    <tr>\n",
       "      <th>Call_Hours</th>\n",
       "      <td>1.000000</td>\n",
       "      <td>0.781774</td>\n",
       "      <td>0.021856</td>\n",
       "      <td>1.000000</td>\n",
       "      <td>-0.216273</td>\n",
       "      <td>-0.216273</td>\n",
       "    </tr>\n",
       "    <tr>\n",
       "      <th>Productivity_Unsuccess</th>\n",
       "      <td>-0.216273</td>\n",
       "      <td>-0.421321</td>\n",
       "      <td>-0.965014</td>\n",
       "      <td>-0.216273</td>\n",
       "      <td>1.000000</td>\n",
       "      <td>1.000000</td>\n",
       "    </tr>\n",
       "    <tr>\n",
       "      <th>Productivity_Unsuccess</th>\n",
       "      <td>-0.216273</td>\n",
       "      <td>-0.421321</td>\n",
       "      <td>-0.965014</td>\n",
       "      <td>-0.216273</td>\n",
       "      <td>1.000000</td>\n",
       "      <td>1.000000</td>\n",
       "    </tr>\n",
       "  </tbody>\n",
       "</table>\n",
       "</div>"
      ],
      "text/plain": [
       "                        Call_Minutes  Number_Of_Calls   REV_AMT  Call_Hours  \\\n",
       "Call_Minutes                1.000000         0.781774  0.021856    1.000000   \n",
       "Number_Of_Calls             0.781774         1.000000  0.021072    0.781774   \n",
       "REV_AMT                     0.021856         0.021072  1.000000    0.021856   \n",
       "Call_Hours                  1.000000         0.781774  0.021856    1.000000   \n",
       "Productivity_Unsuccess     -0.216273        -0.421321 -0.965014   -0.216273   \n",
       "Productivity_Unsuccess     -0.216273        -0.421321 -0.965014   -0.216273   \n",
       "\n",
       "                        Productivity_Unsuccess  Productivity_Unsuccess  \n",
       "Call_Minutes                         -0.216273               -0.216273  \n",
       "Number_Of_Calls                      -0.421321               -0.421321  \n",
       "REV_AMT                              -0.965014               -0.965014  \n",
       "Call_Hours                           -0.216273               -0.216273  \n",
       "Productivity_Unsuccess                1.000000                1.000000  \n",
       "Productivity_Unsuccess                1.000000                1.000000  "
      ]
     },
     "execution_count": 570,
     "metadata": {},
     "output_type": "execute_result"
    }
   ],
   "source": [
    "corrMatrix = dt_rev.corr()\n",
    "corrMatrix"
   ]
  },
  {
   "cell_type": "code",
   "execution_count": 571,
   "metadata": {},
   "outputs": [
    {
     "data": {
      "image/png": "[encoded data removed]",
      "text/plain": [
       "<Figure size 432x288 with 2 Axes>"
      ]
     },
     "metadata": {
      "needs_background": "light"
     },
     "output_type": "display_data"
    }
   ],
   "source": [
    "sns.heatmap(corrMatrix, annot=True)\n",
    "plt.show()"
   ]
  },
  {
   "cell_type": "markdown",
   "metadata": {},
   "source": [
    "The value of 0.02 shows a positive but weak linear relationship between the two variables. Let’s confirm this with the linear regression correlation tes"
   ]
  },
  {
   "cell_type": "markdown",
   "metadata": {},
   "source": [
    "## Liner Correlation"
   ]
  },
  {
   "cell_type": "code",
   "execution_count": 572,
   "metadata": {},
   "outputs": [
    {
     "data": {
      "text/plain": [
       "Intercept     146943.346860\n",
       "Call_Hours    288215.265368\n",
       "dtype: float64"
      ]
     },
     "execution_count": 572,
     "metadata": {},
     "output_type": "execute_result"
    }
   ],
   "source": [
    "## STATSMODELS ###\n",
    "# create a fitted model\n",
    "lm1 = smf.ols(formula='REV_AMT ~ Call_Hours', data=dt_rev).fit()\n",
    "# print the coefficients\n",
    "lm1.params"
   ]
  },
  {
   "cell_type": "code",
   "execution_count": 573,
   "metadata": {},
   "outputs": [],
   "source": [
    "from scipy.stats import linregress"
   ]
  },
  {
   "cell_type": "code",
   "execution_count": 574,
   "metadata": {},
   "outputs": [
    {
     "data": {
      "text/plain": [
       "LinregressResult(slope=3.8847976298884506e-05, intercept=869.3934293849426, rvalue=0.021071792943439065, pvalue=0.05509182953208499, stderr=2.024996208189536e-05)"
      ]
     },
     "execution_count": 574,
     "metadata": {},
     "output_type": "execute_result"
    }
   ],
   "source": [
    "linregress(dt_rev['REV_AMT'], dt_rev['Number_Of_Calls'])"
   ]
  },
  {
   "cell_type": "code",
   "execution_count": 575,
   "metadata": {},
   "outputs": [
    {
     "data": {
      "text/plain": [
       "LinregressResult(slope=1.6573692448540211e-09, intercept=0.038242902727425226, rvalue=0.021855871447226363, pvalue=0.04664138976572491, stderr=8.329158759815226e-10)"
      ]
     },
     "execution_count": 575,
     "metadata": {},
     "output_type": "execute_result"
    }
   ],
   "source": [
    "linregress(dt_rev['REV_AMT'], dt_rev['Call_Hours'])"
   ]
  },
  {
   "cell_type": "code",
   "execution_count": 576,
   "metadata": {},
   "outputs": [
    {
     "name": "stdout",
     "output_type": "stream",
     "text": [
      "146943.3468595992\n",
      "[288215.26536759]\n"
     ]
    }
   ],
   "source": [
    "### SCIKIT-LEARN ###\n",
    "# create X and y\n",
    "feature_cols = ['Call_Hours']\n",
    "X = dt_rev[feature_cols]\n",
    "y = dt_rev.REV_AMT\n",
    "# instantiate and fit\n",
    "lm2 = LinearRegression()\n",
    "lm2.fit(X, y)\n",
    "# print the coefficients\n",
    "print(lm2.intercept_)\n",
    "print(lm2.coef_)"
   ]
  },
  {
   "cell_type": "code",
   "execution_count": 577,
   "metadata": {},
   "outputs": [
    {
     "data": {
      "text/html": [
       "<div>\n",
       "<style scoped>\n",
       "    .dataframe tbody tr th:only-of-type {\n",
       "        vertical-align: middle;\n",
       "    }\n",
       "\n",
       "    .dataframe tbody tr th {\n",
       "        vertical-align: top;\n",
       "    }\n",
       "\n",
       "    .dataframe thead th {\n",
       "        text-align: right;\n",
       "    }\n",
       "</style>\n",
       "<table border=\"1\" class=\"dataframe\">\n",
       "  <thead>\n",
       "    <tr style=\"text-align: right;\">\n",
       "      <th></th>\n",
       "      <th>0</th>\n",
       "      <th>1</th>\n",
       "    </tr>\n",
       "  </thead>\n",
       "  <tbody>\n",
       "    <tr>\n",
       "      <th>Intercept</th>\n",
       "      <td>129714.419654</td>\n",
       "      <td>164172.274065</td>\n",
       "    </tr>\n",
       "    <tr>\n",
       "      <th>Call_Hours</th>\n",
       "      <td>4285.851305</td>\n",
       "      <td>572144.679430</td>\n",
       "    </tr>\n",
       "  </tbody>\n",
       "</table>\n",
       "</div>"
      ],
      "text/plain": [
       "                        0              1\n",
       "Intercept   129714.419654  164172.274065\n",
       "Call_Hours    4285.851305  572144.679430"
      ]
     },
     "execution_count": 577,
     "metadata": {},
     "output_type": "execute_result"
    }
   ],
   "source": [
    "### STATSMODELS ###\n",
    "# print the confidence intervals for the model coefficients\n",
    "lm1.conf_int()"
   ]
  },
  {
   "cell_type": "markdown",
   "metadata": {},
   "source": [
    "The \"true\" coefficient is either within this interval or it isn't, but there's no way to actually know\n",
    "We estimate the coefficient with the data we do have, and we show uncertainty about that estimate by giving a range that the coefficient is probably within"
   ]
  },
  {
   "cell_type": "code",
   "execution_count": 578,
   "metadata": {},
   "outputs": [
    {
     "data": {
      "text/plain": [
       "Intercept     9.765587e-62\n",
       "Call_Hours    4.664139e-02\n",
       "dtype: float64"
      ]
     },
     "execution_count": 578,
     "metadata": {},
     "output_type": "execute_result"
    }
   ],
   "source": [
    "### STATSMODELS ###\n",
    "# print the p-values for the model coefficients\n",
    "lm1.pvalues"
   ]
  },
  {
   "cell_type": "code",
   "execution_count": 579,
   "metadata": {},
   "outputs": [
    {
     "data": {
      "text/html": [
       "<table class=\"simpletable\">\n",
       "<caption>OLS Regression Results</caption>\n",
       "<tr>\n",
       "  <th>Dep. Variable:</th>         <td>REV_AMT</td>     <th>  R-squared:         </th>  <td>   0.000</td>  \n",
       "</tr>\n",
       "<tr>\n",
       "  <th>Model:</th>                   <td>OLS</td>       <th>  Adj. R-squared:    </th>  <td>   0.000</td>  \n",
       "</tr>\n",
       "<tr>\n",
       "  <th>Method:</th>             <td>Least Squares</td>  <th>  F-statistic:       </th>  <td>   3.959</td>  \n",
       "</tr>\n",
       "<tr>\n",
       "  <th>Date:</th>             <td>Fri, 04 Jun 2021</td> <th>  Prob (F-statistic):</th>   <td>0.0466</td>   \n",
       "</tr>\n",
       "<tr>\n",
       "  <th>Time:</th>                 <td>13:30:59</td>     <th>  Log-Likelihood:    </th> <td>-1.2226e+05</td>\n",
       "</tr>\n",
       "<tr>\n",
       "  <th>No. Observations:</th>      <td>  8287</td>      <th>  AIC:               </th>  <td>2.445e+05</td> \n",
       "</tr>\n",
       "<tr>\n",
       "  <th>Df Residuals:</th>          <td>  8285</td>      <th>  BIC:               </th>  <td>2.445e+05</td> \n",
       "</tr>\n",
       "<tr>\n",
       "  <th>Df Model:</th>              <td>     1</td>      <th>                     </th>      <td> </td>     \n",
       "</tr>\n",
       "<tr>\n",
       "  <th>Covariance Type:</th>      <td>nonrobust</td>    <th>                     </th>      <td> </td>     \n",
       "</tr>\n",
       "</table>\n",
       "<table class=\"simpletable\">\n",
       "<tr>\n",
       "       <td></td>         <th>coef</th>     <th>std err</th>      <th>t</th>      <th>P>|t|</th>  <th>[0.025</th>    <th>0.975]</th>  \n",
       "</tr>\n",
       "<tr>\n",
       "  <th>Intercept</th>  <td> 1.469e+05</td> <td> 8789.146</td> <td>   16.719</td> <td> 0.000</td> <td>  1.3e+05</td> <td> 1.64e+05</td>\n",
       "</tr>\n",
       "<tr>\n",
       "  <th>Call_Hours</th> <td> 2.882e+05</td> <td> 1.45e+05</td> <td>    1.990</td> <td> 0.047</td> <td> 4285.851</td> <td> 5.72e+05</td>\n",
       "</tr>\n",
       "</table>\n",
       "<table class=\"simpletable\">\n",
       "<tr>\n",
       "  <th>Omnibus:</th>       <td>8485.192</td> <th>  Durbin-Watson:     </th>  <td>   1.989</td> \n",
       "</tr>\n",
       "<tr>\n",
       "  <th>Prob(Omnibus):</th>  <td> 0.000</td>  <th>  Jarque-Bera (JB):  </th> <td>353790.623</td>\n",
       "</tr>\n",
       "<tr>\n",
       "  <th>Skew:</th>           <td> 5.320</td>  <th>  Prob(JB):          </th>  <td>    0.00</td> \n",
       "</tr>\n",
       "<tr>\n",
       "  <th>Kurtosis:</th>       <td>33.189</td>  <th>  Cond. No.          </th>  <td>    21.4</td> \n",
       "</tr>\n",
       "</table><br/><br/>Notes:<br/>[1] Standard Errors assume that the covariance matrix of the errors is correctly specified."
      ],
      "text/plain": [
       "<class 'statsmodels.iolib.summary.Summary'>\n",
       "\"\"\"\n",
       "                            OLS Regression Results                            \n",
       "==============================================================================\n",
       "Dep. Variable:                REV_AMT   R-squared:                       0.000\n",
       "Model:                            OLS   Adj. R-squared:                  0.000\n",
       "Method:                 Least Squares   F-statistic:                     3.959\n",
       "Date:                Fri, 04 Jun 2021   Prob (F-statistic):             0.0466\n",
       "Time:                        13:30:59   Log-Likelihood:            -1.2226e+05\n",
       "No. Observations:                8287   AIC:                         2.445e+05\n",
       "Df Residuals:                    8285   BIC:                         2.445e+05\n",
       "Df Model:                           1                                         \n",
       "Covariance Type:            nonrobust                                         \n",
       "==============================================================================\n",
       "                 coef    std err          t      P>|t|      [0.025      0.975]\n",
       "------------------------------------------------------------------------------\n",
       "Intercept   1.469e+05   8789.146     16.719      0.000     1.3e+05    1.64e+05\n",
       "Call_Hours  2.882e+05   1.45e+05      1.990      0.047    4285.851    5.72e+05\n",
       "==============================================================================\n",
       "Omnibus:                     8485.192   Durbin-Watson:                   1.989\n",
       "Prob(Omnibus):                  0.000   Jarque-Bera (JB):           353790.623\n",
       "Skew:                           5.320   Prob(JB):                         0.00\n",
       "Kurtosis:                      33.189   Cond. No.                         21.4\n",
       "==============================================================================\n",
       "\n",
       "Notes:\n",
       "[1] Standard Errors assume that the covariance matrix of the errors is correctly specified.\n",
       "\"\"\""
      ]
     },
     "execution_count": 579,
     "metadata": {},
     "output_type": "execute_result"
    }
   ],
   "source": [
    "### STATSMODELS ###\n",
    "# print a summary of the fitted model\n",
    "lm1.summary()"
   ]
  },
  {
   "cell_type": "markdown",
   "metadata": {},
   "source": [
    "if the p-value turns out to be less than 0.05, you can reject the null hypothesis and state that β1 is indeed significant."
   ]
  },
  {
   "cell_type": "markdown",
   "metadata": {},
   "source": [
    "## Adding dummie for Productivity"
   ]
  },
  {
   "cell_type": "code",
   "execution_count": 580,
   "metadata": {},
   "outputs": [],
   "source": [
    "dummies=pd.get_dummies(dt_rev[[\"Productivity\"]],columns=[\"Productivity\"],prefix=[\"Productivity\"],drop_first=True).head()\n",
    "columns=[\"Productivity\"]\n",
    "dt_rev = pd.concat([dt_rev,dummies],axis=1)"
   ]
  },
  {
   "cell_type": "code",
   "execution_count": 581,
   "metadata": {},
   "outputs": [
    {
     "data": {
      "text/html": [
       "<div>\n",
       "<style scoped>\n",
       "    .dataframe tbody tr th:only-of-type {\n",
       "        vertical-align: middle;\n",
       "    }\n",
       "\n",
       "    .dataframe tbody tr th {\n",
       "        vertical-align: top;\n",
       "    }\n",
       "\n",
       "    .dataframe thead th {\n",
       "        text-align: right;\n",
       "    }\n",
       "</style>\n",
       "<table border=\"1\" class=\"dataframe\">\n",
       "  <thead>\n",
       "    <tr style=\"text-align: right;\">\n",
       "      <th></th>\n",
       "      <th>SELLER</th>\n",
       "      <th>Call_Minutes</th>\n",
       "      <th>Number_Of_Calls</th>\n",
       "      <th>Sub_Brand</th>\n",
       "      <th>Segment</th>\n",
       "      <th>Geo</th>\n",
       "      <th>Mkt</th>\n",
       "      <th>EMPLOYEE_MGR_L1_NAME</th>\n",
       "      <th>REV_AMT</th>\n",
       "      <th>Call_Hours</th>\n",
       "      <th>Productivity</th>\n",
       "      <th>Productivity_Unsuccess</th>\n",
       "      <th>Productivity_Unsuccess</th>\n",
       "      <th>Productivity_Unsuccess</th>\n",
       "    </tr>\n",
       "  </thead>\n",
       "  <tbody>\n",
       "    <tr>\n",
       "      <th>0</th>\n",
       "      <td>A RAM UM</td>\n",
       "      <td>46770</td>\n",
       "      <td>1559</td>\n",
       "      <td>NaN</td>\n",
       "      <td>NaN</td>\n",
       "      <td>NaN</td>\n",
       "      <td>NaN</td>\n",
       "      <td>NaN</td>\n",
       "      <td>0.0</td>\n",
       "      <td>0.090603</td>\n",
       "      <td>Unsuccess</td>\n",
       "      <td>1.0</td>\n",
       "      <td>1.0</td>\n",
       "      <td>1.0</td>\n",
       "    </tr>\n",
       "    <tr>\n",
       "      <th>1</th>\n",
       "      <td>AADIL LAGHZAOUI</td>\n",
       "      <td>21510</td>\n",
       "      <td>1196</td>\n",
       "      <td>Systems HW Cross Brand</td>\n",
       "      <td>Segment 2</td>\n",
       "      <td>EMEA</td>\n",
       "      <td>MEA</td>\n",
       "      <td>Hicham Sbaa</td>\n",
       "      <td>634000.0</td>\n",
       "      <td>0.041669</td>\n",
       "      <td>Success</td>\n",
       "      <td>0.0</td>\n",
       "      <td>0.0</td>\n",
       "      <td>0.0</td>\n",
       "    </tr>\n",
       "    <tr>\n",
       "      <th>2</th>\n",
       "      <td>AALISHAN MOOSAVI</td>\n",
       "      <td>1365</td>\n",
       "      <td>68</td>\n",
       "      <td>NaN</td>\n",
       "      <td>NaN</td>\n",
       "      <td>NaN</td>\n",
       "      <td>NaN</td>\n",
       "      <td>NaN</td>\n",
       "      <td>0.0</td>\n",
       "      <td>0.002644</td>\n",
       "      <td>Unsuccess</td>\n",
       "      <td>1.0</td>\n",
       "      <td>1.0</td>\n",
       "      <td>1.0</td>\n",
       "    </tr>\n",
       "    <tr>\n",
       "      <th>3</th>\n",
       "      <td>AARON BROWN</td>\n",
       "      <td>27630</td>\n",
       "      <td>994</td>\n",
       "      <td>SW Crossbrand (non z)</td>\n",
       "      <td>Segment 2</td>\n",
       "      <td>AMER</td>\n",
       "      <td>PUB</td>\n",
       "      <td>Paula Buerkle</td>\n",
       "      <td>972000.0</td>\n",
       "      <td>0.053525</td>\n",
       "      <td>Success</td>\n",
       "      <td>0.0</td>\n",
       "      <td>0.0</td>\n",
       "      <td>0.0</td>\n",
       "    </tr>\n",
       "    <tr>\n",
       "      <th>4</th>\n",
       "      <td>AARON FIELD</td>\n",
       "      <td>3420</td>\n",
       "      <td>129</td>\n",
       "      <td>NaN</td>\n",
       "      <td>NaN</td>\n",
       "      <td>NaN</td>\n",
       "      <td>NaN</td>\n",
       "      <td>NaN</td>\n",
       "      <td>0.0</td>\n",
       "      <td>0.006625</td>\n",
       "      <td>Unsuccess</td>\n",
       "      <td>1.0</td>\n",
       "      <td>1.0</td>\n",
       "      <td>1.0</td>\n",
       "    </tr>\n",
       "  </tbody>\n",
       "</table>\n",
       "</div>"
      ],
      "text/plain": [
       "             SELLER  Call_Minutes  Number_Of_Calls               Sub_Brand  \\\n",
       "0          A RAM UM         46770             1559                     NaN   \n",
       "1   AADIL LAGHZAOUI         21510             1196  Systems HW Cross Brand   \n",
       "2  AALISHAN MOOSAVI          1365               68                     NaN   \n",
       "3       AARON BROWN         27630              994   SW Crossbrand (non z)   \n",
       "4       AARON FIELD          3420              129                     NaN   \n",
       "\n",
       "     Segment   Geo  Mkt EMPLOYEE_MGR_L1_NAME    REV_AMT  Call_Hours  \\\n",
       "0        NaN   NaN  NaN                   NaN       0.0    0.090603   \n",
       "1  Segment 2  EMEA  MEA           Hicham Sbaa  634000.0    0.041669   \n",
       "2        NaN   NaN  NaN                   NaN       0.0    0.002644   \n",
       "3  Segment 2  AMER  PUB         Paula Buerkle  972000.0    0.053525   \n",
       "4        NaN   NaN  NaN                   NaN       0.0    0.006625   \n",
       "\n",
       "  Productivity  Productivity_Unsuccess  Productivity_Unsuccess  \\\n",
       "0    Unsuccess                     1.0                     1.0   \n",
       "1      Success                     0.0                     0.0   \n",
       "2    Unsuccess                     1.0                     1.0   \n",
       "3      Success                     0.0                     0.0   \n",
       "4    Unsuccess                     1.0                     1.0   \n",
       "\n",
       "   Productivity_Unsuccess  \n",
       "0                     1.0  \n",
       "1                     0.0  \n",
       "2                     1.0  \n",
       "3                     0.0  \n",
       "4                     1.0  "
      ]
     },
     "execution_count": 581,
     "metadata": {},
     "output_type": "execute_result"
    }
   ],
   "source": [
    "dt_rev.head()"
   ]
  },
  {
   "cell_type": "code",
   "execution_count": 582,
   "metadata": {},
   "outputs": [
    {
     "data": {
      "image/png": "[encoded data removed]",
      "text/plain": [
       "<Figure size 360x360 with 1 Axes>"
      ]
     },
     "metadata": {},
     "output_type": "display_data"
    }
   ],
   "source": [
    "q1_geo = dt_rev.groupby(\"Geo\")[\"Number_Of_Calls\"].sum()\n",
    "q1_geo\n",
    "# data.plot.pie(autopct=\"%.1f%%\");\n",
    "# Using matplotlib\n",
    "pie, ax = plt.subplots(figsize=[5,5])\n",
    "labels = q1_geo.keys()\n",
    "plt.pie(x=q1_geo, autopct=\"%.1f%%\", explode=[0.05]*4, labels=labels, pctdistance=0.5)\n",
    "plt.title(\"Total Number_Of_Calls made by Geo for Qurter 2021\", fontsize=14);\n",
    "pie.savefig(\"q1GeoPieChart.png\")"
   ]
  },
  {
   "cell_type": "code",
   "execution_count": 583,
   "metadata": {},
   "outputs": [
    {
     "data": {
      "text/html": [
       "<div>\n",
       "<style scoped>\n",
       "    .dataframe tbody tr th:only-of-type {\n",
       "        vertical-align: middle;\n",
       "    }\n",
       "\n",
       "    .dataframe tbody tr th {\n",
       "        vertical-align: top;\n",
       "    }\n",
       "\n",
       "    .dataframe thead th {\n",
       "        text-align: right;\n",
       "    }\n",
       "</style>\n",
       "<table border=\"1\" class=\"dataframe\">\n",
       "  <thead>\n",
       "    <tr style=\"text-align: right;\">\n",
       "      <th></th>\n",
       "      <th>Geo</th>\n",
       "      <th>Number_Of_Calls</th>\n",
       "    </tr>\n",
       "  </thead>\n",
       "  <tbody>\n",
       "    <tr>\n",
       "      <th>0</th>\n",
       "      <td>EMEA</td>\n",
       "      <td>854403</td>\n",
       "    </tr>\n",
       "    <tr>\n",
       "      <th>1</th>\n",
       "      <td>AMER</td>\n",
       "      <td>717478</td>\n",
       "    </tr>\n",
       "    <tr>\n",
       "      <th>2</th>\n",
       "      <td>APAC</td>\n",
       "      <td>198451</td>\n",
       "    </tr>\n",
       "    <tr>\n",
       "      <th>3</th>\n",
       "      <td>JN</td>\n",
       "      <td>140171</td>\n",
       "    </tr>\n",
       "  </tbody>\n",
       "</table>\n",
       "</div>"
      ],
      "text/plain": [
       "    Geo  Number_Of_Calls\n",
       "0  EMEA           854403\n",
       "1  AMER           717478\n",
       "2  APAC           198451\n",
       "3    JN           140171"
      ]
     },
     "execution_count": 583,
     "metadata": {},
     "output_type": "execute_result"
    }
   ],
   "source": [
    "dt_geo = dt_rev.pivot_table(index=['Geo'], values=['Number_Of_Calls'], aggfunc='sum')\n",
    "dt_geo = dt_geo.sort_values('Number_Of_Calls',ascending=False).reset_index() \n",
    "dt_geo"
   ]
  },
  {
   "cell_type": "code",
   "execution_count": 584,
   "metadata": {},
   "outputs": [
    {
     "data": {
      "text/plain": [
       "<seaborn.axisgrid.FacetGrid at 0x18e608fcfd0>"
      ]
     },
     "execution_count": 584,
     "metadata": {},
     "output_type": "execute_result"
    },
    {
     "data": {
      "text/plain": [
       "<Figure size 1080x576 with 0 Axes>"
      ]
     },
     "metadata": {},
     "output_type": "display_data"
    },
    {
     "data": {
      "image/png": "[encoded data removed]",
      "text/plain": [
       "<Figure size 449x360 with 1 Axes>"
      ]
     },
     "metadata": {
      "needs_background": "light"
     },
     "output_type": "display_data"
    }
   ],
   "source": [
    "plt.figure(figsize=(15,8))\n",
    "sns.catplot(y=\"Geo\", hue=\"Productivity\", kind=\"count\",palette=\"pastel\", edgecolor=\".6\",data=dt_rev)"
   ]
  },
  {
   "cell_type": "code",
   "execution_count": 585,
   "metadata": {},
   "outputs": [
    {
     "data": {
      "text/html": [
       "<div>\n",
       "<style scoped>\n",
       "    .dataframe tbody tr th:only-of-type {\n",
       "        vertical-align: middle;\n",
       "    }\n",
       "\n",
       "    .dataframe tbody tr th {\n",
       "        vertical-align: top;\n",
       "    }\n",
       "\n",
       "    .dataframe thead th {\n",
       "        text-align: right;\n",
       "    }\n",
       "</style>\n",
       "<table border=\"1\" class=\"dataframe\">\n",
       "  <thead>\n",
       "    <tr style=\"text-align: right;\">\n",
       "      <th></th>\n",
       "      <th>Geo</th>\n",
       "      <th>Productivity</th>\n",
       "    </tr>\n",
       "  </thead>\n",
       "  <tbody>\n",
       "    <tr>\n",
       "      <th>0</th>\n",
       "      <td>EMEA</td>\n",
       "      <td>877</td>\n",
       "    </tr>\n",
       "    <tr>\n",
       "      <th>1</th>\n",
       "      <td>AMER</td>\n",
       "      <td>708</td>\n",
       "    </tr>\n",
       "    <tr>\n",
       "      <th>2</th>\n",
       "      <td>JN</td>\n",
       "      <td>186</td>\n",
       "    </tr>\n",
       "    <tr>\n",
       "      <th>3</th>\n",
       "      <td>APAC</td>\n",
       "      <td>163</td>\n",
       "    </tr>\n",
       "  </tbody>\n",
       "</table>\n",
       "</div>"
      ],
      "text/plain": [
       "    Geo  Productivity\n",
       "0  EMEA           877\n",
       "1  AMER           708\n",
       "2    JN           186\n",
       "3  APAC           163"
      ]
     },
     "execution_count": 585,
     "metadata": {},
     "output_type": "execute_result"
    }
   ],
   "source": [
    "dt_gct = dt_rev.pivot_table(index=['Geo'], values=['Productivity'], aggfunc='count')\n",
    "dt_gct = dt_gct.sort_values('Productivity',ascending=False).reset_index() \n",
    "dt_gct"
   ]
  },
  {
   "cell_type": "code",
   "execution_count": 586,
   "metadata": {},
   "outputs": [
    {
     "data": {
      "text/plain": [
       "<AxesSubplot:xlabel='Geo', ylabel='Number_Of_Calls'>"
      ]
     },
     "execution_count": 586,
     "metadata": {},
     "output_type": "execute_result"
    },
    {
     "data": {
      "image/png": "[encoded data removed]",
      "text/plain": [
       "<Figure size 432x288 with 1 Axes>"
      ]
     },
     "metadata": {
      "needs_background": "light"
     },
     "output_type": "display_data"
    }
   ],
   "source": [
    "# plt.figure(figsize=(8,8))\n",
    "sns.barplot(x='Geo', y= 'Number_Of_Calls',data=dt_rev,hue='Productivity',ci=None)"
   ]
  },
  {
   "cell_type": "code",
   "execution_count": 587,
   "metadata": {},
   "outputs": [
    {
     "data": {
      "text/html": [
       "<div>\n",
       "<style scoped>\n",
       "    .dataframe tbody tr th:only-of-type {\n",
       "        vertical-align: middle;\n",
       "    }\n",
       "\n",
       "    .dataframe tbody tr th {\n",
       "        vertical-align: top;\n",
       "    }\n",
       "\n",
       "    .dataframe thead th {\n",
       "        text-align: right;\n",
       "    }\n",
       "</style>\n",
       "<table border=\"1\" class=\"dataframe\">\n",
       "  <thead>\n",
       "    <tr style=\"text-align: right;\">\n",
       "      <th></th>\n",
       "      <th>Productivity</th>\n",
       "      <th>Geo</th>\n",
       "      <th>Number_Of_Calls</th>\n",
       "    </tr>\n",
       "  </thead>\n",
       "  <tbody>\n",
       "    <tr>\n",
       "      <th>0</th>\n",
       "      <td>Success</td>\n",
       "      <td>EMEA</td>\n",
       "      <td>654375</td>\n",
       "    </tr>\n",
       "    <tr>\n",
       "      <th>1</th>\n",
       "      <td>Success</td>\n",
       "      <td>AMER</td>\n",
       "      <td>545452</td>\n",
       "    </tr>\n",
       "    <tr>\n",
       "      <th>2</th>\n",
       "      <td>Unsuccess</td>\n",
       "      <td>EMEA</td>\n",
       "      <td>200028</td>\n",
       "    </tr>\n",
       "    <tr>\n",
       "      <th>3</th>\n",
       "      <td>Success</td>\n",
       "      <td>APAC</td>\n",
       "      <td>179098</td>\n",
       "    </tr>\n",
       "    <tr>\n",
       "      <th>4</th>\n",
       "      <td>Unsuccess</td>\n",
       "      <td>AMER</td>\n",
       "      <td>172026</td>\n",
       "    </tr>\n",
       "    <tr>\n",
       "      <th>5</th>\n",
       "      <td>Success</td>\n",
       "      <td>JN</td>\n",
       "      <td>133086</td>\n",
       "    </tr>\n",
       "    <tr>\n",
       "      <th>6</th>\n",
       "      <td>Unsuccess</td>\n",
       "      <td>APAC</td>\n",
       "      <td>19353</td>\n",
       "    </tr>\n",
       "    <tr>\n",
       "      <th>7</th>\n",
       "      <td>Unsuccess</td>\n",
       "      <td>JN</td>\n",
       "      <td>7085</td>\n",
       "    </tr>\n",
       "  </tbody>\n",
       "</table>\n",
       "</div>"
      ],
      "text/plain": [
       "  Productivity   Geo  Number_Of_Calls\n",
       "0      Success  EMEA           654375\n",
       "1      Success  AMER           545452\n",
       "2    Unsuccess  EMEA           200028\n",
       "3      Success  APAC           179098\n",
       "4    Unsuccess  AMER           172026\n",
       "5      Success    JN           133086\n",
       "6    Unsuccess  APAC            19353\n",
       "7    Unsuccess    JN             7085"
      ]
     },
     "execution_count": 587,
     "metadata": {},
     "output_type": "execute_result"
    }
   ],
   "source": [
    "dt_gct = dt_rev.pivot_table(index=['Productivity','Geo'], values=['Number_Of_Calls'], aggfunc='sum')\n",
    "dt_gct = dt_gct.sort_values('Number_Of_Calls',ascending=False).reset_index() \n",
    "dt_gct.head(10)"
   ]
  },
  {
   "cell_type": "code",
   "execution_count": 588,
   "metadata": {},
   "outputs": [
    {
     "data": {
      "text/html": [
       "<div>\n",
       "<style scoped>\n",
       "    .dataframe tbody tr th:only-of-type {\n",
       "        vertical-align: middle;\n",
       "    }\n",
       "\n",
       "    .dataframe tbody tr th {\n",
       "        vertical-align: top;\n",
       "    }\n",
       "\n",
       "    .dataframe thead th {\n",
       "        text-align: right;\n",
       "    }\n",
       "</style>\n",
       "<table border=\"1\" class=\"dataframe\">\n",
       "  <thead>\n",
       "    <tr style=\"text-align: right;\">\n",
       "      <th></th>\n",
       "      <th>Productivity</th>\n",
       "      <th>Geo</th>\n",
       "      <th>Call_Hours</th>\n",
       "    </tr>\n",
       "  </thead>\n",
       "  <tbody>\n",
       "    <tr>\n",
       "      <th>0</th>\n",
       "      <td>Success</td>\n",
       "      <td>EMEA</td>\n",
       "      <td>30.144815</td>\n",
       "    </tr>\n",
       "    <tr>\n",
       "      <th>1</th>\n",
       "      <td>Success</td>\n",
       "      <td>AMER</td>\n",
       "      <td>26.055650</td>\n",
       "    </tr>\n",
       "    <tr>\n",
       "      <th>2</th>\n",
       "      <td>Unsuccess</td>\n",
       "      <td>EMEA</td>\n",
       "      <td>9.198782</td>\n",
       "    </tr>\n",
       "    <tr>\n",
       "      <th>3</th>\n",
       "      <td>Unsuccess</td>\n",
       "      <td>AMER</td>\n",
       "      <td>8.245402</td>\n",
       "    </tr>\n",
       "    <tr>\n",
       "      <th>4</th>\n",
       "      <td>Success</td>\n",
       "      <td>APAC</td>\n",
       "      <td>7.831009</td>\n",
       "    </tr>\n",
       "    <tr>\n",
       "      <th>5</th>\n",
       "      <td>Success</td>\n",
       "      <td>JN</td>\n",
       "      <td>5.137332</td>\n",
       "    </tr>\n",
       "    <tr>\n",
       "      <th>6</th>\n",
       "      <td>Unsuccess</td>\n",
       "      <td>APAC</td>\n",
       "      <td>0.867166</td>\n",
       "    </tr>\n",
       "    <tr>\n",
       "      <th>7</th>\n",
       "      <td>Unsuccess</td>\n",
       "      <td>JN</td>\n",
       "      <td>0.282085</td>\n",
       "    </tr>\n",
       "  </tbody>\n",
       "</table>\n",
       "</div>"
      ],
      "text/plain": [
       "  Productivity   Geo  Call_Hours\n",
       "0      Success  EMEA   30.144815\n",
       "1      Success  AMER   26.055650\n",
       "2    Unsuccess  EMEA    9.198782\n",
       "3    Unsuccess  AMER    8.245402\n",
       "4      Success  APAC    7.831009\n",
       "5      Success    JN    5.137332\n",
       "6    Unsuccess  APAC    0.867166\n",
       "7    Unsuccess    JN    0.282085"
      ]
     },
     "execution_count": 588,
     "metadata": {},
     "output_type": "execute_result"
    }
   ],
   "source": [
    "dt_gct = dt_rev.pivot_table(index=['Productivity','Geo'], values=['Call_Hours'], aggfunc='sum')\n",
    "dt_gct = dt_gct.sort_values('Call_Hours',ascending=False).reset_index() \n",
    "dt_gct.head(10)"
   ]
  },
  {
   "cell_type": "code",
   "execution_count": 589,
   "metadata": {},
   "outputs": [
    {
     "data": {
      "text/html": [
       "<div>\n",
       "<style scoped>\n",
       "    .dataframe tbody tr th:only-of-type {\n",
       "        vertical-align: middle;\n",
       "    }\n",
       "\n",
       "    .dataframe tbody tr th {\n",
       "        vertical-align: top;\n",
       "    }\n",
       "\n",
       "    .dataframe thead th {\n",
       "        text-align: right;\n",
       "    }\n",
       "</style>\n",
       "<table border=\"1\" class=\"dataframe\">\n",
       "  <thead>\n",
       "    <tr style=\"text-align: right;\">\n",
       "      <th></th>\n",
       "      <th>Mkt</th>\n",
       "      <th>Number_Of_Calls</th>\n",
       "    </tr>\n",
       "  </thead>\n",
       "  <tbody>\n",
       "    <tr>\n",
       "      <th>0</th>\n",
       "      <td>DACH</td>\n",
       "      <td>222612</td>\n",
       "    </tr>\n",
       "    <tr>\n",
       "      <th>1</th>\n",
       "      <td>PUB</td>\n",
       "      <td>173922</td>\n",
       "    </tr>\n",
       "    <tr>\n",
       "      <th>2</th>\n",
       "      <td>JAPAN</td>\n",
       "      <td>140171</td>\n",
       "    </tr>\n",
       "    <tr>\n",
       "      <th>3</th>\n",
       "      <td>FSS</td>\n",
       "      <td>133995</td>\n",
       "    </tr>\n",
       "    <tr>\n",
       "      <th>4</th>\n",
       "      <td>ITA</td>\n",
       "      <td>123049</td>\n",
       "    </tr>\n",
       "    <tr>\n",
       "      <th>5</th>\n",
       "      <td>LA</td>\n",
       "      <td>118293</td>\n",
       "    </tr>\n",
       "    <tr>\n",
       "      <th>6</th>\n",
       "      <td>CEE</td>\n",
       "      <td>116345</td>\n",
       "    </tr>\n",
       "    <tr>\n",
       "      <th>7</th>\n",
       "      <td>FRA</td>\n",
       "      <td>107828</td>\n",
       "    </tr>\n",
       "    <tr>\n",
       "      <th>8</th>\n",
       "      <td>COM</td>\n",
       "      <td>81422</td>\n",
       "    </tr>\n",
       "    <tr>\n",
       "      <th>9</th>\n",
       "      <td>MEA</td>\n",
       "      <td>81373</td>\n",
       "    </tr>\n",
       "  </tbody>\n",
       "</table>\n",
       "</div>"
      ],
      "text/plain": [
       "     Mkt  Number_Of_Calls\n",
       "0   DACH           222612\n",
       "1    PUB           173922\n",
       "2  JAPAN           140171\n",
       "3    FSS           133995\n",
       "4    ITA           123049\n",
       "5     LA           118293\n",
       "6    CEE           116345\n",
       "7    FRA           107828\n",
       "8    COM            81422\n",
       "9    MEA            81373"
      ]
     },
     "execution_count": 589,
     "metadata": {},
     "output_type": "execute_result"
    }
   ],
   "source": [
    "q1_mkt = dt_rev.groupby('Mkt').sum()['Number_Of_Calls'].reset_index()\n",
    "q1_mkt = q1_mkt.sort_values('Number_Of_Calls',ascending=False).reset_index(drop=True)\n",
    "q1_mkt.head(10)"
   ]
  },
  {
   "cell_type": "code",
   "execution_count": 590,
   "metadata": {},
   "outputs": [
    {
     "data": {
      "image/png": "[encoded data removed]",
      "text/plain": [
       "<Figure size 864x576 with 1 Axes>"
      ]
     },
     "metadata": {
      "needs_background": "light"
     },
     "output_type": "display_data"
    }
   ],
   "source": [
    "mkt = q1_mkt['Mkt'].head(12)\n",
    "dur = q1_mkt['Number_Of_Calls'].head(12)\n",
    "# Figure Size\n",
    "fig, ax = plt.subplots(figsize =(12, 8)) \n",
    "# Horizontal Bar Plot\n",
    "ax.barh(mkt, dur)\n",
    "# Remove axes splines\n",
    "for s in ['top', 'bottom', 'left', 'right']:\n",
    "    ax.spines[s].set_visible(False)\n",
    "\n",
    "# Remove x, y Ticks\n",
    "ax.xaxis.set_ticks_position('none')\n",
    "ax.yaxis.set_ticks_position('none')\n",
    "# Add padding between axes and labels\n",
    "ax.xaxis.set_tick_params(pad = 5)\n",
    "ax.yaxis.set_tick_params(pad = 15)\n",
    "# Add x, y gridlines\n",
    "ax.grid(b = True, color ='grey',\n",
    "        linestyle ='-.', linewidth = 0.5,\n",
    "        alpha = 0.2)\n",
    "# Show top values \n",
    "ax.invert_yaxis()\n",
    "# Add annotation to bars\n",
    "for i in ax.patches:\n",
    "    plt.text(i.get_width()+0.2, i.get_y()+0.5,\n",
    "             str(round((i.get_width()), 2)),\n",
    "             fontsize = 10, fontweight ='bold',\n",
    "             color ='grey')\n",
    "# Add Plot Title\n",
    "ax.set_title('Number of calls by Market  ',\n",
    "             loc ='left', )\n",
    "# Add Text watermark\n",
    "fig.text(0.9, 0.15, 'Jeeteshgavande30', fontsize = 12,\n",
    "         color ='grey', ha ='right', va ='bottom',\n",
    "         alpha = 0.5)\n",
    "# Show Plot\n",
    "plt.show()"
   ]
  },
  {
   "cell_type": "code",
   "execution_count": 591,
   "metadata": {},
   "outputs": [
    {
     "data": {
      "image/png": "[encoded data removed]",
      "text/plain": [
       "<Figure size 432x720 with 1 Axes>"
      ]
     },
     "metadata": {
      "needs_background": "light"
     },
     "output_type": "display_data"
    }
   ],
   "source": [
    "# Mkt  wisn and lost\n",
    "plt.figure(figsize=(6,10))\n",
    "sns.countplot(y ='Mkt', hue = \"Productivity\", data = dt_rev)\n",
    "# Show the plot\n",
    "plt.show()"
   ]
  },
  {
   "cell_type": "code",
   "execution_count": 592,
   "metadata": {},
   "outputs": [
    {
     "data": {
      "text/plain": [
       "<AxesSubplot:xlabel='Mkt', ylabel='Number_Of_Calls'>"
      ]
     },
     "execution_count": 592,
     "metadata": {},
     "output_type": "execute_result"
    },
    {
     "data": {
      "image/png": "[encoded data removed]",
      "text/plain": [
       "<Figure size 864x360 with 1 Axes>"
      ]
     },
     "metadata": {
      "needs_background": "light"
     },
     "output_type": "display_data"
    }
   ],
   "source": [
    "# Mkt Hours with win and lost\n",
    "plt.figure(figsize=(12,5))\n",
    "sns.pointplot(x='Mkt', y= 'Number_Of_Calls',data=dt_rev,hue='Productivity',ci=None)"
   ]
  },
  {
   "cell_type": "code",
   "execution_count": 593,
   "metadata": {},
   "outputs": [
    {
     "data": {
      "text/plain": [
       "<AxesSubplot:xlabel='Segment', ylabel='Call_Hours'>"
      ]
     },
     "execution_count": 593,
     "metadata": {},
     "output_type": "execute_result"
    },
    {
     "data": {
      "image/png": "[encoded data removed]",
      "text/plain": [
       "<Figure size 432x288 with 1 Axes>"
      ]
     },
     "metadata": {
      "needs_background": "light"
     },
     "output_type": "display_data"
    }
   ],
   "source": [
    "# Segment wise win and lost \n",
    "sns.pointplot(x='Segment', y= 'Call_Hours',data=dt_rev,hue='Productivity',ci=None)"
   ]
  },
  {
   "cell_type": "code",
   "execution_count": 594,
   "metadata": {},
   "outputs": [],
   "source": [
    "dt_win = dt_rev.pivot_table(index=['Productivity','SELLER'], values=['Call_Hours'], aggfunc='sum')\n",
    "dt_win = dt_win.sort_values('Call_Hours',ascending=False).reset_index() "
   ]
  },
  {
   "cell_type": "code",
   "execution_count": 595,
   "metadata": {},
   "outputs": [
    {
     "data": {
      "text/html": [
       "<div>\n",
       "<style scoped>\n",
       "    .dataframe tbody tr th:only-of-type {\n",
       "        vertical-align: middle;\n",
       "    }\n",
       "\n",
       "    .dataframe tbody tr th {\n",
       "        vertical-align: top;\n",
       "    }\n",
       "\n",
       "    .dataframe thead th {\n",
       "        text-align: right;\n",
       "    }\n",
       "</style>\n",
       "<table border=\"1\" class=\"dataframe\">\n",
       "  <thead>\n",
       "    <tr style=\"text-align: right;\">\n",
       "      <th></th>\n",
       "      <th>Productivity</th>\n",
       "      <th>SELLER</th>\n",
       "      <th>Call_Hours</th>\n",
       "    </tr>\n",
       "  </thead>\n",
       "  <tbody>\n",
       "    <tr>\n",
       "      <th>0</th>\n",
       "      <td>Unsuccess</td>\n",
       "      <td>CLARA OGWUAZOR MBAMALU</td>\n",
       "      <td>1.000000</td>\n",
       "    </tr>\n",
       "    <tr>\n",
       "      <th>1</th>\n",
       "      <td>Unsuccess</td>\n",
       "      <td>GLENN DARCY</td>\n",
       "      <td>0.908235</td>\n",
       "    </tr>\n",
       "    <tr>\n",
       "      <th>2</th>\n",
       "      <td>Unsuccess</td>\n",
       "      <td>JAGATHESYWARA GOOPAALAN</td>\n",
       "      <td>0.899924</td>\n",
       "    </tr>\n",
       "    <tr>\n",
       "      <th>3</th>\n",
       "      <td>Unsuccess</td>\n",
       "      <td>AQULIA ZIXUAN NG</td>\n",
       "      <td>0.823793</td>\n",
       "    </tr>\n",
       "    <tr>\n",
       "      <th>4</th>\n",
       "      <td>Unsuccess</td>\n",
       "      <td>VALERIE KNIBBELER</td>\n",
       "      <td>0.710903</td>\n",
       "    </tr>\n",
       "    <tr>\n",
       "      <th>5</th>\n",
       "      <td>Unsuccess</td>\n",
       "      <td>CERISE CELLIER</td>\n",
       "      <td>0.670425</td>\n",
       "    </tr>\n",
       "    <tr>\n",
       "      <th>6</th>\n",
       "      <td>Unsuccess</td>\n",
       "      <td>CHARLES SINGLETON</td>\n",
       "      <td>0.659790</td>\n",
       "    </tr>\n",
       "    <tr>\n",
       "      <th>7</th>\n",
       "      <td>Unsuccess</td>\n",
       "      <td>JUDY WEE NAH LIM</td>\n",
       "      <td>0.622625</td>\n",
       "    </tr>\n",
       "    <tr>\n",
       "      <th>8</th>\n",
       "      <td>Unsuccess</td>\n",
       "      <td>ALONZO WEATHERBY</td>\n",
       "      <td>0.614924</td>\n",
       "    </tr>\n",
       "    <tr>\n",
       "      <th>9</th>\n",
       "      <td>Unsuccess</td>\n",
       "      <td>KAIJUN CHIN</td>\n",
       "      <td>0.591678</td>\n",
       "    </tr>\n",
       "  </tbody>\n",
       "</table>\n",
       "</div>"
      ],
      "text/plain": [
       "  Productivity                   SELLER  Call_Hours\n",
       "0    Unsuccess   CLARA OGWUAZOR MBAMALU    1.000000\n",
       "1    Unsuccess              GLENN DARCY    0.908235\n",
       "2    Unsuccess  JAGATHESYWARA GOOPAALAN    0.899924\n",
       "3    Unsuccess         AQULIA ZIXUAN NG    0.823793\n",
       "4    Unsuccess        VALERIE KNIBBELER    0.710903\n",
       "5    Unsuccess           CERISE CELLIER    0.670425\n",
       "6    Unsuccess        CHARLES SINGLETON    0.659790\n",
       "7    Unsuccess         JUDY WEE NAH LIM    0.622625\n",
       "8    Unsuccess         ALONZO WEATHERBY    0.614924\n",
       "9    Unsuccess              KAIJUN CHIN    0.591678"
      ]
     },
     "execution_count": 595,
     "metadata": {},
     "output_type": "execute_result"
    }
   ],
   "source": [
    "dt_win.head(10)"
   ]
  },
  {
   "attachments": {
    "image-3.png": {
     "image/png": "[encoded data removed]"
    }
   },
   "cell_type": "markdown",
   "metadata": {},
   "source": [
    "![image-3.png](attachment:image-3.png)\n"
   ]
  }
 ],
 "metadata": {
  "kernelspec": {
   "display_name": "Python 3",
   "language": "python",
   "name": "python3"
  },
  "language_info": {
   "codemirror_mode": {
    "name": "ipython",
    "version": 3
   },
   "file_extension": ".py",
   "mimetype": "text/x-python",
   "name": "python",
   "nbconvert_exporter": "python",
   "pygments_lexer": "ipython3",
   "version": "3.8.5"
  }
 },
 "nbformat": 4,
 "nbformat_minor": 4
}
