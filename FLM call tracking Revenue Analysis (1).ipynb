{
 "cells": [
  {
   "cell_type": "markdown",
   "metadata": {},
   "source": [
    "## FLM call tracking revenue analysis for 1st quarter 2021 \n",
    " "
   ]
  },
  {
   "cell_type": "code",
   "execution_count": 172,
   "metadata": {},
   "outputs": [],
   "source": [
    "import pyodbc \n",
    "import jaydebeapi "
   ]
  },
  {
   "cell_type": "code",
   "execution_count": 173,
   "metadata": {},
   "outputs": [],
   "source": [
    "# from jupyterthemes import get_themes\n",
    "# import jupyterthemes as jt\n",
    "# from jupyterthemes.stylefx import set_nb_theme\n",
    "\n",
    "# set_nb_theme('chesterish')"
   ]
  },
  {
   "cell_type": "code",
   "execution_count": 174,
   "metadata": {},
   "outputs": [],
   "source": [
    "!jt -t chesterish"
   ]
  },
  {
   "cell_type": "code",
   "execution_count": 175,
   "metadata": {},
   "outputs": [],
   "source": [
    "import jpype\n",
    "import ibm_db\n",
    "import ibm_db_dbi\n",
    "from pandas.io import sql\n",
    "import pandas.io.sql as psql"
   ]
  },
  {
   "cell_type": "code",
   "execution_count": 176,
   "metadata": {},
   "outputs": [],
   "source": [
    "import pandas as pd\n",
    "from pandas.plotting import scatter_matrix\n",
    "from pandas import ExcelWriter\n",
    "from pandas import ExcelFile\n",
    "from openpyxl import load_workbook\n",
    "import numpy as np\n",
    "from scipy.stats import norm, skew\n",
    "from scipy import stats\n",
    "import statsmodels.api as sm\n",
    "import warnings\n",
    "import datetime\n",
    "from datetime import datetime as dt\n",
    "warnings.filterwarnings('ignore')\n",
    "import seaborn as sns\n",
    "import scipy.stats as stats\n",
    "from statsmodels.formula.api import ols\n",
    "from statsmodels.stats.anova import _get_covariance,anova_lm\n",
    "from matplotlib import pyplot\n",
    "import matplotlib.pyplot as plt\n",
    "import matplotlib.pylab as pylab\n",
    "import matplotlib\n",
    "# %matplotlib inline\n",
    "# sns.set()"
   ]
  },
  {
   "cell_type": "code",
   "execution_count": 177,
   "metadata": {},
   "outputs": [],
   "source": [
    "import statsmodels.formula.api as smf\n",
    "from sklearn.linear_model import LinearRegression\n",
    "from sklearn import metrics\n",
    "from sklearn.model_selection import train_test_split\n",
    "import numpy as np"
   ]
  },
  {
   "cell_type": "markdown",
   "metadata": {},
   "source": [
    "## ESA server connection "
   ]
  },
  {
   "cell_type": "code",
   "execution_count": 7,
   "metadata": {},
   "outputs": [],
   "source": [
    "# # #To connect to ESA Database which is NetezzaSQL, install odbc driver.\n",
    "# print (pyodbc.dataSources()) \n",
    "# conn = pyodbc.connect('DRIVER={NetezzaSQL};'\\\n",
    "# 'SERVER=pda2-wall.pok.ibm.com;'\\\n",
    "# 'PORT=5480;'\\\n",
    "# 'DATABASE=bacc_prd_eapda_eapda;'\\\n",
    "# 'UID=smsthink;PWD=Q22021ThinkSummerEO!;')"
   ]
  },
  {
   "cell_type": "markdown",
   "metadata": {},
   "source": [
    "## Importing data from 1st January 2021 to 31st May  2021"
   ]
  },
  {
   "cell_type": "code",
   "execution_count": 8,
   "metadata": {},
   "outputs": [],
   "source": [
    "# # # query1 = 'select * from EDGEDM.CRM_SELLER_CALL_FACT WHERE DATE_ENTERED BETWEEN 2020-01-01 AND 2020-12-01'\n",
    "# sql = \"\"\" SELECT EDGEDM.CRM_SELLER_CALL_FACT.SNAPSHOT_CURR_WEEK_INDC,\n",
    "# EDGEDM.CRM_SELLER_CALL_FACT.SNAPSHOT_WK_QTRYR_KEY,\n",
    "# EDGEDM.CRM_SELLER_CALL_FACT.CRM_ID,\n",
    "# EDGEDM.CRM_SELLER_CALL_FACT.CRM_SOURCE,\n",
    "# EDGEDM.CRM_SELLER_CALL_FACT.ACTIVE_INDC,\n",
    "# EDGEDM.CRM_SELLER_CALL_FACT.DATE_ENTERED,\n",
    "# EDGEDM.CRM_SELLER_CALL_FACT.DATE_MODIFIED,\n",
    "# EDGEDM.CRM_SELLER_CALL_FACT.CNUM,\n",
    "# EDGEDM.CRM_SELLER_CALL_FACT.INTERACTION_TYPE,\n",
    "# EDGEDM.CRM_SELLER_CALL_FACT.DIRECTION,\n",
    "# EDGEDM.CRM_SELLER_CALL_FACT.STATUS,\n",
    "# EDGEDM.CRM_SELLER_CALL_FACT.DATE_START,\n",
    "# EDGEDM.CRM_SELLER_CALL_FACT.DATE_END,\n",
    "# EDGEDM.CRM_SELLER_CALL_FACT.START_DAY_KEY,\n",
    "# EDGEDM.CRM_SELLER_CALL_FACT.END_DAY_KEY,\n",
    "# EDGEDM.CRM_SELLER_CALL_FACT.CALL_WEEK_MNEMONIC_ID,\n",
    "# EDGEDM.CRM_SELLER_CALL_FACT.PARENT_TYPE,\n",
    "# EDGEDM.CRM_SELLER_CALL_FACT.PARENT_ID,\n",
    "# EDGEDM.CRM_SELLER_CALL_FACT.TAGS,\n",
    "# EDGEDM.CRM_SELLER_CALL_FACT.DURATION,\n",
    "# EDGEDM.CRM_SELLER_CALL_FACT.IW_ROW_UPDT_TS\n",
    "\n",
    "# FROM EDGEDM.CRM_SELLER_CALL_FACT\n",
    "# WHERE EDGEDM.CRM_SELLER_CALL_FACT.DATE_START BETWEEN ? AND ? ;\"\"\"\n",
    "\n",
    "# df1 = pd.read_sql_query(sql, conn, params=['2021-01-01','2021-01-01'])"
   ]
  },
  {
   "cell_type": "markdown",
   "metadata": {},
   "source": [
    "## Importing data from 1st January 2021 to 31st March 2021\n",
    "\n",
    "Since the data rannge is requed huge momery , we have to extract it month wise "
   ]
  },
  {
   "cell_type": "code",
   "execution_count": 9,
   "metadata": {},
   "outputs": [],
   "source": [
    "# sql = \"\"\" SELECT EDGEDM.CRM_SELLER_CALL_FACT.SNAPSHOT_CURR_WEEK_INDC,\n",
    "# EDGEDM.CRM_SELLER_CALL_FACT.SNAPSHOT_WK_QTRYR_KEY,\n",
    "# EDGEDM.CRM_SELLER_CALL_FACT.CRM_ID,\n",
    "# EDGEDM.CRM_SELLER_CALL_FACT.CRM_SOURCE,\n",
    "# EDGEDM.CRM_SELLER_CALL_FACT.ACTIVE_INDC,\n",
    "# EDGEDM.CRM_SELLER_CALL_FACT.DATE_ENTERED,\n",
    "# EDGEDM.CRM_SELLER_CALL_FACT.DATE_MODIFIED,\n",
    "# EDGEDM.CRM_SELLER_CALL_FACT.CNUM,\n",
    "# EDGEDM.CRM_SELLER_CALL_FACT.INTERACTION_TYPE,\n",
    "# EDGEDM.CRM_SELLER_CALL_FACT.DIRECTION,\n",
    "# EDGEDM.CRM_SELLER_CALL_FACT.STATUS,\n",
    "# EDGEDM.CRM_SELLER_CALL_FACT.DATE_START,\n",
    "# EDGEDM.CRM_SELLER_CALL_FACT.DATE_END,\n",
    "# EDGEDM.CRM_SELLER_CALL_FACT.START_DAY_KEY,\n",
    "# EDGEDM.CRM_SELLER_CALL_FACT.END_DAY_KEY,\n",
    "# EDGEDM.CRM_SELLER_CALL_FACT.CALL_WEEK_MNEMONIC_ID,\n",
    "# EDGEDM.CRM_SELLER_CALL_FACT.PARENT_TYPE,\n",
    "# EDGEDM.CRM_SELLER_CALL_FACT.PARENT_ID,\n",
    "# EDGEDM.CRM_SELLER_CALL_FACT.TAGS,\n",
    "# EDGEDM.CRM_SELLER_CALL_FACT.DURATION,\n",
    "# EDGEDM.CRM_SELLER_CALL_FACT.IW_ROW_UPDT_TS\n",
    "\n",
    "# FROM EDGEDM.CRM_SELLER_CALL_FACT\n",
    "# WHERE YEAR(EDGEDM.CRM_SELLER_CALL_FACT.DATE_START) = ? AND MONTH(EDGEDM.CRM_SELLER_CALL_FACT.DATE_START) = ?; \"\"\"\n"
   ]
  },
  {
   "cell_type": "markdown",
   "metadata": {},
   "source": [
    "#### Import data from sql serve for May 2021"
   ]
  },
  {
   "cell_type": "code",
   "execution_count": 10,
   "metadata": {},
   "outputs": [],
   "source": [
    "# df_may = pd.read_sql_query(sql, conn, params=[2021,5])\n",
    "# # df_may.to_csv (r'C:/Users/SuprasannaPradhan/Documents/DIA/df_may.csv', index = False, header=True"
   ]
  },
  {
   "cell_type": "markdown",
   "metadata": {},
   "source": [
    "#### Import data from sql serve for APR 2021"
   ]
  },
  {
   "cell_type": "code",
   "execution_count": 11,
   "metadata": {},
   "outputs": [],
   "source": [
    "# df_apr = pd.read_sql_query(sql, conn, params=[2021,4])\n",
    "# # df_apr.to_csv (r'C:/Users/SuprasannaPradhan/Documents/DIA/df_apr.csv', index = False, header=True)"
   ]
  },
  {
   "cell_type": "markdown",
   "metadata": {},
   "source": [
    "#### Import data from sql serve for MAR 2021"
   ]
  },
  {
   "cell_type": "code",
   "execution_count": 12,
   "metadata": {},
   "outputs": [],
   "source": [
    "# df_mar = pd.read_sql_query(sql, conn, params=[2021,3])\n",
    "# # df_mar.to_csv (r'C:/Users/SuprasannaPradhan/Documents/DIA/df_mar.csv', index = False, header=True)"
   ]
  },
  {
   "cell_type": "markdown",
   "metadata": {},
   "source": [
    "#### Import data from sql serve for FEB 2021"
   ]
  },
  {
   "cell_type": "code",
   "execution_count": 13,
   "metadata": {},
   "outputs": [],
   "source": [
    "# df_feb = pd.read_sql_query(sql, conn, params=[2021,2])\n",
    "# # df_feb.to_csv (r'C:/Users/SuprasannaPradhan/Documents/DIA/df_feb.csv', index = False, header=True)"
   ]
  },
  {
   "cell_type": "markdown",
   "metadata": {},
   "source": [
    "#### Import data from sql serve for JAN 2021"
   ]
  },
  {
   "cell_type": "code",
   "execution_count": 14,
   "metadata": {},
   "outputs": [],
   "source": [
    "# df_jan = pd.read_sql_query(sql, conn, params=[2021,1])\n",
    "# df_jan.to_csv (r'C:/Users/SuprasannaPradhan/Documents/DIA/df_jan.csv', index = False, header=True)               "
   ]
  },
  {
   "cell_type": "markdown",
   "metadata": {},
   "source": [
    "#### Import to one file all JAN to MAR 2021"
   ]
  },
  {
   "cell_type": "code",
   "execution_count": 15,
   "metadata": {},
   "outputs": [],
   "source": [
    "# df1qtr = df_mar.append([df_feb,df_jan],ignore_index = True)\n",
    "# df2021 = df_may.append([df_apr,df_mar,df_feb,df_jan],ignore_index = True)"
   ]
  },
  {
   "cell_type": "code",
   "execution_count": 16,
   "metadata": {},
   "outputs": [],
   "source": [
    "## Store in local drive \n",
    "# df1qtr = pd.read_csv ('C:/Users/SuprasannaPradhan/Documents/DIA/df1qtr.csv')\n",
    "# # # df_jan = pd.read_csv('C:/Users/SuprasannaPradhan/Documents/DIA/df_jan.csv')"
   ]
  },
  {
   "cell_type": "markdown",
   "metadata": {},
   "source": [
    "#### Removeing leading zeros from the data key "
   ]
  },
  {
   "cell_type": "code",
   "execution_count": 17,
   "metadata": {},
   "outputs": [],
   "source": [
    "# df1qtr['CNUM'] = df1qtr['CNUM'].apply(lambda x:x.lstrip('0') if type(x) == str else x)"
   ]
  },
  {
   "cell_type": "code",
   "execution_count": 18,
   "metadata": {},
   "outputs": [],
   "source": [
    "# df1qtr.count()"
   ]
  },
  {
   "cell_type": "code",
   "execution_count": 19,
   "metadata": {},
   "outputs": [],
   "source": [
    "# df_jan['Numeric_CNUM'] = pd.to_numeric(df_jan['CNUM'], errors='coerce')\n",
    "# mask = df_jan['Numeric_CNUM'].isna()\n",
    "# df_jan.loc[mask, 'Text_CNUM'] = df_jan.loc[mask, 'CNUM']\n",
    "# # df_jan.drop(columns=['CNUM'])"
   ]
  },
  {
   "cell_type": "code",
   "execution_count": 20,
   "metadata": {},
   "outputs": [],
   "source": [
    "# df_jan['row3'] = df_jan.Numeric_CNUM\n",
    "# df_jan.loc[df_jan.row3 > 0 , 'row3'] = df_jan.CNUM"
   ]
  },
  {
   "cell_type": "code",
   "execution_count": 21,
   "metadata": {},
   "outputs": [],
   "source": [
    "# df_jan['row4'] = df_jan['row3'] * 1  "
   ]
  },
  {
   "cell_type": "code",
   "execution_count": 22,
   "metadata": {},
   "outputs": [],
   "source": [
    "# df_jan['Text_CNUM'].fillna('', inplace=True)\n",
    "# df_jan['Numeric_CNUM'] = df_jan['Numeric_CNUM'].astype(object).fillna('')"
   ]
  },
  {
   "cell_type": "markdown",
   "metadata": {},
   "source": [
    "## Importing FMS data "
   ]
  },
  {
   "cell_type": "code",
   "execution_count": 23,
   "metadata": {},
   "outputs": [],
   "source": [
    "# fms_data = pd.read_csv ('C:/Users/SuprasannaPradhan/Documents/DIA/EDGEDM_DIM_FMS_HIERS.csv')"
   ]
  },
  {
   "cell_type": "markdown",
   "metadata": {},
   "source": [
    "## Merging data set and saved local drive "
   ]
  },
  {
   "cell_type": "code",
   "execution_count": 24,
   "metadata": {},
   "outputs": [],
   "source": [
    "# qtr1_call = pd.merge(left = df1qtr, right=fms_data,how='left', left_on='CNUM', right_on='CNUM',indicator=True)\n",
    "# qtr1_call.to_csv (r'C:/Users/SuprasannaPradhan/Documents/DIA/qtr1_call.csv', index = False, header=True)"
   ]
  },
  {
   "cell_type": "code",
   "execution_count": 25,
   "metadata": {},
   "outputs": [],
   "source": [
    "chunksize = 10000\n",
    "qtr= pd.read_csv ('C:/Users/SuprasannaPradhan/Documents/DIA/qtr1_call.csv',chunksize=chunksize, iterator=True)\n",
    "qtr1_call = pd.concat(qtr, ignore_index=True)"
   ]
  },
  {
   "cell_type": "code",
   "execution_count": 26,
   "metadata": {},
   "outputs": [],
   "source": [
    "qtr1_call[\"EMP_FULL_NAME\"] = qtr1_call[\"EMP_FULL_NAME\"].str.upper()"
   ]
  },
  {
   "cell_type": "markdown",
   "metadata": {},
   "source": [
    "## Overview of data "
   ]
  },
  {
   "cell_type": "code",
   "execution_count": 27,
   "metadata": {},
   "outputs": [
    {
     "data": {
      "text/plain": [
       "Index(['SNAPSHOT_CURR_WEEK_INDC', 'SNAPSHOT_WK_QTRYR_KEY', 'CRM_ID',\n",
       "       'CRM_SOURCE', 'ACTIVE_INDC', 'DATE_ENTERED', 'DATE_MODIFIED', 'CNUM',\n",
       "       'INTERACTION_TYPE', 'DIRECTION', 'STATUS', 'DATE_START', 'DATE_END',\n",
       "       'START_DAY_KEY', 'END_DAY_KEY', 'CALL_WEEK_MNEMONIC_ID', 'PARENT_TYPE',\n",
       "       'PARENT_ID', 'TAGS', 'DURATION', 'IW_ROW_UPDT_TS', 'IS_MGR_INDC',\n",
       "       'GBL_INDC', 'EMP_INTERNET_ID', 'EMP_FULL_NAME', 'ORG_NAME',\n",
       "       'JOB_ROLE_DESC', 'JOB_ROLE_TYPE', 'ROLE_DESC', 'JOB_ROLE_CTGY2_DESC',\n",
       "       'JOB_ROLE_CTGY3_DESC', 'JOB_ROLE_GROUP_NAME', 'SELLER_LEVEL_NAME',\n",
       "       'ORG_ROLLUP2_DESC', 'ORG_ROLLUP1_DESC', 'IOT_ID', 'IOT_NAME', 'IMT_ID',\n",
       "       'IMT_NAME', 'FMS_LVL', 'FMS_LEVEL_0', 'FMS_LEVEL_1', 'FMS_LEVEL_2',\n",
       "       'FMS_LEVEL_3', 'FMS_LEVEL_4', 'FMS_LEVEL_5', 'FMS_LEVEL_6',\n",
       "       'FMS_LEVEL_7', 'FMS_LEVEL_8', 'FMS_LEVEL_9', 'FMS_LEVEL_10',\n",
       "       'FMS_LEVEL_11', 'FMS_LEVEL_12', 'FMS_LEVEL_13', 'FMS_LEVEL_14',\n",
       "       'FMS_PRSN_LEVEL_0', 'FMS_PRSN_LEVEL_1', 'FMS_PRSN_LEVEL_2',\n",
       "       'FMS_PRSN_LEVEL_3', 'FMS_PRSN_LEVEL_4', 'FMS_PRSN_LEVEL_5',\n",
       "       'FMS_PRSN_LEVEL_6', 'FMS_PRSN_LEVEL_7', 'FMS_PRSN_LEVEL_8',\n",
       "       'FMS_PRSN_LEVEL_9', 'FMS_PRSN_LEVEL_10', 'FMS_PRSN_LEVEL_11',\n",
       "       'FMS_PRSN_LEVEL_12', 'FMS_PRSN_LEVEL_13', 'FMS_PRSN_LEVEL_14',\n",
       "       'IW_ROW_UPDT_TS_Y', 'EMPLOYEE_MGR_L1_CNUM', 'EMPLOYEE_MGR_L1_NAME',\n",
       "       'EMPLOYEE_MGR_L1_EMAIL', 'EMPLOYEE_MGR_L2_CNUM', 'EMPLOYEE_MGR_L2_NAME',\n",
       "       'EMPLOYEE_MGR_L2_EMAIL', 'EMPLOYEE_MGR_L3_CNUM', 'EMPLOYEE_MGR_L3_NAME',\n",
       "       'EMPLOYEE_MGR_L3_EMAIL', 'DATE_START_Y', 'DATE_END_Y', 'LEVERAGE_GROUP',\n",
       "       '_merge'],\n",
       "      dtype='object')"
      ]
     },
     "execution_count": 27,
     "metadata": {},
     "output_type": "execute_result"
    }
   ],
   "source": [
    "qtr1_call.columns"
   ]
  },
  {
   "cell_type": "markdown",
   "metadata": {},
   "source": [
    "It is very huge data we have been having 5.1 + MB"
   ]
  },
  {
   "cell_type": "code",
   "execution_count": 28,
   "metadata": {},
   "outputs": [],
   "source": [
    "# pd.set_option('display.max_columns', None)\n",
    "# pd.set_option('display.max_rows', None)\n",
    "# qtr1_call"
   ]
  },
  {
   "cell_type": "markdown",
   "metadata": {},
   "source": [
    "\n",
    "## Adding Month and Week variable in the data set "
   ]
  },
  {
   "cell_type": "code",
   "execution_count": 29,
   "metadata": {},
   "outputs": [
    {
     "data": {
      "text/plain": [
       "CNUM     9952\n",
       "first    9952\n",
       "last     9952\n",
       "dtype: int64"
      ]
     },
     "execution_count": 29,
     "metadata": {},
     "output_type": "execute_result"
    }
   ],
   "source": [
    "q1_date = qtr1_call.groupby(['CNUM'])['DATE_START'].agg(['first','last']).reset_index()\n",
    "q1_date.count()"
   ]
  },
  {
   "cell_type": "code",
   "execution_count": 30,
   "metadata": {},
   "outputs": [],
   "source": [
    "#Adding month and weeks in the data set \n",
    "q1_date_update = q1_date .iloc[ : , [0,1,2]] \n",
    "q1_date_update.columns = ['CNUM','DATE_START_f','DATE_START_e',] \n",
    "q1_date_update = q1_date_update.drop(columns=['DATE_START_e'])\n",
    "q1_date_update[\"DATE_START_f\"] = pd.to_datetime(q1_date_update.DATE_START_f, format='%Y-%m-%d %H:%M:%S')\n",
    "q1_date_update['DATE_START_f'] = pd.to_datetime(q1_date_update.DATE_START_f, format='%Y-%m-%d')\n",
    "q1_date_update['DATE_START_f'] = q1_date_update['DATE_START_f'].dt.strftime('%Y-%m-%d')\n",
    "q1_date_update['MONTH'] = pd.PeriodIndex(q1_date_update['DATE_START_f'], freq='M')\n",
    "q1_date_update['WEEK'] = pd.PeriodIndex(q1_date_update['DATE_START_f'], freq='W')"
   ]
  },
  {
   "cell_type": "code",
   "execution_count": 31,
   "metadata": {},
   "outputs": [
    {
     "data": {
      "text/html": [
       "<div>\n",
       "<style scoped>\n",
       "    .dataframe tbody tr th:only-of-type {\n",
       "        vertical-align: middle;\n",
       "    }\n",
       "\n",
       "    .dataframe tbody tr th {\n",
       "        vertical-align: top;\n",
       "    }\n",
       "\n",
       "    .dataframe thead th {\n",
       "        text-align: right;\n",
       "    }\n",
       "</style>\n",
       "<table border=\"1\" class=\"dataframe\">\n",
       "  <thead>\n",
       "    <tr style=\"text-align: right;\">\n",
       "      <th></th>\n",
       "      <th>CNUM</th>\n",
       "      <th>DATE_START_f</th>\n",
       "      <th>MONTH</th>\n",
       "      <th>WEEK</th>\n",
       "    </tr>\n",
       "  </thead>\n",
       "  <tbody>\n",
       "    <tr>\n",
       "      <th>0</th>\n",
       "      <td>100010702</td>\n",
       "      <td>2021-03-23</td>\n",
       "      <td>2021-03</td>\n",
       "      <td>2021-03-22/2021-03-28</td>\n",
       "    </tr>\n",
       "    <tr>\n",
       "      <th>1</th>\n",
       "      <td>100022866</td>\n",
       "      <td>2021-03-02</td>\n",
       "      <td>2021-03</td>\n",
       "      <td>2021-03-01/2021-03-07</td>\n",
       "    </tr>\n",
       "    <tr>\n",
       "      <th>2</th>\n",
       "      <td>10002834</td>\n",
       "      <td>2021-01-12</td>\n",
       "      <td>2021-01</td>\n",
       "      <td>2021-01-11/2021-01-17</td>\n",
       "    </tr>\n",
       "    <tr>\n",
       "      <th>3</th>\n",
       "      <td>100049866</td>\n",
       "      <td>2021-03-09</td>\n",
       "      <td>2021-03</td>\n",
       "      <td>2021-03-08/2021-03-14</td>\n",
       "    </tr>\n",
       "    <tr>\n",
       "      <th>4</th>\n",
       "      <td>100119866</td>\n",
       "      <td>2021-02-01</td>\n",
       "      <td>2021-02</td>\n",
       "      <td>2021-02-01/2021-02-07</td>\n",
       "    </tr>\n",
       "    <tr>\n",
       "      <th>...</th>\n",
       "      <td>...</td>\n",
       "      <td>...</td>\n",
       "      <td>...</td>\n",
       "      <td>...</td>\n",
       "    </tr>\n",
       "    <tr>\n",
       "      <th>9947</th>\n",
       "      <td>ZZ096O672</td>\n",
       "      <td>2021-03-08</td>\n",
       "      <td>2021-03</td>\n",
       "      <td>2021-03-08/2021-03-14</td>\n",
       "    </tr>\n",
       "    <tr>\n",
       "      <th>9948</th>\n",
       "      <td>ZZ097D672</td>\n",
       "      <td>2021-03-08</td>\n",
       "      <td>2021-03</td>\n",
       "      <td>2021-03-08/2021-03-14</td>\n",
       "    </tr>\n",
       "    <tr>\n",
       "      <th>9949</th>\n",
       "      <td>ZZ09CC672</td>\n",
       "      <td>2021-02-02</td>\n",
       "      <td>2021-02</td>\n",
       "      <td>2021-02-01/2021-02-07</td>\n",
       "    </tr>\n",
       "    <tr>\n",
       "      <th>9950</th>\n",
       "      <td>ZZ09HX672</td>\n",
       "      <td>2021-03-15</td>\n",
       "      <td>2021-03</td>\n",
       "      <td>2021-03-15/2021-03-21</td>\n",
       "    </tr>\n",
       "    <tr>\n",
       "      <th>9951</th>\n",
       "      <td>ZZ09JE672</td>\n",
       "      <td>2021-03-18</td>\n",
       "      <td>2021-03</td>\n",
       "      <td>2021-03-15/2021-03-21</td>\n",
       "    </tr>\n",
       "  </tbody>\n",
       "</table>\n",
       "<p>9952 rows × 4 columns</p>\n",
       "</div>"
      ],
      "text/plain": [
       "           CNUM DATE_START_f    MONTH                   WEEK\n",
       "0     100010702   2021-03-23  2021-03  2021-03-22/2021-03-28\n",
       "1     100022866   2021-03-02  2021-03  2021-03-01/2021-03-07\n",
       "2      10002834   2021-01-12  2021-01  2021-01-11/2021-01-17\n",
       "3     100049866   2021-03-09  2021-03  2021-03-08/2021-03-14\n",
       "4     100119866   2021-02-01  2021-02  2021-02-01/2021-02-07\n",
       "...         ...          ...      ...                    ...\n",
       "9947  ZZ096O672   2021-03-08  2021-03  2021-03-08/2021-03-14\n",
       "9948  ZZ097D672   2021-03-08  2021-03  2021-03-08/2021-03-14\n",
       "9949  ZZ09CC672   2021-02-02  2021-02  2021-02-01/2021-02-07\n",
       "9950  ZZ09HX672   2021-03-15  2021-03  2021-03-15/2021-03-21\n",
       "9951  ZZ09JE672   2021-03-18  2021-03  2021-03-15/2021-03-21\n",
       "\n",
       "[9952 rows x 4 columns]"
      ]
     },
     "execution_count": 31,
     "metadata": {},
     "output_type": "execute_result"
    }
   ],
   "source": [
    "q1_date_update"
   ]
  },
  {
   "cell_type": "markdown",
   "metadata": {},
   "source": [
    "## Prepared subset of data set "
   ]
  },
  {
   "cell_type": "code",
   "execution_count": 32,
   "metadata": {},
   "outputs": [
    {
     "data": {
      "text/html": [
       "<div>\n",
       "<style scoped>\n",
       "    .dataframe tbody tr th:only-of-type {\n",
       "        vertical-align: middle;\n",
       "    }\n",
       "\n",
       "    .dataframe tbody tr th {\n",
       "        vertical-align: top;\n",
       "    }\n",
       "\n",
       "    .dataframe thead th {\n",
       "        text-align: right;\n",
       "    }\n",
       "</style>\n",
       "<table border=\"1\" class=\"dataframe\">\n",
       "  <thead>\n",
       "    <tr style=\"text-align: right;\">\n",
       "      <th></th>\n",
       "      <th>CNUM</th>\n",
       "      <th>INTERACTION_TYPE</th>\n",
       "      <th>DIRECTION</th>\n",
       "      <th>STATUS</th>\n",
       "      <th>DATE_START</th>\n",
       "      <th>DATE_END</th>\n",
       "      <th>PARENT_TYPE</th>\n",
       "      <th>TAGS</th>\n",
       "      <th>DURATION</th>\n",
       "      <th>EMP_INTERNET_ID</th>\n",
       "      <th>EMP_FULL_NAME</th>\n",
       "      <th>ORG_NAME</th>\n",
       "      <th>SELLER_LEVEL_NAME</th>\n",
       "      <th>IOT_NAME</th>\n",
       "      <th>IMT_NAME</th>\n",
       "      <th>FMS_PRSN_LEVEL_1</th>\n",
       "      <th>EMPLOYEE_MGR_L1_NAME</th>\n",
       "      <th>LEVERAGE_GROUP</th>\n",
       "    </tr>\n",
       "  </thead>\n",
       "  <tbody>\n",
       "    <tr>\n",
       "      <th>0</th>\n",
       "      <td>1J6736897</td>\n",
       "      <td>Phone</td>\n",
       "      <td>Outbound</td>\n",
       "      <td>Held</td>\n",
       "      <td>2021-03-03 18:30:00</td>\n",
       "      <td>2021-03-03 19:00:00</td>\n",
       "      <td>Opportunities</td>\n",
       "      <td>NaN</td>\n",
       "      <td>30</td>\n",
       "      <td>Linda.Burke1@ibm.com</td>\n",
       "      <td>LINDA BURKE</td>\n",
       "      <td>AI Applications Portfolio</td>\n",
       "      <td>Non-Executive</td>\n",
       "      <td>Americas</td>\n",
       "      <td>US Distr Market</td>\n",
       "      <td>BRIDGET VAN KRALINGEN</td>\n",
       "      <td>Kevin Reese</td>\n",
       "      <td>POOL</td>\n",
       "    </tr>\n",
       "    <tr>\n",
       "      <th>1</th>\n",
       "      <td>R41242821</td>\n",
       "      <td>Phone</td>\n",
       "      <td>Outbound</td>\n",
       "      <td>Held</td>\n",
       "      <td>2021-03-10 10:00:00</td>\n",
       "      <td>2021-03-10 11:00:00</td>\n",
       "      <td>Accounts</td>\n",
       "      <td>NaN</td>\n",
       "      <td>0</td>\n",
       "      <td>Gostev.AV@ru.ibm.com</td>\n",
       "      <td>ALEXEY GOSTEV</td>\n",
       "      <td>Data and AI</td>\n",
       "      <td>Employee</td>\n",
       "      <td>EMEA</td>\n",
       "      <td>CEE Mkt</td>\n",
       "      <td>BRIDGET VAN KRALINGEN</td>\n",
       "      <td>Alexander Klimenkov</td>\n",
       "      <td>ABSOLUTE</td>\n",
       "    </tr>\n",
       "    <tr>\n",
       "      <th>2</th>\n",
       "      <td>75610655</td>\n",
       "      <td>Phone</td>\n",
       "      <td>Outbound</td>\n",
       "      <td>Held</td>\n",
       "      <td>2021-03-03 16:00:00</td>\n",
       "      <td>2021-03-03 16:30:00</td>\n",
       "      <td>Accounts</td>\n",
       "      <td>NaN</td>\n",
       "      <td>30</td>\n",
       "      <td>cpenailillob@ibm.com</td>\n",
       "      <td>CAMILA IGNACIA PENAILILLO</td>\n",
       "      <td>Data and AI</td>\n",
       "      <td>Employee</td>\n",
       "      <td>Americas</td>\n",
       "      <td>Latin America Mkt</td>\n",
       "      <td>BRIDGET VAN KRALINGEN</td>\n",
       "      <td>Santiago Diego Sibils Ramos</td>\n",
       "      <td>ABSOLUTE</td>\n",
       "    </tr>\n",
       "    <tr>\n",
       "      <th>3</th>\n",
       "      <td>101722778</td>\n",
       "      <td>Video</td>\n",
       "      <td>Outbound</td>\n",
       "      <td>Held</td>\n",
       "      <td>2021-03-03 08:00:00</td>\n",
       "      <td>2021-03-03 09:00:00</td>\n",
       "      <td>soc_businesspartners</td>\n",
       "      <td>NaN</td>\n",
       "      <td>0</td>\n",
       "      <td>limyc@my.ibm.com</td>\n",
       "      <td>YEE CHING LIM</td>\n",
       "      <td>Systems HW Server</td>\n",
       "      <td>Non-Executive</td>\n",
       "      <td>APAC</td>\n",
       "      <td>ASEAN Mkt</td>\n",
       "      <td>BRIDGET VAN KRALINGEN</td>\n",
       "      <td>CHOO KWOK GOH</td>\n",
       "      <td>POOL</td>\n",
       "    </tr>\n",
       "    <tr>\n",
       "      <th>4</th>\n",
       "      <td>2632U744</td>\n",
       "      <td>Video</td>\n",
       "      <td>Outbound</td>\n",
       "      <td>Held</td>\n",
       "      <td>2021-03-23 05:30:00</td>\n",
       "      <td>2021-03-23 08:00:00</td>\n",
       "      <td>Opportunities</td>\n",
       "      <td>NaN</td>\n",
       "      <td>30</td>\n",
       "      <td>NaN</td>\n",
       "      <td>NaN</td>\n",
       "      <td>NaN</td>\n",
       "      <td>NaN</td>\n",
       "      <td>NaN</td>\n",
       "      <td>NaN</td>\n",
       "      <td>NaN</td>\n",
       "      <td>NaN</td>\n",
       "      <td>NaN</td>\n",
       "    </tr>\n",
       "  </tbody>\n",
       "</table>\n",
       "</div>"
      ],
      "text/plain": [
       "        CNUM INTERACTION_TYPE DIRECTION STATUS           DATE_START  \\\n",
       "0  1J6736897            Phone  Outbound   Held  2021-03-03 18:30:00   \n",
       "1  R41242821            Phone  Outbound   Held  2021-03-10 10:00:00   \n",
       "2   75610655            Phone  Outbound   Held  2021-03-03 16:00:00   \n",
       "3  101722778            Video  Outbound   Held  2021-03-03 08:00:00   \n",
       "4   2632U744            Video  Outbound   Held  2021-03-23 05:30:00   \n",
       "\n",
       "              DATE_END           PARENT_TYPE TAGS  DURATION  \\\n",
       "0  2021-03-03 19:00:00         Opportunities  NaN        30   \n",
       "1  2021-03-10 11:00:00              Accounts  NaN         0   \n",
       "2  2021-03-03 16:30:00              Accounts  NaN        30   \n",
       "3  2021-03-03 09:00:00  soc_businesspartners  NaN         0   \n",
       "4  2021-03-23 08:00:00         Opportunities  NaN        30   \n",
       "\n",
       "        EMP_INTERNET_ID              EMP_FULL_NAME                   ORG_NAME  \\\n",
       "0  Linda.Burke1@ibm.com                LINDA BURKE  AI Applications Portfolio   \n",
       "1  Gostev.AV@ru.ibm.com              ALEXEY GOSTEV                Data and AI   \n",
       "2  cpenailillob@ibm.com  CAMILA IGNACIA PENAILILLO                Data and AI   \n",
       "3      limyc@my.ibm.com              YEE CHING LIM          Systems HW Server   \n",
       "4                   NaN                        NaN                        NaN   \n",
       "\n",
       "  SELLER_LEVEL_NAME  IOT_NAME           IMT_NAME       FMS_PRSN_LEVEL_1  \\\n",
       "0     Non-Executive  Americas    US Distr Market  BRIDGET VAN KRALINGEN   \n",
       "1          Employee      EMEA            CEE Mkt  BRIDGET VAN KRALINGEN   \n",
       "2          Employee  Americas  Latin America Mkt  BRIDGET VAN KRALINGEN   \n",
       "3     Non-Executive      APAC          ASEAN Mkt  BRIDGET VAN KRALINGEN   \n",
       "4               NaN       NaN                NaN                    NaN   \n",
       "\n",
       "          EMPLOYEE_MGR_L1_NAME LEVERAGE_GROUP  \n",
       "0                  Kevin Reese           POOL  \n",
       "1          Alexander Klimenkov       ABSOLUTE  \n",
       "2  Santiago Diego Sibils Ramos       ABSOLUTE  \n",
       "3                CHOO KWOK GOH           POOL  \n",
       "4                          NaN            NaN  "
      ]
     },
     "execution_count": 32,
     "metadata": {},
     "output_type": "execute_result"
    }
   ],
   "source": [
    "# Subset of data whihc  variables are need for our analysis \n",
    "q1_prune = qtr1_call .iloc[ : , [7,8,9,10,11,12,16,18,19,23,24,25,32,36,38,56,72,82]] \n",
    "q1_prune.head()"
   ]
  },
  {
   "cell_type": "code",
   "execution_count": 33,
   "metadata": {},
   "outputs": [
    {
     "data": {
      "text/plain": [
       "CNUM                    8207633\n",
       "INTERACTION_TYPE        7983541\n",
       "DIRECTION               8207410\n",
       "STATUS                  8208565\n",
       "DATE_START              8208565\n",
       "DATE_END                8208565\n",
       "PARENT_TYPE             8155040\n",
       "TAGS                    2103314\n",
       "DURATION                8208565\n",
       "EMP_INTERNET_ID         7260356\n",
       "EMP_FULL_NAME           7256801\n",
       "ORG_NAME                7260356\n",
       "SELLER_LEVEL_NAME       7260356\n",
       "IOT_NAME                7260356\n",
       "IMT_NAME                7260356\n",
       "FMS_PRSN_LEVEL_1        6432358\n",
       "EMPLOYEE_MGR_L1_NAME    7244105\n",
       "LEVERAGE_GROUP          7260356\n",
       "dtype: int64"
      ]
     },
     "execution_count": 33,
     "metadata": {},
     "output_type": "execute_result"
    }
   ],
   "source": [
    "q1_prune.count()"
   ]
  },
  {
   "cell_type": "code",
   "execution_count": 34,
   "metadata": {},
   "outputs": [],
   "source": [
    "# Final merged data \n",
    "dt_mrg= pd.merge(q1_prune, q1_date_update, on ='CNUM',how='left')"
   ]
  },
  {
   "cell_type": "code",
   "execution_count": 35,
   "metadata": {
    "scrolled": false
   },
   "outputs": [
    {
     "data": {
      "text/plain": [
       "CNUM                    8207633\n",
       "INTERACTION_TYPE        7983541\n",
       "DIRECTION               8207410\n",
       "STATUS                  8208565\n",
       "DATE_START              8208565\n",
       "DATE_END                8208565\n",
       "PARENT_TYPE             8155040\n",
       "TAGS                    2103314\n",
       "DURATION                8208565\n",
       "EMP_INTERNET_ID         7260356\n",
       "EMP_FULL_NAME           7256801\n",
       "ORG_NAME                7260356\n",
       "SELLER_LEVEL_NAME       7260356\n",
       "IOT_NAME                7260356\n",
       "IMT_NAME                7260356\n",
       "FMS_PRSN_LEVEL_1        6432358\n",
       "EMPLOYEE_MGR_L1_NAME    7244105\n",
       "LEVERAGE_GROUP          7260356\n",
       "DATE_START_f            8207633\n",
       "MONTH                   8207633\n",
       "WEEK                    8207633\n",
       "dtype: int64"
      ]
     },
     "execution_count": 35,
     "metadata": {},
     "output_type": "execute_result"
    }
   ],
   "source": [
    "dt_mrg.count()"
   ]
  },
  {
   "cell_type": "markdown",
   "metadata": {},
   "source": [
    "## Importing sales revenue data "
   ]
  },
  {
   "cell_type": "code",
   "execution_count": 86,
   "metadata": {},
   "outputs": [],
   "source": [
    "flm_rev = pd.read_excel('C:/Users/SuprasannaPradhan/Documents/DIA/PQ_ALL_Seller_Detail_041521.xlsx')\n",
    "# flm_rev = pd.read_excel('users.xlsx', sheet_name = [0,1,2])"
   ]
  },
  {
   "cell_type": "code",
   "execution_count": 87,
   "metadata": {},
   "outputs": [
    {
     "data": {
      "text/html": [
       "<div>\n",
       "<style scoped>\n",
       "    .dataframe tbody tr th:only-of-type {\n",
       "        vertical-align: middle;\n",
       "    }\n",
       "\n",
       "    .dataframe tbody tr th {\n",
       "        vertical-align: top;\n",
       "    }\n",
       "\n",
       "    .dataframe thead th {\n",
       "        text-align: right;\n",
       "    }\n",
       "</style>\n",
       "<table border=\"1\" class=\"dataframe\">\n",
       "  <thead>\n",
       "    <tr style=\"text-align: right;\">\n",
       "      <th></th>\n",
       "      <th>Group</th>\n",
       "      <th>Grp</th>\n",
       "      <th>Geo</th>\n",
       "      <th>Mkt</th>\n",
       "      <th>Serial No</th>\n",
       "      <th>Seller</th>\n",
       "      <th>FLM</th>\n",
       "      <th>Sub Brand</th>\n",
       "      <th>Sales Role</th>\n",
       "      <th>Segment</th>\n",
       "      <th>...</th>\n",
       "      <th>WSR$</th>\n",
       "      <th>WSR +KS$</th>\n",
       "      <th>No ValPipe</th>\n",
       "      <th>No WSR</th>\n",
       "      <th>No WSR +KS</th>\n",
       "      <th>WSR +KS&lt; 5 ops</th>\n",
       "      <th>WSR&lt; $50K</th>\n",
       "      <th>WSR&lt; $100K</th>\n",
       "      <th>WSR&lt; $250K</th>\n",
       "      <th>WSR&lt; $500K</th>\n",
       "    </tr>\n",
       "  </thead>\n",
       "  <tbody>\n",
       "    <tr>\n",
       "      <th>0</th>\n",
       "      <td>Technology</td>\n",
       "      <td>Systems</td>\n",
       "      <td>AMER</td>\n",
       "      <td>US</td>\n",
       "      <td>0J1182897</td>\n",
       "      <td>Ashley Oswald/US/IBM@IBM</td>\n",
       "      <td>Cary Binz/Raleigh/IBM@IBM</td>\n",
       "      <td>Systems HW Server</td>\n",
       "      <td>Brand Sales Partner Specialist (BSPS)  Server ...</td>\n",
       "      <td>Segment 2</td>\n",
       "      <td>...</td>\n",
       "      <td>-</td>\n",
       "      <td>-</td>\n",
       "      <td>1</td>\n",
       "      <td>1</td>\n",
       "      <td>1</td>\n",
       "      <td>1</td>\n",
       "      <td>-</td>\n",
       "      <td>-</td>\n",
       "      <td>-</td>\n",
       "      <td>-</td>\n",
       "    </tr>\n",
       "    <tr>\n",
       "      <th>1</th>\n",
       "      <td>Technology</td>\n",
       "      <td>Systems</td>\n",
       "      <td>AMER</td>\n",
       "      <td>US</td>\n",
       "      <td>241587897</td>\n",
       "      <td>Joe Broadway/Dallas/IBM@IBM</td>\n",
       "      <td>Chris Winters/Atlanta/IBM@IBM</td>\n",
       "      <td>Systems HW Server</td>\n",
       "      <td>Brand Sales Partner Specialist (BSPS)  Power D...</td>\n",
       "      <td>Shared</td>\n",
       "      <td>...</td>\n",
       "      <td>0.058</td>\n",
       "      <td>0.058</td>\n",
       "      <td>-</td>\n",
       "      <td>-</td>\n",
       "      <td>-</td>\n",
       "      <td>1</td>\n",
       "      <td>-</td>\n",
       "      <td>1</td>\n",
       "      <td>1</td>\n",
       "      <td>1</td>\n",
       "    </tr>\n",
       "  </tbody>\n",
       "</table>\n",
       "<p>2 rows × 21 columns</p>\n",
       "</div>"
      ],
      "text/plain": [
       "        Group      Grp   Geo Mkt  Serial No                       Seller  \\\n",
       "0  Technology  Systems  AMER  US  0J1182897     Ashley Oswald/US/IBM@IBM   \n",
       "1  Technology  Systems  AMER  US  241587897  Joe Broadway/Dallas/IBM@IBM   \n",
       "\n",
       "                             FLM          Sub Brand  \\\n",
       "0      Cary Binz/Raleigh/IBM@IBM  Systems HW Server   \n",
       "1  Chris Winters/Atlanta/IBM@IBM  Systems HW Server   \n",
       "\n",
       "                                          Sales Role    Segment  ...   WSR$  \\\n",
       "0  Brand Sales Partner Specialist (BSPS)  Server ...  Segment 2  ...      -   \n",
       "1  Brand Sales Partner Specialist (BSPS)  Power D...     Shared  ...  0.058   \n",
       "\n",
       "  WSR +KS$ No ValPipe No WSR No WSR +KS WSR +KS< 5 ops WSR< $50K WSR< $100K  \\\n",
       "0        -          1      1          1              1         -          -   \n",
       "1    0.058          -      -          -              1         -          1   \n",
       "\n",
       "  WSR< $250K WSR< $500K  \n",
       "0          -          -  \n",
       "1          1          1  \n",
       "\n",
       "[2 rows x 21 columns]"
      ]
     },
     "execution_count": 87,
     "metadata": {},
     "output_type": "execute_result"
    }
   ],
   "source": [
    "flm_rev.head(2)"
   ]
  },
  {
   "cell_type": "markdown",
   "metadata": {},
   "source": [
    "#### Seperating Employee names from the  eamil id "
   ]
  },
  {
   "cell_type": "code",
   "execution_count": 88,
   "metadata": {},
   "outputs": [],
   "source": [
    "# Seperating employee name from eemail id \n",
    "flm_rev[['EMP_FULL_NAME','COUNTRY_EMP','OTHER_EMP','NONE_EMP']] = flm_rev.Seller.str.split(\"/\",expand=True)\n",
    "# Seperating FLM  name from  eemail id \n",
    "flm_rev[['EMPLOYEE_MGR_L1_NAME ','COUNTRY_MGR','OTHER_MGR']] = flm_rev.FLM.str.split(\"/\",expand=True)"
   ]
  },
  {
   "cell_type": "code",
   "execution_count": 89,
   "metadata": {},
   "outputs": [
    {
     "name": "stdout",
     "output_type": "stream",
     "text": [
      "<class 'pandas.core.frame.DataFrame'>\n",
      "RangeIndex: 4305 entries, 0 to 4304\n",
      "Data columns (total 28 columns):\n",
      " #   Column                 Non-Null Count  Dtype \n",
      "---  ------                 --------------  ----- \n",
      " 0   Group                  4305 non-null   object\n",
      " 1   Grp                    4305 non-null   object\n",
      " 2   Geo                    4305 non-null   object\n",
      " 3   Mkt                    4305 non-null   object\n",
      " 4   Serial No              4297 non-null   object\n",
      " 5   Seller                 4305 non-null   object\n",
      " 6   FLM                    4303 non-null   object\n",
      " 7   Sub Brand              4305 non-null   object\n",
      " 8   Sales Role             4305 non-null   object\n",
      " 9   Segment                4305 non-null   object\n",
      " 10  Val Pipe$              4305 non-null   object\n",
      " 11  WSR$                   4305 non-null   object\n",
      " 12  WSR +KS$               4305 non-null   object\n",
      " 13  No ValPipe             4305 non-null   object\n",
      " 14  No WSR                 4305 non-null   object\n",
      " 15  No WSR +KS             4305 non-null   object\n",
      " 16  WSR +KS< 5 ops         4305 non-null   object\n",
      " 17  WSR< $50K              4305 non-null   object\n",
      " 18  WSR< $100K             4305 non-null   object\n",
      " 19  WSR< $250K             4305 non-null   object\n",
      " 20  WSR< $500K             4305 non-null   object\n",
      " 21  EMP_FULL_NAME          4305 non-null   object\n",
      " 22  COUNTRY_EMP            4305 non-null   object\n",
      " 23  OTHER_EMP              4305 non-null   object\n",
      " 24  NONE_EMP               1 non-null      object\n",
      " 25  EMPLOYEE_MGR_L1_NAME   4303 non-null   object\n",
      " 26  COUNTRY_MGR            4303 non-null   object\n",
      " 27  OTHER_MGR              4303 non-null   object\n",
      "dtypes: object(28)\n",
      "memory usage: 941.8+ KB\n"
     ]
    }
   ],
   "source": [
    "flm_rev.info()"
   ]
  },
  {
   "cell_type": "markdown",
   "metadata": {},
   "source": [
    "#### Subset of revenue data "
   ]
  },
  {
   "cell_type": "code",
   "execution_count": 90,
   "metadata": {},
   "outputs": [],
   "source": [
    "q1_rev = flm_rev.iloc[ : , [21,10,7,9,22,2,3,25]] "
   ]
  },
  {
   "cell_type": "code",
   "execution_count": 91,
   "metadata": {},
   "outputs": [],
   "source": [
    "q1_rev[\"EMP_FULL_NAME\"] = q1_rev[\"EMP_FULL_NAME\"].str.upper()"
   ]
  },
  {
   "cell_type": "code",
   "execution_count": 92,
   "metadata": {},
   "outputs": [
    {
     "data": {
      "text/html": [
       "<div>\n",
       "<style scoped>\n",
       "    .dataframe tbody tr th:only-of-type {\n",
       "        vertical-align: middle;\n",
       "    }\n",
       "\n",
       "    .dataframe tbody tr th {\n",
       "        vertical-align: top;\n",
       "    }\n",
       "\n",
       "    .dataframe thead th {\n",
       "        text-align: right;\n",
       "    }\n",
       "</style>\n",
       "<table border=\"1\" class=\"dataframe\">\n",
       "  <thead>\n",
       "    <tr style=\"text-align: right;\">\n",
       "      <th></th>\n",
       "      <th>EMP_FULL_NAME</th>\n",
       "      <th>Val Pipe$</th>\n",
       "      <th>Sub Brand</th>\n",
       "      <th>Segment</th>\n",
       "      <th>COUNTRY_EMP</th>\n",
       "      <th>Geo</th>\n",
       "      <th>Mkt</th>\n",
       "      <th>EMPLOYEE_MGR_L1_NAME</th>\n",
       "    </tr>\n",
       "  </thead>\n",
       "  <tbody>\n",
       "    <tr>\n",
       "      <th>0</th>\n",
       "      <td>ASHLEY OSWALD</td>\n",
       "      <td>-</td>\n",
       "      <td>Systems HW Server</td>\n",
       "      <td>Segment 2</td>\n",
       "      <td>US</td>\n",
       "      <td>AMER</td>\n",
       "      <td>US</td>\n",
       "      <td>Cary Binz</td>\n",
       "    </tr>\n",
       "    <tr>\n",
       "      <th>1</th>\n",
       "      <td>JOE BROADWAY</td>\n",
       "      <td>0.058</td>\n",
       "      <td>Systems HW Server</td>\n",
       "      <td>Shared</td>\n",
       "      <td>Dallas</td>\n",
       "      <td>AMER</td>\n",
       "      <td>US</td>\n",
       "      <td>Chris Winters</td>\n",
       "    </tr>\n",
       "    <tr>\n",
       "      <th>2</th>\n",
       "      <td>CAROLINE CASSIDY</td>\n",
       "      <td>-</td>\n",
       "      <td>Systems HW Storage</td>\n",
       "      <td>Segment 2</td>\n",
       "      <td>Atlanta</td>\n",
       "      <td>AMER</td>\n",
       "      <td>US</td>\n",
       "      <td>Chris Winters</td>\n",
       "    </tr>\n",
       "    <tr>\n",
       "      <th>3</th>\n",
       "      <td>PAULA BOSLEY</td>\n",
       "      <td>-</td>\n",
       "      <td>Systems HW Storage</td>\n",
       "      <td>Segment 1</td>\n",
       "      <td>Wayne</td>\n",
       "      <td>AMER</td>\n",
       "      <td>US</td>\n",
       "      <td>Chris Winters</td>\n",
       "    </tr>\n",
       "    <tr>\n",
       "      <th>4</th>\n",
       "      <td>MARCEL LEWIS</td>\n",
       "      <td>-</td>\n",
       "      <td>Systems HW Server</td>\n",
       "      <td>Segment 2</td>\n",
       "      <td>US</td>\n",
       "      <td>AMER</td>\n",
       "      <td>US</td>\n",
       "      <td>David Adams</td>\n",
       "    </tr>\n",
       "  </tbody>\n",
       "</table>\n",
       "</div>"
      ],
      "text/plain": [
       "      EMP_FULL_NAME Val Pipe$           Sub Brand    Segment COUNTRY_EMP  \\\n",
       "0     ASHLEY OSWALD         -   Systems HW Server  Segment 2          US   \n",
       "1      JOE BROADWAY     0.058   Systems HW Server     Shared      Dallas   \n",
       "2  CAROLINE CASSIDY         -  Systems HW Storage  Segment 2     Atlanta   \n",
       "3      PAULA BOSLEY         -  Systems HW Storage  Segment 1       Wayne   \n",
       "4      MARCEL LEWIS         -   Systems HW Server  Segment 2          US   \n",
       "\n",
       "    Geo Mkt EMPLOYEE_MGR_L1_NAME   \n",
       "0  AMER  US             Cary Binz  \n",
       "1  AMER  US         Chris Winters  \n",
       "2  AMER  US         Chris Winters  \n",
       "3  AMER  US         Chris Winters  \n",
       "4  AMER  US           David Adams  "
      ]
     },
     "execution_count": 92,
     "metadata": {},
     "output_type": "execute_result"
    }
   ],
   "source": [
    "q1_rev.head()"
   ]
  },
  {
   "cell_type": "code",
   "execution_count": 93,
   "metadata": {},
   "outputs": [
    {
     "data": {
      "text/plain": [
       "EMP_FULL_NAME            4305\n",
       "Val Pipe$                4305\n",
       "Sub Brand                4305\n",
       "Segment                  4305\n",
       "COUNTRY_EMP              4305\n",
       "Geo                      4305\n",
       "Mkt                      4305\n",
       "EMPLOYEE_MGR_L1_NAME     4303\n",
       "dtype: int64"
      ]
     },
     "execution_count": 93,
     "metadata": {},
     "output_type": "execute_result"
    }
   ],
   "source": [
    "q1_rev.count()"
   ]
  },
  {
   "cell_type": "code",
   "execution_count": 94,
   "metadata": {},
   "outputs": [],
   "source": [
    "dt_grp = dt_mrg.groupby(['EMP_FULL_NAME']).sum()['DURATION'].reset_index()"
   ]
  },
  {
   "cell_type": "code",
   "execution_count": 95,
   "metadata": {},
   "outputs": [],
   "source": [
    "# # dropping ALL duplicte values\n",
    "# dt_grp.sort_values(\"EMP_FULL_NAME\", inplace = True) \n",
    "# dt_grp.drop_duplicates(subset =\"EMP_FULL_NAME\",\n",
    "#                      keep = False, inplace = True)"
   ]
  },
  {
   "cell_type": "code",
   "execution_count": 96,
   "metadata": {},
   "outputs": [
    {
     "data": {
      "text/html": [
       "<div>\n",
       "<style scoped>\n",
       "    .dataframe tbody tr th:only-of-type {\n",
       "        vertical-align: middle;\n",
       "    }\n",
       "\n",
       "    .dataframe tbody tr th {\n",
       "        vertical-align: top;\n",
       "    }\n",
       "\n",
       "    .dataframe thead th {\n",
       "        text-align: right;\n",
       "    }\n",
       "</style>\n",
       "<table border=\"1\" class=\"dataframe\">\n",
       "  <thead>\n",
       "    <tr style=\"text-align: right;\">\n",
       "      <th></th>\n",
       "      <th>EMP_FULL_NAME</th>\n",
       "      <th>DURATION</th>\n",
       "    </tr>\n",
       "  </thead>\n",
       "  <tbody>\n",
       "    <tr>\n",
       "      <th>0</th>\n",
       "      <td>A RAM UM</td>\n",
       "      <td>46770</td>\n",
       "    </tr>\n",
       "    <tr>\n",
       "      <th>1</th>\n",
       "      <td>AADIL LAGHZAOUI</td>\n",
       "      <td>21510</td>\n",
       "    </tr>\n",
       "  </tbody>\n",
       "</table>\n",
       "</div>"
      ],
      "text/plain": [
       "     EMP_FULL_NAME  DURATION\n",
       "0         A RAM UM     46770\n",
       "1  AADIL LAGHZAOUI     21510"
      ]
     },
     "execution_count": 96,
     "metadata": {},
     "output_type": "execute_result"
    }
   ],
   "source": [
    "dt_grp.head(2)"
   ]
  },
  {
   "cell_type": "code",
   "execution_count": 97,
   "metadata": {},
   "outputs": [
    {
     "data": {
      "text/html": [
       "<div>\n",
       "<style scoped>\n",
       "    .dataframe tbody tr th:only-of-type {\n",
       "        vertical-align: middle;\n",
       "    }\n",
       "\n",
       "    .dataframe tbody tr th {\n",
       "        vertical-align: top;\n",
       "    }\n",
       "\n",
       "    .dataframe thead th {\n",
       "        text-align: right;\n",
       "    }\n",
       "</style>\n",
       "<table border=\"1\" class=\"dataframe\">\n",
       "  <thead>\n",
       "    <tr style=\"text-align: right;\">\n",
       "      <th></th>\n",
       "      <th>EMP_FULL_NAME</th>\n",
       "      <th>EMPLOYEE_MGR_L1_NAME</th>\n",
       "      <th>ORG_NAME</th>\n",
       "      <th>SELLER_LEVEL_NAME</th>\n",
       "      <th>IOT_NAME</th>\n",
       "      <th>IMT_NAME</th>\n",
       "      <th>LEVERAGE_GROUP</th>\n",
       "      <th>DURATION</th>\n",
       "    </tr>\n",
       "  </thead>\n",
       "  <tbody>\n",
       "    <tr>\n",
       "      <th>0</th>\n",
       "      <td>A RAM UM</td>\n",
       "      <td>LACHLAN KO</td>\n",
       "      <td>Digital Sales Coverage</td>\n",
       "      <td>Non-Executive</td>\n",
       "      <td>APAC</td>\n",
       "      <td>Australia/NZ</td>\n",
       "      <td>POOL</td>\n",
       "      <td>46770</td>\n",
       "    </tr>\n",
       "    <tr>\n",
       "      <th>1</th>\n",
       "      <td>AADIL LAGHZAOUI</td>\n",
       "      <td>Hicham Sbaa</td>\n",
       "      <td>Systems HW Cross Brand</td>\n",
       "      <td>Non-Executive</td>\n",
       "      <td>EMEA</td>\n",
       "      <td>MEA Mkt</td>\n",
       "      <td>QUOTA</td>\n",
       "      <td>21510</td>\n",
       "    </tr>\n",
       "  </tbody>\n",
       "</table>\n",
       "</div>"
      ],
      "text/plain": [
       "     EMP_FULL_NAME EMPLOYEE_MGR_L1_NAME                ORG_NAME  \\\n",
       "0         A RAM UM           LACHLAN KO  Digital Sales Coverage   \n",
       "1  AADIL LAGHZAOUI          Hicham Sbaa  Systems HW Cross Brand   \n",
       "\n",
       "  SELLER_LEVEL_NAME IOT_NAME      IMT_NAME LEVERAGE_GROUP  DURATION  \n",
       "0     Non-Executive     APAC  Australia/NZ           POOL     46770  \n",
       "1     Non-Executive     EMEA       MEA Mkt          QUOTA     21510  "
      ]
     },
     "execution_count": 97,
     "metadata": {},
     "output_type": "execute_result"
    }
   ],
   "source": [
    "q1_grp = dt_mrg.groupby(['EMP_FULL_NAME','EMPLOYEE_MGR_L1_NAME','ORG_NAME','SELLER_LEVEL_NAME','IOT_NAME','IMT_NAME','LEVERAGE_GROUP']).sum()['DURATION'].reset_index()\n",
    "q1_grp.head(2)"
   ]
  },
  {
   "cell_type": "code",
   "execution_count": 98,
   "metadata": {},
   "outputs": [],
   "source": [
    "# # Creating the merging ID: this column is created with combination of Revenue and call duraton data ,\n",
    "# dt_rev['MERGING_ID'] = dt_rev['EMP_FULL_NAME'].map(str) + dt_rev['EMPLOYEE_MGR_L1_NAME'].map(str)\n",
    "# dt_rev['MERGING_ID'] = dt_rev['EMP_FULL_NAME'].map(str) + dt_rev['EMPLOYEE_MGR_L1_NAME'].map(str)"
   ]
  },
  {
   "cell_type": "code",
   "execution_count": 99,
   "metadata": {},
   "outputs": [],
   "source": [
    "#merging revenue dataset \n",
    "dt_rev=pd.merge(dt_grp,q1_rev ,on='EMP_FULL_NAME',how='left',indicator=True)\n",
    "dt_sale = pd.merge(q1_grp,q1_rev ,on='EMP_FULL_NAME',how='left',indicator=True)\n"
   ]
  },
  {
   "cell_type": "code",
   "execution_count": 100,
   "metadata": {},
   "outputs": [],
   "source": [
    "# dropping all duplicte values of names\n",
    "dt_rev.sort_values(\"EMP_FULL_NAME\", inplace = True) \n",
    "dt_rev.drop_duplicates(subset =\"EMP_FULL_NAME\",\n",
    "                     keep = False, inplace = True)"
   ]
  },
  {
   "cell_type": "markdown",
   "metadata": {},
   "source": [
    "## Call duration and sales revenue for period of 1st quarter(2021-01-01 to 2021-03-31)"
   ]
  },
  {
   "cell_type": "code",
   "execution_count": 101,
   "metadata": {},
   "outputs": [
    {
     "name": "stdout",
     "output_type": "stream",
     "text": [
      "<class 'pandas.core.frame.DataFrame'>\n",
      "Int64Index: 8287 entries, 0 to 8288\n",
      "Data columns (total 10 columns):\n",
      " #   Column                 Non-Null Count  Dtype   \n",
      "---  ------                 --------------  -----   \n",
      " 0   EMP_FULL_NAME          8287 non-null   object  \n",
      " 1   DURATION               8287 non-null   int64   \n",
      " 2   Val Pipe$              1934 non-null   object  \n",
      " 3   Sub Brand              1934 non-null   object  \n",
      " 4   Segment                1934 non-null   object  \n",
      " 5   COUNTRY_EMP            1934 non-null   object  \n",
      " 6   Geo                    1934 non-null   object  \n",
      " 7   Mkt                    1934 non-null   object  \n",
      " 8   EMPLOYEE_MGR_L1_NAME   1933 non-null   object  \n",
      " 9   _merge                 8287 non-null   category\n",
      "dtypes: category(1), int64(1), object(8)\n",
      "memory usage: 655.6+ KB\n"
     ]
    }
   ],
   "source": [
    "# Checking data set\n",
    "dt_rev.info()"
   ]
  },
  {
   "cell_type": "code",
   "execution_count": 102,
   "metadata": {},
   "outputs": [],
   "source": [
    "# Change columon name \n",
    "dt_rev = dt_rev.rename(columns={'EMP_FULL_NAME': 'SELLER','Val Pipe$':'REVENUE','Sub Brand':'Sub_Brand' })"
   ]
  },
  {
   "cell_type": "code",
   "execution_count": 103,
   "metadata": {},
   "outputs": [
    {
     "data": {
      "text/html": [
       "<div>\n",
       "<style scoped>\n",
       "    .dataframe tbody tr th:only-of-type {\n",
       "        vertical-align: middle;\n",
       "    }\n",
       "\n",
       "    .dataframe tbody tr th {\n",
       "        vertical-align: top;\n",
       "    }\n",
       "\n",
       "    .dataframe thead th {\n",
       "        text-align: right;\n",
       "    }\n",
       "</style>\n",
       "<table border=\"1\" class=\"dataframe\">\n",
       "  <thead>\n",
       "    <tr style=\"text-align: right;\">\n",
       "      <th></th>\n",
       "      <th>SELLER</th>\n",
       "      <th>DURATION</th>\n",
       "      <th>REVENUE</th>\n",
       "      <th>Sub_Brand</th>\n",
       "      <th>Segment</th>\n",
       "      <th>COUNTRY_EMP</th>\n",
       "      <th>Geo</th>\n",
       "      <th>Mkt</th>\n",
       "      <th>EMPLOYEE_MGR_L1_NAME</th>\n",
       "      <th>_merge</th>\n",
       "    </tr>\n",
       "  </thead>\n",
       "  <tbody>\n",
       "    <tr>\n",
       "      <th>0</th>\n",
       "      <td>A RAM UM</td>\n",
       "      <td>46770</td>\n",
       "      <td>NaN</td>\n",
       "      <td>NaN</td>\n",
       "      <td>NaN</td>\n",
       "      <td>NaN</td>\n",
       "      <td>NaN</td>\n",
       "      <td>NaN</td>\n",
       "      <td>NaN</td>\n",
       "      <td>left_only</td>\n",
       "    </tr>\n",
       "    <tr>\n",
       "      <th>1</th>\n",
       "      <td>AADIL LAGHZAOUI</td>\n",
       "      <td>21510</td>\n",
       "      <td>0.634</td>\n",
       "      <td>Systems HW Cross Brand</td>\n",
       "      <td>Segment 2</td>\n",
       "      <td>Morocco</td>\n",
       "      <td>EMEA</td>\n",
       "      <td>MEA</td>\n",
       "      <td>Hicham Sbaa</td>\n",
       "      <td>both</td>\n",
       "    </tr>\n",
       "    <tr>\n",
       "      <th>2</th>\n",
       "      <td>AALISHAN MOOSAVI</td>\n",
       "      <td>1365</td>\n",
       "      <td>NaN</td>\n",
       "      <td>NaN</td>\n",
       "      <td>NaN</td>\n",
       "      <td>NaN</td>\n",
       "      <td>NaN</td>\n",
       "      <td>NaN</td>\n",
       "      <td>NaN</td>\n",
       "      <td>left_only</td>\n",
       "    </tr>\n",
       "    <tr>\n",
       "      <th>3</th>\n",
       "      <td>AARON BROWN</td>\n",
       "      <td>27630</td>\n",
       "      <td>0.972</td>\n",
       "      <td>SW Crossbrand (non z)</td>\n",
       "      <td>Segment 2</td>\n",
       "      <td>Portland</td>\n",
       "      <td>AMER</td>\n",
       "      <td>PUB</td>\n",
       "      <td>Paula Buerkle</td>\n",
       "      <td>both</td>\n",
       "    </tr>\n",
       "    <tr>\n",
       "      <th>4</th>\n",
       "      <td>AARON FIELD</td>\n",
       "      <td>3420</td>\n",
       "      <td>NaN</td>\n",
       "      <td>NaN</td>\n",
       "      <td>NaN</td>\n",
       "      <td>NaN</td>\n",
       "      <td>NaN</td>\n",
       "      <td>NaN</td>\n",
       "      <td>NaN</td>\n",
       "      <td>left_only</td>\n",
       "    </tr>\n",
       "  </tbody>\n",
       "</table>\n",
       "</div>"
      ],
      "text/plain": [
       "             SELLER  DURATION REVENUE               Sub_Brand    Segment  \\\n",
       "0          A RAM UM     46770     NaN                     NaN        NaN   \n",
       "1   AADIL LAGHZAOUI     21510   0.634  Systems HW Cross Brand  Segment 2   \n",
       "2  AALISHAN MOOSAVI      1365     NaN                     NaN        NaN   \n",
       "3       AARON BROWN     27630   0.972   SW Crossbrand (non z)  Segment 2   \n",
       "4       AARON FIELD      3420     NaN                     NaN        NaN   \n",
       "\n",
       "  COUNTRY_EMP   Geo  Mkt EMPLOYEE_MGR_L1_NAME      _merge  \n",
       "0         NaN   NaN  NaN                   NaN  left_only  \n",
       "1     Morocco  EMEA  MEA           Hicham Sbaa       both  \n",
       "2         NaN   NaN  NaN                   NaN  left_only  \n",
       "3    Portland  AMER  PUB         Paula Buerkle       both  \n",
       "4         NaN   NaN  NaN                   NaN  left_only  "
      ]
     },
     "execution_count": 103,
     "metadata": {},
     "output_type": "execute_result"
    }
   ],
   "source": [
    "dt_rev.head()"
   ]
  },
  {
   "cell_type": "markdown",
   "metadata": {},
   "source": [
    "#### Check Null values of revenue"
   ]
  },
  {
   "cell_type": "code",
   "execution_count": 104,
   "metadata": {},
   "outputs": [
    {
     "data": {
      "text/plain": [
       "6353"
      ]
     },
     "execution_count": 104,
     "metadata": {},
     "output_type": "execute_result"
    }
   ],
   "source": [
    "# let us chekc the Null vlaues \n",
    "check_null=dt_rev['REVENUE'].isnull().sum()\n",
    "check_null"
   ]
  },
  {
   "cell_type": "code",
   "execution_count": 105,
   "metadata": {},
   "outputs": [],
   "source": [
    "#Replace with zero all Nan values\n",
    "dt_rev.replace('-', np.nan, inplace=True) \n",
    "dt_rev['REVENUE'] = dt_rev['REVENUE'].replace(np.nan, 0)"
   ]
  },
  {
   "cell_type": "code",
   "execution_count": 106,
   "metadata": {},
   "outputs": [
    {
     "data": {
      "text/plain": [
       "0"
      ]
     },
     "execution_count": 106,
     "metadata": {},
     "output_type": "execute_result"
    }
   ],
   "source": [
    "check_null=dt_rev['REVENUE'].isnull().sum()\n",
    "check_null"
   ]
  },
  {
   "cell_type": "code",
   "execution_count": 107,
   "metadata": {},
   "outputs": [
    {
     "data": {
      "text/html": [
       "<div>\n",
       "<style scoped>\n",
       "    .dataframe tbody tr th:only-of-type {\n",
       "        vertical-align: middle;\n",
       "    }\n",
       "\n",
       "    .dataframe tbody tr th {\n",
       "        vertical-align: top;\n",
       "    }\n",
       "\n",
       "    .dataframe thead th {\n",
       "        text-align: right;\n",
       "    }\n",
       "</style>\n",
       "<table border=\"1\" class=\"dataframe\">\n",
       "  <thead>\n",
       "    <tr style=\"text-align: right;\">\n",
       "      <th></th>\n",
       "      <th>SELLER</th>\n",
       "      <th>DURATION</th>\n",
       "      <th>REVENUE</th>\n",
       "      <th>Sub_Brand</th>\n",
       "      <th>Segment</th>\n",
       "      <th>COUNTRY_EMP</th>\n",
       "      <th>Geo</th>\n",
       "      <th>Mkt</th>\n",
       "      <th>EMPLOYEE_MGR_L1_NAME</th>\n",
       "      <th>_merge</th>\n",
       "    </tr>\n",
       "  </thead>\n",
       "  <tbody>\n",
       "    <tr>\n",
       "      <th>0</th>\n",
       "      <td>A RAM UM</td>\n",
       "      <td>46770</td>\n",
       "      <td>0.000</td>\n",
       "      <td>NaN</td>\n",
       "      <td>NaN</td>\n",
       "      <td>NaN</td>\n",
       "      <td>NaN</td>\n",
       "      <td>NaN</td>\n",
       "      <td>NaN</td>\n",
       "      <td>left_only</td>\n",
       "    </tr>\n",
       "    <tr>\n",
       "      <th>1</th>\n",
       "      <td>AADIL LAGHZAOUI</td>\n",
       "      <td>21510</td>\n",
       "      <td>0.634</td>\n",
       "      <td>Systems HW Cross Brand</td>\n",
       "      <td>Segment 2</td>\n",
       "      <td>Morocco</td>\n",
       "      <td>EMEA</td>\n",
       "      <td>MEA</td>\n",
       "      <td>Hicham Sbaa</td>\n",
       "      <td>both</td>\n",
       "    </tr>\n",
       "    <tr>\n",
       "      <th>2</th>\n",
       "      <td>AALISHAN MOOSAVI</td>\n",
       "      <td>1365</td>\n",
       "      <td>0.000</td>\n",
       "      <td>NaN</td>\n",
       "      <td>NaN</td>\n",
       "      <td>NaN</td>\n",
       "      <td>NaN</td>\n",
       "      <td>NaN</td>\n",
       "      <td>NaN</td>\n",
       "      <td>left_only</td>\n",
       "    </tr>\n",
       "    <tr>\n",
       "      <th>3</th>\n",
       "      <td>AARON BROWN</td>\n",
       "      <td>27630</td>\n",
       "      <td>0.972</td>\n",
       "      <td>SW Crossbrand (non z)</td>\n",
       "      <td>Segment 2</td>\n",
       "      <td>Portland</td>\n",
       "      <td>AMER</td>\n",
       "      <td>PUB</td>\n",
       "      <td>Paula Buerkle</td>\n",
       "      <td>both</td>\n",
       "    </tr>\n",
       "    <tr>\n",
       "      <th>4</th>\n",
       "      <td>AARON FIELD</td>\n",
       "      <td>3420</td>\n",
       "      <td>0.000</td>\n",
       "      <td>NaN</td>\n",
       "      <td>NaN</td>\n",
       "      <td>NaN</td>\n",
       "      <td>NaN</td>\n",
       "      <td>NaN</td>\n",
       "      <td>NaN</td>\n",
       "      <td>left_only</td>\n",
       "    </tr>\n",
       "  </tbody>\n",
       "</table>\n",
       "</div>"
      ],
      "text/plain": [
       "             SELLER  DURATION  REVENUE               Sub_Brand    Segment  \\\n",
       "0          A RAM UM     46770    0.000                     NaN        NaN   \n",
       "1   AADIL LAGHZAOUI     21510    0.634  Systems HW Cross Brand  Segment 2   \n",
       "2  AALISHAN MOOSAVI      1365    0.000                     NaN        NaN   \n",
       "3       AARON BROWN     27630    0.972   SW Crossbrand (non z)  Segment 2   \n",
       "4       AARON FIELD      3420    0.000                     NaN        NaN   \n",
       "\n",
       "  COUNTRY_EMP   Geo  Mkt EMPLOYEE_MGR_L1_NAME      _merge  \n",
       "0         NaN   NaN  NaN                   NaN  left_only  \n",
       "1     Morocco  EMEA  MEA           Hicham Sbaa       both  \n",
       "2         NaN   NaN  NaN                   NaN  left_only  \n",
       "3    Portland  AMER  PUB         Paula Buerkle       both  \n",
       "4         NaN   NaN  NaN                   NaN  left_only  "
      ]
     },
     "execution_count": 107,
     "metadata": {},
     "output_type": "execute_result"
    }
   ],
   "source": [
    "dt_rev.head()"
   ]
  },
  {
   "cell_type": "code",
   "execution_count": 108,
   "metadata": {},
   "outputs": [
    {
     "data": {
      "text/html": [
       "<div>\n",
       "<style scoped>\n",
       "    .dataframe tbody tr th:only-of-type {\n",
       "        vertical-align: middle;\n",
       "    }\n",
       "\n",
       "    .dataframe tbody tr th {\n",
       "        vertical-align: top;\n",
       "    }\n",
       "\n",
       "    .dataframe thead th {\n",
       "        text-align: right;\n",
       "    }\n",
       "</style>\n",
       "<table border=\"1\" class=\"dataframe\">\n",
       "  <thead>\n",
       "    <tr style=\"text-align: right;\">\n",
       "      <th></th>\n",
       "      <th>DURATION</th>\n",
       "      <th>REVENUE</th>\n",
       "    </tr>\n",
       "  </thead>\n",
       "  <tbody>\n",
       "    <tr>\n",
       "      <th>count</th>\n",
       "      <td>8287.000000</td>\n",
       "      <td>8287.000000</td>\n",
       "    </tr>\n",
       "    <tr>\n",
       "      <th>mean</th>\n",
       "      <td>19876.580910</td>\n",
       "      <td>0.277312</td>\n",
       "    </tr>\n",
       "    <tr>\n",
       "      <th>std</th>\n",
       "      <td>24210.987226</td>\n",
       "      <td>3.689121</td>\n",
       "    </tr>\n",
       "    <tr>\n",
       "      <th>min</th>\n",
       "      <td>0.000000</td>\n",
       "      <td>0.000000</td>\n",
       "    </tr>\n",
       "    <tr>\n",
       "      <th>25%</th>\n",
       "      <td>4830.000000</td>\n",
       "      <td>0.000000</td>\n",
       "    </tr>\n",
       "    <tr>\n",
       "      <th>50%</th>\n",
       "      <td>16110.000000</td>\n",
       "      <td>0.000000</td>\n",
       "    </tr>\n",
       "    <tr>\n",
       "      <th>75%</th>\n",
       "      <td>28620.000000</td>\n",
       "      <td>0.000000</td>\n",
       "    </tr>\n",
       "    <tr>\n",
       "      <th>max</th>\n",
       "      <td>516210.000000</td>\n",
       "      <td>185.560000</td>\n",
       "    </tr>\n",
       "  </tbody>\n",
       "</table>\n",
       "</div>"
      ],
      "text/plain": [
       "            DURATION      REVENUE\n",
       "count    8287.000000  8287.000000\n",
       "mean    19876.580910     0.277312\n",
       "std     24210.987226     3.689121\n",
       "min         0.000000     0.000000\n",
       "25%      4830.000000     0.000000\n",
       "50%     16110.000000     0.000000\n",
       "75%     28620.000000     0.000000\n",
       "max    516210.000000   185.560000"
      ]
     },
     "execution_count": 108,
     "metadata": {},
     "output_type": "execute_result"
    }
   ],
   "source": [
    "dt_rev.describe()"
   ]
  },
  {
   "cell_type": "markdown",
   "metadata": {},
   "source": [
    "Average of call duration is 19876 and SD is 24210 but we need to chekc the mean of revene part it is 0.2777304, hence we may need to normalize the data set since its on decimal point of millions"
   ]
  },
  {
   "cell_type": "markdown",
   "metadata": {},
   "source": [
    "#### Converting  to numberic and creating actual amount of revenue columon "
   ]
  },
  {
   "cell_type": "code",
   "execution_count": 109,
   "metadata": {},
   "outputs": [
    {
     "name": "stdout",
     "output_type": "stream",
     "text": [
      "<class 'pandas.core.frame.DataFrame'>\n",
      "Int64Index: 8287 entries, 0 to 8288\n",
      "Data columns (total 10 columns):\n",
      " #   Column                 Non-Null Count  Dtype  \n",
      "---  ------                 --------------  -----  \n",
      " 0   SELLER                 8287 non-null   object \n",
      " 1   DURATION               8287 non-null   int64  \n",
      " 2   REVENUE                8287 non-null   float64\n",
      " 3   Sub_Brand              1934 non-null   object \n",
      " 4   Segment                1934 non-null   object \n",
      " 5   COUNTRY_EMP            1934 non-null   object \n",
      " 6   Geo                    1934 non-null   object \n",
      " 7   Mkt                    1934 non-null   object \n",
      " 8   EMPLOYEE_MGR_L1_NAME   1933 non-null   object \n",
      " 9   REV_AMT                8287 non-null   float64\n",
      "dtypes: float64(2), int64(1), object(7)\n",
      "memory usage: 712.2+ KB\n"
     ]
    }
   ],
   "source": [
    "dt_rev['REV_AMT'] = pd.to_numeric(dt_rev['REVENUE'] *1000000, errors='coerce')\n",
    "mask = dt_rev['REV_AMT'].isna()\n",
    "dt_rev.loc[mask, 'Text'] = dt_rev.loc[mask, 'REVENUE']\n",
    "dt_rev = dt_rev.drop(columns=['_merge','Text'])\n",
    "dt_rev.info()"
   ]
  },
  {
   "cell_type": "markdown",
   "metadata": {},
   "source": [
    "#### Adding Win or Lost columon"
   ]
  },
  {
   "cell_type": "code",
   "execution_count": 127,
   "metadata": {},
   "outputs": [],
   "source": [
    " def func(x):\n",
    "    if x > 0:\n",
    "        return 'Win'\n",
    "    else:\n",
    "        return 'Lost'\n",
    "dt_rev['Win_Lost'] = dt_rev['REV_AMT'].apply(func)"
   ]
  },
  {
   "cell_type": "markdown",
   "metadata": {},
   "source": [
    "#### Nomalizing duration and sales value "
   ]
  },
  {
   "cell_type": "code",
   "execution_count": 129,
   "metadata": {},
   "outputs": [],
   "source": [
    "# dt_rev['NOR_VAL_PIPE'] = (dt_rev['N_VAL_PIPE'] - dt_rev['N_VAL_PIPE'].min()) / (dt_rev['N_VAL_PIPE'].max() - dt_rev['N_VAL_PIPE'].min())    \n",
    "# dt_rev['NOR_DURATION'] = (dt_rev['DURATION'] - dt_rev['DURATION'].min()) / (dt_rev['DURATION'].max() - dt_rev['DURATION'].min()) "
   ]
  },
  {
   "cell_type": "markdown",
   "metadata": {},
   "source": [
    "   We have created to addtional columons with normalziation of revenue and duration "
   ]
  },
  {
   "cell_type": "code",
   "execution_count": 130,
   "metadata": {},
   "outputs": [
    {
     "data": {
      "text/html": [
       "<div>\n",
       "<style scoped>\n",
       "    .dataframe tbody tr th:only-of-type {\n",
       "        vertical-align: middle;\n",
       "    }\n",
       "\n",
       "    .dataframe tbody tr th {\n",
       "        vertical-align: top;\n",
       "    }\n",
       "\n",
       "    .dataframe thead th {\n",
       "        text-align: right;\n",
       "    }\n",
       "</style>\n",
       "<table border=\"1\" class=\"dataframe\">\n",
       "  <thead>\n",
       "    <tr style=\"text-align: right;\">\n",
       "      <th></th>\n",
       "      <th>count</th>\n",
       "      <th>mean</th>\n",
       "      <th>std</th>\n",
       "      <th>min</th>\n",
       "      <th>25%</th>\n",
       "      <th>50%</th>\n",
       "      <th>75%</th>\n",
       "      <th>max</th>\n",
       "    </tr>\n",
       "  </thead>\n",
       "  <tbody>\n",
       "    <tr>\n",
       "      <th>DURATION</th>\n",
       "      <td>8287.0</td>\n",
       "      <td>19876.580910</td>\n",
       "      <td>2.421099e+04</td>\n",
       "      <td>0.0</td>\n",
       "      <td>4830.0</td>\n",
       "      <td>16110.0</td>\n",
       "      <td>28620.0</td>\n",
       "      <td>5.162100e+05</td>\n",
       "    </tr>\n",
       "    <tr>\n",
       "      <th>REVENUE</th>\n",
       "      <td>8287.0</td>\n",
       "      <td>0.277312</td>\n",
       "      <td>3.689121e+00</td>\n",
       "      <td>0.0</td>\n",
       "      <td>0.0</td>\n",
       "      <td>0.0</td>\n",
       "      <td>0.0</td>\n",
       "      <td>1.855600e+02</td>\n",
       "    </tr>\n",
       "    <tr>\n",
       "      <th>REV_AMT</th>\n",
       "      <td>8287.0</td>\n",
       "      <td>277311.813684</td>\n",
       "      <td>3.689121e+06</td>\n",
       "      <td>0.0</td>\n",
       "      <td>0.0</td>\n",
       "      <td>0.0</td>\n",
       "      <td>0.0</td>\n",
       "      <td>1.855600e+08</td>\n",
       "    </tr>\n",
       "  </tbody>\n",
       "</table>\n",
       "</div>"
      ],
      "text/plain": [
       "           count           mean           std  min     25%      50%      75%  \\\n",
       "DURATION  8287.0   19876.580910  2.421099e+04  0.0  4830.0  16110.0  28620.0   \n",
       "REVENUE   8287.0       0.277312  3.689121e+00  0.0     0.0      0.0      0.0   \n",
       "REV_AMT   8287.0  277311.813684  3.689121e+06  0.0     0.0      0.0      0.0   \n",
       "\n",
       "                   max  \n",
       "DURATION  5.162100e+05  \n",
       "REVENUE   1.855600e+02  \n",
       "REV_AMT   1.855600e+08  "
      ]
     },
     "execution_count": 130,
     "metadata": {},
     "output_type": "execute_result"
    }
   ],
   "source": [
    "dt_rev.describe().transpose()"
   ]
  },
  {
   "cell_type": "markdown",
   "metadata": {},
   "source": [
    "## Univariate analysis"
   ]
  },
  {
   "cell_type": "code",
   "execution_count": 131,
   "metadata": {},
   "outputs": [
    {
     "data": {
      "text/plain": [
       "<seaborn.axisgrid.PairGrid at 0x2c588107ac0>"
      ]
     },
     "execution_count": 131,
     "metadata": {},
     "output_type": "execute_result"
    },
    {
     "data": {
      "text/plain": [
       "<Figure size 720x576 with 0 Axes>"
      ]
     },
     "metadata": {},
     "output_type": "display_data"
    },
    {
     "data": {
      "image/png": "[encoded data removed]",
      "text/plain": [
       "<Figure size 540x540 with 12 Axes>"
      ]
     },
     "metadata": {
      "needs_background": "light"
     },
     "output_type": "display_data"
    }
   ],
   "source": [
    "plt.figure(figsize=(10,8))\n",
    "sns.pairplot(dt_rev,diag_kind= 'kde')"
   ]
  },
  {
   "cell_type": "markdown",
   "metadata": {},
   "source": [
    "#### Checking  Outlier"
   ]
  },
  {
   "cell_type": "code",
   "execution_count": 132,
   "metadata": {
    "scrolled": true
   },
   "outputs": [
    {
     "data": {
      "text/plain": [
       "<AxesSubplot:>"
      ]
     },
     "execution_count": 132,
     "metadata": {},
     "output_type": "execute_result"
    },
    {
     "data": {
      "image/png": "[encoded data removed]",
      "text/plain": [
       "<Figure size 360x360 with 1 Axes>"
      ]
     },
     "metadata": {
      "needs_background": "light"
     },
     "output_type": "display_data"
    }
   ],
   "source": [
    "plt.figure(figsize=(5,5))\n",
    "dt_rev.boxplot(column=\"REVENUE\")"
   ]
  },
  {
   "cell_type": "code",
   "execution_count": 133,
   "metadata": {
    "scrolled": true
   },
   "outputs": [
    {
     "data": {
      "text/plain": [
       "<AxesSubplot:>"
      ]
     },
     "execution_count": 133,
     "metadata": {},
     "output_type": "execute_result"
    },
    {
     "data": {
      "image/png": "[encoded data removed]",
      "text/plain": [
       "<Figure size 360x360 with 1 Axes>"
      ]
     },
     "metadata": {
      "needs_background": "light"
     },
     "output_type": "display_data"
    }
   ],
   "source": [
    "plt.figure(figsize=(5,5))\n",
    "dt_rev.boxplot(column=\"DURATION\")"
   ]
  },
  {
   "cell_type": "code",
   "execution_count": 134,
   "metadata": {},
   "outputs": [
    {
     "data": {
      "text/html": [
       "<div>\n",
       "<style scoped>\n",
       "    .dataframe tbody tr th:only-of-type {\n",
       "        vertical-align: middle;\n",
       "    }\n",
       "\n",
       "    .dataframe tbody tr th {\n",
       "        vertical-align: top;\n",
       "    }\n",
       "\n",
       "    .dataframe thead th {\n",
       "        text-align: right;\n",
       "    }\n",
       "</style>\n",
       "<table border=\"1\" class=\"dataframe\">\n",
       "  <thead>\n",
       "    <tr style=\"text-align: right;\">\n",
       "      <th></th>\n",
       "      <th>Win_Lost</th>\n",
       "      <th>DURATION</th>\n",
       "    </tr>\n",
       "  </thead>\n",
       "  <tbody>\n",
       "    <tr>\n",
       "      <th>0</th>\n",
       "      <td>Lost</td>\n",
       "      <td>6797</td>\n",
       "    </tr>\n",
       "    <tr>\n",
       "      <th>1</th>\n",
       "      <td>Win</td>\n",
       "      <td>1490</td>\n",
       "    </tr>\n",
       "  </tbody>\n",
       "</table>\n",
       "</div>"
      ],
      "text/plain": [
       "  Win_Lost  DURATION\n",
       "0     Lost      6797\n",
       "1      Win      1490"
      ]
     },
     "execution_count": 134,
     "metadata": {},
     "output_type": "execute_result"
    }
   ],
   "source": [
    "dt_count = dt_rev.pivot_table(index=['Win_Lost'], values=['DURATION'], aggfunc='count')\n",
    "dt_count = dt_count.sort_values('DURATION',ascending=False).reset_index() \n",
    "dt_count"
   ]
  },
  {
   "cell_type": "code",
   "execution_count": 135,
   "metadata": {},
   "outputs": [
    {
     "data": {
      "text/plain": [
       "Text(0.5, 1.0, 'Win_Lost v/s COUNT')"
      ]
     },
     "execution_count": 135,
     "metadata": {},
     "output_type": "execute_result"
    },
    {
     "data": {
      "image/png": "[encoded data removed]",
      "text/plain": [
       "<Figure size 432x288 with 1 Axes>"
      ]
     },
     "metadata": {
      "needs_background": "light"
     },
     "output_type": "display_data"
    }
   ],
   "source": [
    "# count plotof win and lost\n",
    "# plt.style.use('fivethirtyeight')\n",
    "dt_rev['Win_Lost'].hist()\n",
    "plt.xlabel('Win_Lost')\n",
    "plt.ylabel('COUNT')\n",
    "plt.title('Win_Lost v/s COUNT')"
   ]
  },
  {
   "cell_type": "markdown",
   "metadata": {},
   "source": [
    "## Bivariate analysis"
   ]
  },
  {
   "cell_type": "code",
   "execution_count": 136,
   "metadata": {},
   "outputs": [
    {
     "data": {
      "text/html": [
       "<div>\n",
       "<style scoped>\n",
       "    .dataframe tbody tr th:only-of-type {\n",
       "        vertical-align: middle;\n",
       "    }\n",
       "\n",
       "    .dataframe tbody tr th {\n",
       "        vertical-align: top;\n",
       "    }\n",
       "\n",
       "    .dataframe thead th {\n",
       "        text-align: right;\n",
       "    }\n",
       "</style>\n",
       "<table border=\"1\" class=\"dataframe\">\n",
       "  <thead>\n",
       "    <tr style=\"text-align: right;\">\n",
       "      <th></th>\n",
       "      <th>Win_Lost</th>\n",
       "      <th>DURATION</th>\n",
       "    </tr>\n",
       "  </thead>\n",
       "  <tbody>\n",
       "    <tr>\n",
       "      <th>0</th>\n",
       "      <td>Lost</td>\n",
       "      <td>129011597</td>\n",
       "    </tr>\n",
       "    <tr>\n",
       "      <th>1</th>\n",
       "      <td>Win</td>\n",
       "      <td>35705629</td>\n",
       "    </tr>\n",
       "  </tbody>\n",
       "</table>\n",
       "</div>"
      ],
      "text/plain": [
       "  Win_Lost   DURATION\n",
       "0     Lost  129011597\n",
       "1      Win   35705629"
      ]
     },
     "execution_count": 136,
     "metadata": {},
     "output_type": "execute_result"
    }
   ],
   "source": [
    "dt_dur = dt_rev.pivot_table(index=['Win_Lost'], values=['DURATION'], aggfunc='sum')\n",
    "dt_dur = dt_dur.sort_values('DURATION',ascending=False).reset_index() \n",
    "dt_dur"
   ]
  },
  {
   "cell_type": "code",
   "execution_count": 137,
   "metadata": {},
   "outputs": [
    {
     "data": {
      "image/png": "[encoded data removed]",
      "text/plain": [
       "<Figure size 576x360 with 1 Axes>"
      ]
     },
     "metadata": {},
     "output_type": "display_data"
    }
   ],
   "source": [
    "q1_win = dt_rev.groupby(\"Win_Lost\")[\"DURATION\"].sum()\n",
    "# data.plot.pie(autopct=\"%.1f%%\");\n",
    "# Using matplotlib\n",
    "pie, ax = plt.subplots(figsize=[8,5])\n",
    "labels = q1_win.keys()\n",
    "plt.pie(x=q1_win, autopct=\"%.1f%%\", explode=[0.05]*2, labels=labels, pctdistance=0.5)\n",
    "plt.title(\"Win and Lost %  by call duration for Qurter 2021\", fontsize=14);\n",
    "pie.savefig(\"q1GeoPieChart.png\")"
   ]
  },
  {
   "cell_type": "markdown",
   "metadata": {},
   "source": [
    "#### Scatter plot - Duration Vs Revenue"
   ]
  },
  {
   "cell_type": "code",
   "execution_count": 138,
   "metadata": {},
   "outputs": [
    {
     "data": {
      "image/png": "[encoded data removed]",
      "text/plain": [
       "<Figure size 720x576 with 1 Axes>"
      ]
     },
     "metadata": {
      "needs_background": "light"
     },
     "output_type": "display_data"
    }
   ],
   "source": [
    "fig, ax = plt.subplots(figsize=(10,8))\n",
    "ax.scatter(dt_rev['DURATION'], dt_rev['REV_AMT'])\n",
    "ax.set_xlabel('Call duration made for 1st quarter of 2021')\n",
    "ax.set_ylabel('Revenue for 1st quarter of 2021')\n",
    "plt.show()"
   ]
  },
  {
   "cell_type": "markdown",
   "metadata": {},
   "source": [
    "#### Line plot - Duration Vs Revenue"
   ]
  },
  {
   "cell_type": "code",
   "execution_count": 139,
   "metadata": {},
   "outputs": [
    {
     "data": {
      "image/png": "[encoded data removed]",
      "text/plain": [
       "<Figure size 720x576 with 1 Axes>"
      ]
     },
     "metadata": {
      "needs_background": "light"
     },
     "output_type": "display_data"
    }
   ],
   "source": [
    "plt.figure(figsize=(10,8))\n",
    "sns.lineplot(x=\"REVENUE\", y=\"DURATION\", data=dt_rev)\n",
    "plt.show()"
   ]
  },
  {
   "cell_type": "markdown",
   "metadata": {},
   "source": [
    "#### Plotting Duraiton Vs Revenue  by Win and Lost "
   ]
  },
  {
   "cell_type": "code",
   "execution_count": 140,
   "metadata": {},
   "outputs": [
    {
     "data": {
      "text/plain": [
       "<AxesSubplot:xlabel='DURATION', ylabel='REV_AMT'>"
      ]
     },
     "execution_count": 140,
     "metadata": {},
     "output_type": "execute_result"
    },
    {
     "data": {
      "image/png": "[encoded data removed]",
      "text/plain": [
       "<Figure size 720x576 with 1 Axes>"
      ]
     },
     "metadata": {
      "needs_background": "light"
     },
     "output_type": "display_data"
    }
   ],
   "source": [
    "# Plot\n",
    "plt.figure(figsize=(10,8))\n",
    "sns.scatterplot(data=dt_rev, x=\"DURATION\", y=\"REV_AMT\", hue=\"Win_Lost\", palette=\"deep\")"
   ]
  },
  {
   "cell_type": "markdown",
   "metadata": {},
   "source": [
    "#### Checking Win/Lost  by Duratioin "
   ]
  },
  {
   "cell_type": "code",
   "execution_count": 141,
   "metadata": {},
   "outputs": [
    {
     "data": {
      "image/png": "[encoded data removed]",
      "text/plain": [
       "<Figure size 720x576 with 1 Axes>"
      ]
     },
     "metadata": {
      "needs_background": "light"
     },
     "output_type": "display_data"
    }
   ],
   "source": [
    "plt.figure(figsize=(10,8))\n",
    "sns.boxplot(x=\"Win_Lost\",y=\"DURATION\" ,data=dt_rev, palette=\"Set3\")\n",
    "fig.tight_layout()\n",
    "plt.show()"
   ]
  },
  {
   "cell_type": "code",
   "execution_count": 142,
   "metadata": {},
   "outputs": [],
   "source": [
    "# from sklearn.preprocessing import StandardScaler\n",
    "# std_scale = StandardScaler()\n",
    "# std_scale\n",
    "# dt_rev['N_VAL_PIPE'] = std_scale.fit_transform(dt_rev[['N_VAL_PIPE']])"
   ]
  },
  {
   "cell_type": "markdown",
   "metadata": {},
   "source": [
    "#### Checking correlation "
   ]
  },
  {
   "cell_type": "code",
   "execution_count": 143,
   "metadata": {},
   "outputs": [
    {
     "data": {
      "text/html": [
       "<div>\n",
       "<style scoped>\n",
       "    .dataframe tbody tr th:only-of-type {\n",
       "        vertical-align: middle;\n",
       "    }\n",
       "\n",
       "    .dataframe tbody tr th {\n",
       "        vertical-align: top;\n",
       "    }\n",
       "\n",
       "    .dataframe thead th {\n",
       "        text-align: right;\n",
       "    }\n",
       "</style>\n",
       "<table border=\"1\" class=\"dataframe\">\n",
       "  <thead>\n",
       "    <tr style=\"text-align: right;\">\n",
       "      <th></th>\n",
       "      <th>DURATION</th>\n",
       "      <th>REVENUE</th>\n",
       "      <th>REV_AMT</th>\n",
       "    </tr>\n",
       "  </thead>\n",
       "  <tbody>\n",
       "    <tr>\n",
       "      <th>DURATION</th>\n",
       "      <td>1.000000</td>\n",
       "      <td>0.010716</td>\n",
       "      <td>0.010716</td>\n",
       "    </tr>\n",
       "    <tr>\n",
       "      <th>REVENUE</th>\n",
       "      <td>0.010716</td>\n",
       "      <td>1.000000</td>\n",
       "      <td>1.000000</td>\n",
       "    </tr>\n",
       "    <tr>\n",
       "      <th>REV_AMT</th>\n",
       "      <td>0.010716</td>\n",
       "      <td>1.000000</td>\n",
       "      <td>1.000000</td>\n",
       "    </tr>\n",
       "  </tbody>\n",
       "</table>\n",
       "</div>"
      ],
      "text/plain": [
       "          DURATION   REVENUE   REV_AMT\n",
       "DURATION  1.000000  0.010716  0.010716\n",
       "REVENUE   0.010716  1.000000  1.000000\n",
       "REV_AMT   0.010716  1.000000  1.000000"
      ]
     },
     "execution_count": 143,
     "metadata": {},
     "output_type": "execute_result"
    }
   ],
   "source": [
    "corrMatrix = dt_rev.corr()\n",
    "corrMatrix"
   ]
  },
  {
   "cell_type": "code",
   "execution_count": 144,
   "metadata": {},
   "outputs": [
    {
     "data": {
      "image/png": "[encoded data removed]",
      "text/plain": [
       "<Figure size 432x288 with 2 Axes>"
      ]
     },
     "metadata": {
      "needs_background": "light"
     },
     "output_type": "display_data"
    }
   ],
   "source": [
    "sns.heatmap(corrMatrix, annot=True)\n",
    "plt.show()"
   ]
  },
  {
   "cell_type": "code",
   "execution_count": 145,
   "metadata": {},
   "outputs": [],
   "source": [
    "from scipy.stats import pearsonr"
   ]
  },
  {
   "cell_type": "code",
   "execution_count": 146,
   "metadata": {},
   "outputs": [
    {
     "name": "stdout",
     "output_type": "stream",
     "text": [
      "Pearsons correlation: 0.011\n"
     ]
    }
   ],
   "source": [
    "# Apply the pearsonr()\n",
    "list1 = dt_rev['REV_AMT']\n",
    "list2 = dt_rev['DURATION']\n",
    "corr, _ = pearsonr(list1, list2)\n",
    "print('Pearsons correlation: %.3f' % corr)"
   ]
  },
  {
   "cell_type": "markdown",
   "metadata": {},
   "source": [
    "## Anova "
   ]
  },
  {
   "cell_type": "markdown",
   "metadata": {},
   "source": [
    "####   Anova one way"
   ]
  },
  {
   "cell_type": "code",
   "execution_count": 147,
   "metadata": {},
   "outputs": [
    {
     "name": "stdout",
     "output_type": "stream",
     "text": [
      "                  df        sum_sq       mean_sq          F        PR(>F)\n",
      "C(Win_Lost)      1.0  1.882853e+09  1.882853e+09  10.818478  1.023400e-03\n",
      "C(Mkt)          22.0  5.021251e+10  2.282387e+09  13.114115  1.478465e-44\n",
      "C(Geo)           3.0  1.051874e+09  3.506247e+08   2.014616  1.098818e-01\n",
      "C(Segment)       3.0  4.494399e+09  1.498133e+09   8.607958  1.125935e-05\n",
      "C(Sub_Brand)    18.0  3.501210e+10  1.945117e+09  11.176232  4.029720e-31\n",
      "REVENUE          1.0  1.892140e+07  1.892140e+07   0.108718  7.416446e-01\n",
      "Residual      1888.0  3.285884e+11  1.740405e+08        NaN           NaN\n"
     ]
    }
   ],
   "source": [
    "formula = 'DURATION ~ C(Win_Lost) + (REVENUE) + C(Mkt) + C(Geo) + C(Segment) + C(Sub_Brand)'\n",
    "model = ols (formula,dt_rev).fit()\n",
    "aov_tab =  anova_lm(model)\n",
    "print(aov_tab)"
   ]
  },
  {
   "cell_type": "markdown",
   "metadata": {},
   "source": [
    "Assume in our case that we say no changes are impacted to call duration due these variables\n",
    "P value is here gater then  the 0.05 .Hence we understand there is no significient relationship between these variables and call duraiton ."
   ]
  },
  {
   "cell_type": "markdown",
   "metadata": {},
   "source": [
    "#### Anova two  way"
   ]
  },
  {
   "cell_type": "code",
   "execution_count": 148,
   "metadata": {},
   "outputs": [
    {
     "name": "stdout",
     "output_type": "stream",
     "text": [
      "                     df         sum_sq     mean_sq         F    PR(>F)\n",
      "C(Mkt)             22.0    1044.066745   47.457579  0.822556  0.699722\n",
      "C(Geo)              3.0       6.857869    2.285956  0.039621  0.989478\n",
      "C(Segment)          3.0     465.922383  155.307461  2.691859  0.044781\n",
      "C(Sub_Brand)       18.0    1022.040616   56.780034  0.984137  0.475147\n",
      "DURATION            1.0      15.120213   15.120213  0.262070  0.608762\n",
      "C(Geo):DURATION     3.0      31.718195   10.572732  0.183251  0.907817\n",
      "C(Mkt):DURATION    22.0     393.331432   17.878701  0.309882  0.999150\n",
      "Residual         1867.0  107717.006794   57.695237       NaN       NaN\n"
     ]
    }
   ],
   "source": [
    "formula = 'REVENUE ~ C(Mkt) + (DURATION) + C(Geo) + C(Segment) + C(Sub_Brand) + C(Geo): (DURATION) + C(Mkt):(DURATION)'\n",
    "model = ols (formula,dt_rev).fit()\n",
    "aov_tab =  anova_lm(model,type=2)\n",
    "print(aov_tab)"
   ]
  },
  {
   "cell_type": "code",
   "execution_count": 149,
   "metadata": {},
   "outputs": [
    {
     "data": {
      "text/html": [
       "<table class=\"simpletable\">\n",
       "<caption>OLS Regression Results</caption>\n",
       "<tr>\n",
       "  <th>Dep. Variable:</th>         <td>REVENUE</td>     <th>  R-squared:         </th> <td>   0.027</td> \n",
       "</tr>\n",
       "<tr>\n",
       "  <th>Model:</th>                   <td>OLS</td>       <th>  Adj. R-squared:    </th> <td>  -0.008</td> \n",
       "</tr>\n",
       "<tr>\n",
       "  <th>Method:</th>             <td>Least Squares</td>  <th>  F-statistic:       </th> <td>  0.7770</td> \n",
       "</tr>\n",
       "<tr>\n",
       "  <th>Date:</th>             <td>Mon, 31 May 2021</td> <th>  Prob (F-statistic):</th>  <td> 0.906</td>  \n",
       "</tr>\n",
       "<tr>\n",
       "  <th>Time:</th>                 <td>15:42:26</td>     <th>  Log-Likelihood:    </th> <td> -6631.5</td> \n",
       "</tr>\n",
       "<tr>\n",
       "  <th>No. Observations:</th>      <td>  1934</td>      <th>  AIC:               </th> <td>1.340e+04</td>\n",
       "</tr>\n",
       "<tr>\n",
       "  <th>Df Residuals:</th>          <td>  1867</td>      <th>  BIC:               </th> <td>1.377e+04</td>\n",
       "</tr>\n",
       "<tr>\n",
       "  <th>Df Model:</th>              <td>    66</td>      <th>                     </th>     <td> </td>    \n",
       "</tr>\n",
       "<tr>\n",
       "  <th>Covariance Type:</th>      <td>nonrobust</td>    <th>                     </th>     <td> </td>    \n",
       "</tr>\n",
       "</table>\n",
       "<table class=\"simpletable\">\n",
       "<tr>\n",
       "                           <td></td>                             <th>coef</th>     <th>std err</th>      <th>t</th>      <th>P>|t|</th>  <th>[0.025</th>    <th>0.975]</th>  \n",
       "</tr>\n",
       "<tr>\n",
       "  <th>Intercept</th>                                          <td>    0.5309</td> <td>    1.046</td> <td>    0.508</td> <td> 0.612</td> <td>   -1.520</td> <td>    2.582</td>\n",
       "</tr>\n",
       "<tr>\n",
       "  <th>C(Mkt)[T.ASEAN]</th>                                    <td>    0.1822</td> <td>    3.535</td> <td>    0.052</td> <td> 0.959</td> <td>   -6.752</td> <td>    7.116</td>\n",
       "</tr>\n",
       "<tr>\n",
       "  <th>C(Mkt)[T.BEN]</th>                                      <td>   -1.2128</td> <td>    1.849</td> <td>   -0.656</td> <td> 0.512</td> <td>   -4.839</td> <td>    2.414</td>\n",
       "</tr>\n",
       "<tr>\n",
       "  <th>C(Mkt)[T.CAN]</th>                                      <td>   -1.1537</td> <td>    2.363</td> <td>   -0.488</td> <td> 0.625</td> <td>   -5.788</td> <td>    3.481</td>\n",
       "</tr>\n",
       "<tr>\n",
       "  <th>C(Mkt)[T.CEE]</th>                                      <td>    0.6793</td> <td>    1.620</td> <td>    0.419</td> <td> 0.675</td> <td>   -2.498</td> <td>    3.856</td>\n",
       "</tr>\n",
       "<tr>\n",
       "  <th>C(Mkt)[T.COM]</th>                                      <td>    0.4981</td> <td>    1.695</td> <td>    0.294</td> <td> 0.769</td> <td>   -2.826</td> <td>    3.822</td>\n",
       "</tr>\n",
       "<tr>\n",
       "  <th>C(Mkt)[T.DACH]</th>                                     <td>   -0.9261</td> <td>    1.116</td> <td>   -0.830</td> <td> 0.407</td> <td>   -3.116</td> <td>    1.263</td>\n",
       "</tr>\n",
       "<tr>\n",
       "  <th>C(Mkt)[T.DIS]</th>                                      <td>    0.0142</td> <td>    2.170</td> <td>    0.007</td> <td> 0.995</td> <td>   -4.241</td> <td>    4.270</td>\n",
       "</tr>\n",
       "<tr>\n",
       "  <th>C(Mkt)[T.FRA]</th>                                      <td>   -1.6845</td> <td>    1.626</td> <td>   -1.036</td> <td> 0.300</td> <td>   -4.873</td> <td>    1.504</td>\n",
       "</tr>\n",
       "<tr>\n",
       "  <th>C(Mkt)[T.FSS]</th>                                      <td>    1.9409</td> <td>    1.435</td> <td>    1.352</td> <td> 0.176</td> <td>   -0.874</td> <td>    4.756</td>\n",
       "</tr>\n",
       "<tr>\n",
       "  <th>C(Mkt)[T.GCG]</th>                                      <td>   -1.1887</td> <td>    3.719</td> <td>   -0.320</td> <td> 0.749</td> <td>   -8.482</td> <td>    6.104</td>\n",
       "</tr>\n",
       "<tr>\n",
       "  <th>C(Mkt)[T.IND]</th>                                      <td>   -0.3872</td> <td>    2.103</td> <td>   -0.184</td> <td> 0.854</td> <td>   -4.511</td> <td>    3.737</td>\n",
       "</tr>\n",
       "<tr>\n",
       "  <th>C(Mkt)[T.ISA]</th>                                      <td>    0.1451</td> <td>    8.757</td> <td>    0.017</td> <td> 0.987</td> <td>  -17.029</td> <td>   17.319</td>\n",
       "</tr>\n",
       "<tr>\n",
       "  <th>C(Mkt)[T.ITA]</th>                                      <td>   -0.2218</td> <td>    1.340</td> <td>   -0.166</td> <td> 0.869</td> <td>   -2.849</td> <td>    2.406</td>\n",
       "</tr>\n",
       "<tr>\n",
       "  <th>C(Mkt)[T.JAPAN]</th>                                    <td>    0.5148</td> <td>    0.521</td> <td>    0.989</td> <td> 0.323</td> <td>   -0.506</td> <td>    1.536</td>\n",
       "</tr>\n",
       "<tr>\n",
       "  <th>C(Mkt)[T.KOR]</th>                                      <td>   -0.3793</td> <td>    4.528</td> <td>   -0.084</td> <td> 0.933</td> <td>   -9.259</td> <td>    8.501</td>\n",
       "</tr>\n",
       "<tr>\n",
       "  <th>C(Mkt)[T.LA]</th>                                       <td>   -0.0333</td> <td>    1.236</td> <td>   -0.027</td> <td> 0.978</td> <td>   -2.458</td> <td>    2.391</td>\n",
       "</tr>\n",
       "<tr>\n",
       "  <th>C(Mkt)[T.MEA]</th>                                      <td>    0.0143</td> <td>    1.861</td> <td>    0.008</td> <td> 0.994</td> <td>   -3.635</td> <td>    3.664</td>\n",
       "</tr>\n",
       "<tr>\n",
       "  <th>C(Mkt)[T.NORD]</th>                                     <td>    0.3518</td> <td>    1.791</td> <td>    0.196</td> <td> 0.844</td> <td>   -3.161</td> <td>    3.865</td>\n",
       "</tr>\n",
       "<tr>\n",
       "  <th>C(Mkt)[T.PUB]</th>                                      <td>   -0.8879</td> <td>    1.337</td> <td>   -0.664</td> <td> 0.507</td> <td>   -3.511</td> <td>    1.735</td>\n",
       "</tr>\n",
       "<tr>\n",
       "  <th>C(Mkt)[T.SPGI]</th>                                     <td>    0.9569</td> <td>    2.504</td> <td>    0.382</td> <td> 0.702</td> <td>   -3.953</td> <td>    5.867</td>\n",
       "</tr>\n",
       "<tr>\n",
       "  <th>C(Mkt)[T.UKI]</th>                                      <td>    1.5490</td> <td>    1.504</td> <td>    1.030</td> <td> 0.303</td> <td>   -1.400</td> <td>    4.498</td>\n",
       "</tr>\n",
       "<tr>\n",
       "  <th>C(Mkt)[T.US]</th>                                       <td>    0.3232</td> <td>    1.365</td> <td>    0.237</td> <td> 0.813</td> <td>   -2.353</td> <td>    3.000</td>\n",
       "</tr>\n",
       "<tr>\n",
       "  <th>C(Geo)[T.APAC]</th>                                     <td>    0.1957</td> <td>    2.373</td> <td>    0.082</td> <td> 0.934</td> <td>   -4.458</td> <td>    4.849</td>\n",
       "</tr>\n",
       "<tr>\n",
       "  <th>C(Geo)[T.EMEA]</th>                                     <td>   -0.4939</td> <td>    0.708</td> <td>   -0.698</td> <td> 0.485</td> <td>   -1.882</td> <td>    0.894</td>\n",
       "</tr>\n",
       "<tr>\n",
       "  <th>C(Geo)[T.JN]</th>                                       <td>    0.5148</td> <td>    0.521</td> <td>    0.989</td> <td> 0.323</td> <td>   -0.506</td> <td>    1.536</td>\n",
       "</tr>\n",
       "<tr>\n",
       "  <th>C(Segment)[T.Segment 2]</th>                            <td>   -0.5214</td> <td>    0.524</td> <td>   -0.995</td> <td> 0.320</td> <td>   -1.549</td> <td>    0.506</td>\n",
       "</tr>\n",
       "<tr>\n",
       "  <th>C(Segment)[T.Shared]</th>                               <td>    1.4487</td> <td>    0.960</td> <td>    1.510</td> <td> 0.131</td> <td>   -0.433</td> <td>    3.331</td>\n",
       "</tr>\n",
       "<tr>\n",
       "  <th>C(Segment)[T.Undeclared]</th>                           <td>    1.2373</td> <td>    1.553</td> <td>    0.797</td> <td> 0.426</td> <td>   -1.808</td> <td>    4.283</td>\n",
       "</tr>\n",
       "<tr>\n",
       "  <th>C(Sub_Brand)[T.Cloud Platform]</th>                     <td>    0.3677</td> <td>    1.179</td> <td>    0.312</td> <td> 0.755</td> <td>   -1.945</td> <td>    2.681</td>\n",
       "</tr>\n",
       "<tr>\n",
       "  <th>C(Sub_Brand)[T.Cross Cloud]</th>                        <td>    0.2038</td> <td>    1.500</td> <td>    0.136</td> <td> 0.892</td> <td>   -2.737</td> <td>    3.145</td>\n",
       "</tr>\n",
       "<tr>\n",
       "  <th>C(Sub_Brand)[T.Data and AI]</th>                        <td>    0.1478</td> <td>    1.067</td> <td>    0.139</td> <td> 0.890</td> <td>   -1.945</td> <td>    2.241</td>\n",
       "</tr>\n",
       "<tr>\n",
       "  <th>C(Sub_Brand)[T.Digital Sales Services]</th>             <td>    1.7104</td> <td>    1.263</td> <td>    1.355</td> <td> 0.176</td> <td>   -0.766</td> <td>    4.187</td>\n",
       "</tr>\n",
       "<tr>\n",
       "  <th>C(Sub_Brand)[T.Global Markets Commercial]</th>          <td>    0.7316</td> <td>    3.209</td> <td>    0.228</td> <td> 0.820</td> <td>   -5.561</td> <td>    7.024</td>\n",
       "</tr>\n",
       "<tr>\n",
       "  <th>C(Sub_Brand)[T.Global Markets Enterprise]</th>          <td>    0.6934</td> <td>    1.652</td> <td>    0.420</td> <td> 0.675</td> <td>   -2.547</td> <td>    3.934</td>\n",
       "</tr>\n",
       "<tr>\n",
       "  <th>C(Sub_Brand)[T.Global Markets Industry]</th>            <td>    0.9172</td> <td>    1.167</td> <td>    0.786</td> <td> 0.432</td> <td>   -1.371</td> <td>    3.206</td>\n",
       "</tr>\n",
       "<tr>\n",
       "  <th>C(Sub_Brand)[T.Global Markets Integrated Accounts]</th> <td>   -0.0295</td> <td>    1.632</td> <td>   -0.018</td> <td> 0.986</td> <td>   -3.230</td> <td>    3.171</td>\n",
       "</tr>\n",
       "<tr>\n",
       "  <th>C(Sub_Brand)[T.Integration]</th>                        <td>    1.2275</td> <td>    1.077</td> <td>    1.140</td> <td> 0.254</td> <td>   -0.884</td> <td>    3.339</td>\n",
       "</tr>\n",
       "<tr>\n",
       "  <th>C(Sub_Brand)[T.Partner Ecosystem]</th>                  <td>    0.3532</td> <td>    1.179</td> <td>    0.299</td> <td> 0.765</td> <td>   -1.960</td> <td>    2.666</td>\n",
       "</tr>\n",
       "<tr>\n",
       "  <th>C(Sub_Brand)[T.SW Crossbrand (non z)]</th>              <td>    0.6422</td> <td>    1.178</td> <td>    0.545</td> <td> 0.586</td> <td>   -1.668</td> <td>    2.953</td>\n",
       "</tr>\n",
       "<tr>\n",
       "  <th>C(Sub_Brand)[T.SW Crossbrand z]</th>                    <td>    0.1533</td> <td>    1.422</td> <td>    0.108</td> <td> 0.914</td> <td>   -2.636</td> <td>    2.943</td>\n",
       "</tr>\n",
       "<tr>\n",
       "  <th>C(Sub_Brand)[T.Security Services]</th>                  <td>    3.2806</td> <td>    1.294</td> <td>    2.536</td> <td> 0.011</td> <td>    0.744</td> <td>    5.817</td>\n",
       "</tr>\n",
       "<tr>\n",
       "  <th>C(Sub_Brand)[T.Security Software]</th>                  <td>    0.3522</td> <td>    1.071</td> <td>    0.329</td> <td> 0.742</td> <td>   -1.749</td> <td>    2.454</td>\n",
       "</tr>\n",
       "<tr>\n",
       "  <th>C(Sub_Brand)[T.Systems HW Cross Brand]</th>             <td>    0.9979</td> <td>    1.512</td> <td>    0.660</td> <td> 0.509</td> <td>   -1.967</td> <td>    3.963</td>\n",
       "</tr>\n",
       "<tr>\n",
       "  <th>C(Sub_Brand)[T.Systems HW Server]</th>                  <td>    1.7339</td> <td>    1.056</td> <td>    1.641</td> <td> 0.101</td> <td>   -0.338</td> <td>    3.806</td>\n",
       "</tr>\n",
       "<tr>\n",
       "  <th>C(Sub_Brand)[T.Systems HW Storage]</th>                 <td>    0.4623</td> <td>    1.017</td> <td>    0.454</td> <td> 0.650</td> <td>   -1.533</td> <td>    2.458</td>\n",
       "</tr>\n",
       "<tr>\n",
       "  <th>C(Sub_Brand)[T.Systems SW 7DZ]</th>                     <td>   -0.7282</td> <td>    2.483</td> <td>   -0.293</td> <td> 0.769</td> <td>   -5.599</td> <td>    4.142</td>\n",
       "</tr>\n",
       "<tr>\n",
       "  <th>DURATION</th>                                           <td> 5.922e-06</td> <td> 2.09e-05</td> <td>    0.284</td> <td> 0.777</td> <td> -3.5e-05</td> <td> 4.68e-05</td>\n",
       "</tr>\n",
       "<tr>\n",
       "  <th>C(Geo)[T.APAC]:DURATION</th>                            <td>-1.857e-05</td> <td> 7.94e-05</td> <td>   -0.234</td> <td> 0.815</td> <td>   -0.000</td> <td>    0.000</td>\n",
       "</tr>\n",
       "<tr>\n",
       "  <th>C(Geo)[T.EMEA]:DURATION</th>                            <td>-2.164e-06</td> <td>  2.6e-05</td> <td>   -0.083</td> <td> 0.934</td> <td>-5.32e-05</td> <td> 4.88e-05</td>\n",
       "</tr>\n",
       "<tr>\n",
       "  <th>C(Geo)[T.JN]:DURATION</th>                              <td>-9.307e-06</td> <td> 2.55e-05</td> <td>   -0.365</td> <td> 0.715</td> <td>-5.94e-05</td> <td> 4.08e-05</td>\n",
       "</tr>\n",
       "<tr>\n",
       "  <th>C(Mkt)[T.ASEAN]:DURATION</th>                           <td>-1.395e-05</td> <td>    0.000</td> <td>   -0.128</td> <td> 0.898</td> <td>   -0.000</td> <td>    0.000</td>\n",
       "</tr>\n",
       "<tr>\n",
       "  <th>C(Mkt)[T.BEN]:DURATION</th>                             <td>-2.521e-05</td> <td> 6.16e-05</td> <td>   -0.409</td> <td> 0.682</td> <td>   -0.000</td> <td> 9.56e-05</td>\n",
       "</tr>\n",
       "<tr>\n",
       "  <th>C(Mkt)[T.CAN]:DURATION</th>                             <td> 5.803e-05</td> <td>    0.000</td> <td>    0.423</td> <td> 0.672</td> <td>   -0.000</td> <td>    0.000</td>\n",
       "</tr>\n",
       "<tr>\n",
       "  <th>C(Mkt)[T.CEE]:DURATION</th>                             <td>-1.986e-05</td> <td> 5.16e-05</td> <td>   -0.385</td> <td> 0.700</td> <td>   -0.000</td> <td> 8.14e-05</td>\n",
       "</tr>\n",
       "<tr>\n",
       "  <th>C(Mkt)[T.COM]:DURATION</th>                             <td>-3.186e-05</td> <td> 5.69e-05</td> <td>   -0.560</td> <td> 0.575</td> <td>   -0.000</td> <td> 7.97e-05</td>\n",
       "</tr>\n",
       "<tr>\n",
       "  <th>C(Mkt)[T.DACH]:DURATION</th>                            <td> 8.639e-05</td> <td> 4.29e-05</td> <td>    2.014</td> <td> 0.044</td> <td> 2.25e-06</td> <td>    0.000</td>\n",
       "</tr>\n",
       "<tr>\n",
       "  <th>C(Mkt)[T.DIS]:DURATION</th>                             <td>-7.716e-06</td> <td> 7.07e-05</td> <td>   -0.109</td> <td> 0.913</td> <td>   -0.000</td> <td>    0.000</td>\n",
       "</tr>\n",
       "<tr>\n",
       "  <th>C(Mkt)[T.FRA]:DURATION</th>                             <td> 2.437e-06</td> <td> 6.14e-05</td> <td>    0.040</td> <td> 0.968</td> <td>   -0.000</td> <td>    0.000</td>\n",
       "</tr>\n",
       "<tr>\n",
       "  <th>C(Mkt)[T.FSS]:DURATION</th>                             <td> -1.99e-05</td> <td> 4.53e-05</td> <td>   -0.439</td> <td> 0.661</td> <td>   -0.000</td> <td> 6.89e-05</td>\n",
       "</tr>\n",
       "<tr>\n",
       "  <th>C(Mkt)[T.GCG]:DURATION</th>                             <td> 4.166e-05</td> <td>    0.000</td> <td>    0.270</td> <td> 0.787</td> <td>   -0.000</td> <td>    0.000</td>\n",
       "</tr>\n",
       "<tr>\n",
       "  <th>C(Mkt)[T.IND]:DURATION</th>                             <td>-6.964e-07</td> <td> 7.08e-05</td> <td>   -0.010</td> <td> 0.992</td> <td>   -0.000</td> <td>    0.000</td>\n",
       "</tr>\n",
       "<tr>\n",
       "  <th>C(Mkt)[T.ISA]:DURATION</th>                             <td>-3.323e-05</td> <td>    0.000</td> <td>   -0.102</td> <td> 0.919</td> <td>   -0.001</td> <td>    0.001</td>\n",
       "</tr>\n",
       "<tr>\n",
       "  <th>C(Mkt)[T.ITA]:DURATION</th>                             <td> 6.292e-06</td> <td> 4.13e-05</td> <td>    0.152</td> <td> 0.879</td> <td>-7.47e-05</td> <td> 8.72e-05</td>\n",
       "</tr>\n",
       "<tr>\n",
       "  <th>C(Mkt)[T.JAPAN]:DURATION</th>                           <td>-9.307e-06</td> <td> 2.55e-05</td> <td>   -0.365</td> <td> 0.715</td> <td>-5.94e-05</td> <td> 4.08e-05</td>\n",
       "</tr>\n",
       "<tr>\n",
       "  <th>C(Mkt)[T.KOR]:DURATION</th>                             <td>  4.41e-07</td> <td>    0.000</td> <td>    0.003</td> <td> 0.997</td> <td>   -0.000</td> <td>    0.000</td>\n",
       "</tr>\n",
       "<tr>\n",
       "  <th>C(Mkt)[T.LA]:DURATION</th>                              <td> 5.497e-05</td> <td> 5.16e-05</td> <td>    1.066</td> <td> 0.286</td> <td>-4.61e-05</td> <td>    0.000</td>\n",
       "</tr>\n",
       "<tr>\n",
       "  <th>C(Mkt)[T.MEA]:DURATION</th>                             <td>-2.794e-06</td> <td> 6.09e-05</td> <td>   -0.046</td> <td> 0.963</td> <td>   -0.000</td> <td>    0.000</td>\n",
       "</tr>\n",
       "<tr>\n",
       "  <th>C(Mkt)[T.NORD]:DURATION</th>                            <td>-6.259e-06</td> <td>  7.7e-05</td> <td>   -0.081</td> <td> 0.935</td> <td>   -0.000</td> <td>    0.000</td>\n",
       "</tr>\n",
       "<tr>\n",
       "  <th>C(Mkt)[T.PUB]:DURATION</th>                             <td> 1.233e-05</td> <td> 4.18e-05</td> <td>    0.295</td> <td> 0.768</td> <td>-6.96e-05</td> <td> 9.43e-05</td>\n",
       "</tr>\n",
       "<tr>\n",
       "  <th>C(Mkt)[T.SPGI]:DURATION</th>                            <td>-2.121e-05</td> <td> 9.58e-05</td> <td>   -0.221</td> <td> 0.825</td> <td>   -0.000</td> <td>    0.000</td>\n",
       "</tr>\n",
       "<tr>\n",
       "  <th>C(Mkt)[T.UKI]:DURATION</th>                             <td>-2.195e-05</td> <td> 5.29e-05</td> <td>   -0.415</td> <td> 0.679</td> <td>   -0.000</td> <td> 8.19e-05</td>\n",
       "</tr>\n",
       "<tr>\n",
       "  <th>C(Mkt)[T.US]:DURATION</th>                              <td> -2.92e-05</td> <td> 5.41e-05</td> <td>   -0.540</td> <td> 0.589</td> <td>   -0.000</td> <td> 7.69e-05</td>\n",
       "</tr>\n",
       "</table>\n",
       "<table class=\"simpletable\">\n",
       "<tr>\n",
       "  <th>Omnibus:</th>       <td>4367.624</td> <th>  Durbin-Watson:     </th>   <td>   2.007</td>  \n",
       "</tr>\n",
       "<tr>\n",
       "  <th>Prob(Omnibus):</th>  <td> 0.000</td>  <th>  Jarque-Bera (JB):  </th> <td>18928023.571</td>\n",
       "</tr>\n",
       "<tr>\n",
       "  <th>Skew:</th>           <td>20.800</td>  <th>  Prob(JB):          </th>   <td>    0.00</td>  \n",
       "</tr>\n",
       "<tr>\n",
       "  <th>Kurtosis:</th>       <td>485.863</td> <th>  Cond. No.          </th>   <td>1.50e+16</td>  \n",
       "</tr>\n",
       "</table><br/><br/>Notes:<br/>[1] Standard Errors assume that the covariance matrix of the errors is correctly specified.<br/>[2] The smallest eigenvalue is 8.57e-21. This might indicate that there are<br/>strong multicollinearity problems or that the design matrix is singular."
      ],
      "text/plain": [
       "<class 'statsmodels.iolib.summary.Summary'>\n",
       "\"\"\"\n",
       "                            OLS Regression Results                            \n",
       "==============================================================================\n",
       "Dep. Variable:                REVENUE   R-squared:                       0.027\n",
       "Model:                            OLS   Adj. R-squared:                 -0.008\n",
       "Method:                 Least Squares   F-statistic:                    0.7770\n",
       "Date:                Mon, 31 May 2021   Prob (F-statistic):              0.906\n",
       "Time:                        15:42:26   Log-Likelihood:                -6631.5\n",
       "No. Observations:                1934   AIC:                         1.340e+04\n",
       "Df Residuals:                    1867   BIC:                         1.377e+04\n",
       "Df Model:                          66                                         \n",
       "Covariance Type:            nonrobust                                         \n",
       "======================================================================================================================\n",
       "                                                         coef    std err          t      P>|t|      [0.025      0.975]\n",
       "----------------------------------------------------------------------------------------------------------------------\n",
       "Intercept                                              0.5309      1.046      0.508      0.612      -1.520       2.582\n",
       "C(Mkt)[T.ASEAN]                                        0.1822      3.535      0.052      0.959      -6.752       7.116\n",
       "C(Mkt)[T.BEN]                                         -1.2128      1.849     -0.656      0.512      -4.839       2.414\n",
       "C(Mkt)[T.CAN]                                         -1.1537      2.363     -0.488      0.625      -5.788       3.481\n",
       "C(Mkt)[T.CEE]                                          0.6793      1.620      0.419      0.675      -2.498       3.856\n",
       "C(Mkt)[T.COM]                                          0.4981      1.695      0.294      0.769      -2.826       3.822\n",
       "C(Mkt)[T.DACH]                                        -0.9261      1.116     -0.830      0.407      -3.116       1.263\n",
       "C(Mkt)[T.DIS]                                          0.0142      2.170      0.007      0.995      -4.241       4.270\n",
       "C(Mkt)[T.FRA]                                         -1.6845      1.626     -1.036      0.300      -4.873       1.504\n",
       "C(Mkt)[T.FSS]                                          1.9409      1.435      1.352      0.176      -0.874       4.756\n",
       "C(Mkt)[T.GCG]                                         -1.1887      3.719     -0.320      0.749      -8.482       6.104\n",
       "C(Mkt)[T.IND]                                         -0.3872      2.103     -0.184      0.854      -4.511       3.737\n",
       "C(Mkt)[T.ISA]                                          0.1451      8.757      0.017      0.987     -17.029      17.319\n",
       "C(Mkt)[T.ITA]                                         -0.2218      1.340     -0.166      0.869      -2.849       2.406\n",
       "C(Mkt)[T.JAPAN]                                        0.5148      0.521      0.989      0.323      -0.506       1.536\n",
       "C(Mkt)[T.KOR]                                         -0.3793      4.528     -0.084      0.933      -9.259       8.501\n",
       "C(Mkt)[T.LA]                                          -0.0333      1.236     -0.027      0.978      -2.458       2.391\n",
       "C(Mkt)[T.MEA]                                          0.0143      1.861      0.008      0.994      -3.635       3.664\n",
       "C(Mkt)[T.NORD]                                         0.3518      1.791      0.196      0.844      -3.161       3.865\n",
       "C(Mkt)[T.PUB]                                         -0.8879      1.337     -0.664      0.507      -3.511       1.735\n",
       "C(Mkt)[T.SPGI]                                         0.9569      2.504      0.382      0.702      -3.953       5.867\n",
       "C(Mkt)[T.UKI]                                          1.5490      1.504      1.030      0.303      -1.400       4.498\n",
       "C(Mkt)[T.US]                                           0.3232      1.365      0.237      0.813      -2.353       3.000\n",
       "C(Geo)[T.APAC]                                         0.1957      2.373      0.082      0.934      -4.458       4.849\n",
       "C(Geo)[T.EMEA]                                        -0.4939      0.708     -0.698      0.485      -1.882       0.894\n",
       "C(Geo)[T.JN]                                           0.5148      0.521      0.989      0.323      -0.506       1.536\n",
       "C(Segment)[T.Segment 2]                               -0.5214      0.524     -0.995      0.320      -1.549       0.506\n",
       "C(Segment)[T.Shared]                                   1.4487      0.960      1.510      0.131      -0.433       3.331\n",
       "C(Segment)[T.Undeclared]                               1.2373      1.553      0.797      0.426      -1.808       4.283\n",
       "C(Sub_Brand)[T.Cloud Platform]                         0.3677      1.179      0.312      0.755      -1.945       2.681\n",
       "C(Sub_Brand)[T.Cross Cloud]                            0.2038      1.500      0.136      0.892      -2.737       3.145\n",
       "C(Sub_Brand)[T.Data and AI]                            0.1478      1.067      0.139      0.890      -1.945       2.241\n",
       "C(Sub_Brand)[T.Digital Sales Services]                 1.7104      1.263      1.355      0.176      -0.766       4.187\n",
       "C(Sub_Brand)[T.Global Markets Commercial]              0.7316      3.209      0.228      0.820      -5.561       7.024\n",
       "C(Sub_Brand)[T.Global Markets Enterprise]              0.6934      1.652      0.420      0.675      -2.547       3.934\n",
       "C(Sub_Brand)[T.Global Markets Industry]                0.9172      1.167      0.786      0.432      -1.371       3.206\n",
       "C(Sub_Brand)[T.Global Markets Integrated Accounts]    -0.0295      1.632     -0.018      0.986      -3.230       3.171\n",
       "C(Sub_Brand)[T.Integration]                            1.2275      1.077      1.140      0.254      -0.884       3.339\n",
       "C(Sub_Brand)[T.Partner Ecosystem]                      0.3532      1.179      0.299      0.765      -1.960       2.666\n",
       "C(Sub_Brand)[T.SW Crossbrand (non z)]                  0.6422      1.178      0.545      0.586      -1.668       2.953\n",
       "C(Sub_Brand)[T.SW Crossbrand z]                        0.1533      1.422      0.108      0.914      -2.636       2.943\n",
       "C(Sub_Brand)[T.Security Services]                      3.2806      1.294      2.536      0.011       0.744       5.817\n",
       "C(Sub_Brand)[T.Security Software]                      0.3522      1.071      0.329      0.742      -1.749       2.454\n",
       "C(Sub_Brand)[T.Systems HW Cross Brand]                 0.9979      1.512      0.660      0.509      -1.967       3.963\n",
       "C(Sub_Brand)[T.Systems HW Server]                      1.7339      1.056      1.641      0.101      -0.338       3.806\n",
       "C(Sub_Brand)[T.Systems HW Storage]                     0.4623      1.017      0.454      0.650      -1.533       2.458\n",
       "C(Sub_Brand)[T.Systems SW 7DZ]                        -0.7282      2.483     -0.293      0.769      -5.599       4.142\n",
       "DURATION                                            5.922e-06   2.09e-05      0.284      0.777    -3.5e-05    4.68e-05\n",
       "C(Geo)[T.APAC]:DURATION                            -1.857e-05   7.94e-05     -0.234      0.815      -0.000       0.000\n",
       "C(Geo)[T.EMEA]:DURATION                            -2.164e-06    2.6e-05     -0.083      0.934   -5.32e-05    4.88e-05\n",
       "C(Geo)[T.JN]:DURATION                              -9.307e-06   2.55e-05     -0.365      0.715   -5.94e-05    4.08e-05\n",
       "C(Mkt)[T.ASEAN]:DURATION                           -1.395e-05      0.000     -0.128      0.898      -0.000       0.000\n",
       "C(Mkt)[T.BEN]:DURATION                             -2.521e-05   6.16e-05     -0.409      0.682      -0.000    9.56e-05\n",
       "C(Mkt)[T.CAN]:DURATION                              5.803e-05      0.000      0.423      0.672      -0.000       0.000\n",
       "C(Mkt)[T.CEE]:DURATION                             -1.986e-05   5.16e-05     -0.385      0.700      -0.000    8.14e-05\n",
       "C(Mkt)[T.COM]:DURATION                             -3.186e-05   5.69e-05     -0.560      0.575      -0.000    7.97e-05\n",
       "C(Mkt)[T.DACH]:DURATION                             8.639e-05   4.29e-05      2.014      0.044    2.25e-06       0.000\n",
       "C(Mkt)[T.DIS]:DURATION                             -7.716e-06   7.07e-05     -0.109      0.913      -0.000       0.000\n",
       "C(Mkt)[T.FRA]:DURATION                              2.437e-06   6.14e-05      0.040      0.968      -0.000       0.000\n",
       "C(Mkt)[T.FSS]:DURATION                              -1.99e-05   4.53e-05     -0.439      0.661      -0.000    6.89e-05\n",
       "C(Mkt)[T.GCG]:DURATION                              4.166e-05      0.000      0.270      0.787      -0.000       0.000\n",
       "C(Mkt)[T.IND]:DURATION                             -6.964e-07   7.08e-05     -0.010      0.992      -0.000       0.000\n",
       "C(Mkt)[T.ISA]:DURATION                             -3.323e-05      0.000     -0.102      0.919      -0.001       0.001\n",
       "C(Mkt)[T.ITA]:DURATION                              6.292e-06   4.13e-05      0.152      0.879   -7.47e-05    8.72e-05\n",
       "C(Mkt)[T.JAPAN]:DURATION                           -9.307e-06   2.55e-05     -0.365      0.715   -5.94e-05    4.08e-05\n",
       "C(Mkt)[T.KOR]:DURATION                               4.41e-07      0.000      0.003      0.997      -0.000       0.000\n",
       "C(Mkt)[T.LA]:DURATION                               5.497e-05   5.16e-05      1.066      0.286   -4.61e-05       0.000\n",
       "C(Mkt)[T.MEA]:DURATION                             -2.794e-06   6.09e-05     -0.046      0.963      -0.000       0.000\n",
       "C(Mkt)[T.NORD]:DURATION                            -6.259e-06    7.7e-05     -0.081      0.935      -0.000       0.000\n",
       "C(Mkt)[T.PUB]:DURATION                              1.233e-05   4.18e-05      0.295      0.768   -6.96e-05    9.43e-05\n",
       "C(Mkt)[T.SPGI]:DURATION                            -2.121e-05   9.58e-05     -0.221      0.825      -0.000       0.000\n",
       "C(Mkt)[T.UKI]:DURATION                             -2.195e-05   5.29e-05     -0.415      0.679      -0.000    8.19e-05\n",
       "C(Mkt)[T.US]:DURATION                               -2.92e-05   5.41e-05     -0.540      0.589      -0.000    7.69e-05\n",
       "==============================================================================\n",
       "Omnibus:                     4367.624   Durbin-Watson:                   2.007\n",
       "Prob(Omnibus):                  0.000   Jarque-Bera (JB):         18928023.571\n",
       "Skew:                          20.800   Prob(JB):                         0.00\n",
       "Kurtosis:                     485.863   Cond. No.                     1.50e+16\n",
       "==============================================================================\n",
       "\n",
       "Notes:\n",
       "[1] Standard Errors assume that the covariance matrix of the errors is correctly specified.\n",
       "[2] The smallest eigenvalue is 8.57e-21. This might indicate that there are\n",
       "strong multicollinearity problems or that the design matrix is singular.\n",
       "\"\"\""
      ]
     },
     "execution_count": 149,
     "metadata": {},
     "output_type": "execute_result"
    }
   ],
   "source": [
    "model.summary()"
   ]
  },
  {
   "cell_type": "markdown",
   "metadata": {},
   "source": [
    "Hereby we observed Segment is having significant relationship with revenue "
   ]
  },
  {
   "cell_type": "markdown",
   "metadata": {},
   "source": [
    "## Estimate the model coefficients for the revenue data"
   ]
  },
  {
   "cell_type": "code",
   "execution_count": 182,
   "metadata": {},
   "outputs": [
    {
     "data": {
      "text/plain": [
       "Intercept    0.244856\n",
       "DURATION     0.000002\n",
       "dtype: float64"
      ]
     },
     "execution_count": 182,
     "metadata": {},
     "output_type": "execute_result"
    }
   ],
   "source": [
    "## STATSMODELS ###\n",
    "# create a fitted model\n",
    "lm1 = smf.ols(formula='REVENUE ~ DURATION', data=dt_rev).fit()\n",
    "# print the coefficients\n",
    "lm1.params"
   ]
  },
  {
   "cell_type": "code",
   "execution_count": 180,
   "metadata": {},
   "outputs": [
    {
     "name": "stdout",
     "output_type": "stream",
     "text": [
      "0.2448559634725768\n",
      "[1.63286887e-06]\n"
     ]
    }
   ],
   "source": [
    "### SCIKIT-LEARN ###\n",
    "# create X and y\n",
    "feature_cols = ['DURATION']\n",
    "X = dt_rev[feature_cols]\n",
    "y = dt_rev.REVENUE\n",
    "# instantiate and fit\n",
    "lm2 = LinearRegression()\n",
    "lm2.fit(X, y)\n",
    "# print the coefficients\n",
    "print(lm2.intercept_)\n",
    "print(lm2.coef_)"
   ]
  },
  {
   "cell_type": "markdown",
   "metadata": {},
   "source": [
    "## Liner  coefficients"
   ]
  },
  {
   "cell_type": "markdown",
   "metadata": {},
   "source": [
    "#### Interpreting Model Coefficients"
   ]
  },
  {
   "cell_type": "markdown",
   "metadata": {},
   "source": [
    "Interpreting the duration  coefficient (β1)\n",
    "A \"unit\" increase in duration spending is associated with a 1.63297415e is \"unit\" increase in Sales\n",
    "whihc is very small."
   ]
  },
  {
   "cell_type": "code",
   "execution_count": 152,
   "metadata": {},
   "outputs": [
    {
     "data": {
      "text/html": [
       "<div>\n",
       "<style scoped>\n",
       "    .dataframe tbody tr th:only-of-type {\n",
       "        vertical-align: middle;\n",
       "    }\n",
       "\n",
       "    .dataframe tbody tr th {\n",
       "        vertical-align: top;\n",
       "    }\n",
       "\n",
       "    .dataframe thead th {\n",
       "        text-align: right;\n",
       "    }\n",
       "</style>\n",
       "<table border=\"1\" class=\"dataframe\">\n",
       "  <thead>\n",
       "    <tr style=\"text-align: right;\">\n",
       "      <th></th>\n",
       "      <th>0</th>\n",
       "      <th>1</th>\n",
       "    </tr>\n",
       "  </thead>\n",
       "  <tbody>\n",
       "    <tr>\n",
       "      <th>Intercept</th>\n",
       "      <td>0.142072</td>\n",
       "      <td>0.347640</td>\n",
       "    </tr>\n",
       "    <tr>\n",
       "      <th>DURATION</th>\n",
       "      <td>-0.000002</td>\n",
       "      <td>0.000005</td>\n",
       "    </tr>\n",
       "  </tbody>\n",
       "</table>\n",
       "</div>"
      ],
      "text/plain": [
       "                  0         1\n",
       "Intercept  0.142072  0.347640\n",
       "DURATION  -0.000002  0.000005"
      ]
     },
     "execution_count": 152,
     "metadata": {},
     "output_type": "execute_result"
    }
   ],
   "source": [
    "### STATSMODELS ###\n",
    "# print the confidence intervals for the model coefficients\n",
    "lm1.conf_int()"
   ]
  },
  {
   "cell_type": "markdown",
   "metadata": {},
   "source": [
    "The \"true\" coefficient is either within this interval or it isn't, but there's no way to actually know\n",
    "We estimate the coefficient with the data we do have, and we show uncertainty about that estimate by giving a range that the coefficient is probably within"
   ]
  },
  {
   "cell_type": "code",
   "execution_count": 153,
   "metadata": {},
   "outputs": [
    {
     "data": {
      "text/plain": [
       "Intercept    0.000003\n",
       "DURATION     0.329358\n",
       "dtype: float64"
      ]
     },
     "execution_count": 153,
     "metadata": {},
     "output_type": "execute_result"
    }
   ],
   "source": [
    "### STATSMODELS ###\n",
    "# print the p-values for the model coefficients\n",
    "lm1.pvalues"
   ]
  },
  {
   "cell_type": "code",
   "execution_count": 154,
   "metadata": {},
   "outputs": [
    {
     "data": {
      "text/html": [
       "<table class=\"simpletable\">\n",
       "<caption>OLS Regression Results</caption>\n",
       "<tr>\n",
       "  <th>Dep. Variable:</th>         <td>REVENUE</td>     <th>  R-squared:         </th> <td>   0.000</td> \n",
       "</tr>\n",
       "<tr>\n",
       "  <th>Model:</th>                   <td>OLS</td>       <th>  Adj. R-squared:    </th> <td>  -0.000</td> \n",
       "</tr>\n",
       "<tr>\n",
       "  <th>Method:</th>             <td>Least Squares</td>  <th>  F-statistic:       </th> <td>  0.9515</td> \n",
       "</tr>\n",
       "<tr>\n",
       "  <th>Date:</th>             <td>Mon, 31 May 2021</td> <th>  Prob (F-statistic):</th>  <td> 0.329</td>  \n",
       "</tr>\n",
       "<tr>\n",
       "  <th>Time:</th>                 <td>15:42:26</td>     <th>  Log-Likelihood:    </th> <td> -22576.</td> \n",
       "</tr>\n",
       "<tr>\n",
       "  <th>No. Observations:</th>      <td>  8287</td>      <th>  AIC:               </th> <td>4.516e+04</td>\n",
       "</tr>\n",
       "<tr>\n",
       "  <th>Df Residuals:</th>          <td>  8285</td>      <th>  BIC:               </th> <td>4.517e+04</td>\n",
       "</tr>\n",
       "<tr>\n",
       "  <th>Df Model:</th>              <td>     1</td>      <th>                     </th>     <td> </td>    \n",
       "</tr>\n",
       "<tr>\n",
       "  <th>Covariance Type:</th>      <td>nonrobust</td>    <th>                     </th>     <td> </td>    \n",
       "</tr>\n",
       "</table>\n",
       "<table class=\"simpletable\">\n",
       "<tr>\n",
       "      <td></td>         <th>coef</th>     <th>std err</th>      <th>t</th>      <th>P>|t|</th>  <th>[0.025</th>    <th>0.975]</th>  \n",
       "</tr>\n",
       "<tr>\n",
       "  <th>Intercept</th> <td>    0.2449</td> <td>    0.052</td> <td>    4.670</td> <td> 0.000</td> <td>    0.142</td> <td>    0.348</td>\n",
       "</tr>\n",
       "<tr>\n",
       "  <th>DURATION</th>  <td> 1.633e-06</td> <td> 1.67e-06</td> <td>    0.975</td> <td> 0.329</td> <td>-1.65e-06</td> <td> 4.91e-06</td>\n",
       "</tr>\n",
       "</table>\n",
       "<table class=\"simpletable\">\n",
       "<tr>\n",
       "  <th>Omnibus:</th>       <td>24786.651</td> <th>  Durbin-Watson:     </th>    <td>   1.993</td>   \n",
       "</tr>\n",
       "<tr>\n",
       "  <th>Prob(Omnibus):</th>  <td> 0.000</td>   <th>  Jarque-Bera (JB):  </th> <td>1515155270.182</td>\n",
       "</tr>\n",
       "<tr>\n",
       "  <th>Skew:</th>           <td>43.390</td>   <th>  Prob(JB):          </th>    <td>    0.00</td>   \n",
       "</tr>\n",
       "<tr>\n",
       "  <th>Kurtosis:</th>      <td>2095.968</td>  <th>  Cond. No.          </th>    <td>4.05e+04</td>   \n",
       "</tr>\n",
       "</table><br/><br/>Notes:<br/>[1] Standard Errors assume that the covariance matrix of the errors is correctly specified.<br/>[2] The condition number is large, 4.05e+04. This might indicate that there are<br/>strong multicollinearity or other numerical problems."
      ],
      "text/plain": [
       "<class 'statsmodels.iolib.summary.Summary'>\n",
       "\"\"\"\n",
       "                            OLS Regression Results                            \n",
       "==============================================================================\n",
       "Dep. Variable:                REVENUE   R-squared:                       0.000\n",
       "Model:                            OLS   Adj. R-squared:                 -0.000\n",
       "Method:                 Least Squares   F-statistic:                    0.9515\n",
       "Date:                Mon, 31 May 2021   Prob (F-statistic):              0.329\n",
       "Time:                        15:42:26   Log-Likelihood:                -22576.\n",
       "No. Observations:                8287   AIC:                         4.516e+04\n",
       "Df Residuals:                    8285   BIC:                         4.517e+04\n",
       "Df Model:                           1                                         \n",
       "Covariance Type:            nonrobust                                         \n",
       "==============================================================================\n",
       "                 coef    std err          t      P>|t|      [0.025      0.975]\n",
       "------------------------------------------------------------------------------\n",
       "Intercept      0.2449      0.052      4.670      0.000       0.142       0.348\n",
       "DURATION    1.633e-06   1.67e-06      0.975      0.329   -1.65e-06    4.91e-06\n",
       "==============================================================================\n",
       "Omnibus:                    24786.651   Durbin-Watson:                   1.993\n",
       "Prob(Omnibus):                  0.000   Jarque-Bera (JB):       1515155270.182\n",
       "Skew:                          43.390   Prob(JB):                         0.00\n",
       "Kurtosis:                    2095.968   Cond. No.                     4.05e+04\n",
       "==============================================================================\n",
       "\n",
       "Notes:\n",
       "[1] Standard Errors assume that the covariance matrix of the errors is correctly specified.\n",
       "[2] The condition number is large, 4.05e+04. This might indicate that there are\n",
       "strong multicollinearity or other numerical problems.\n",
       "\"\"\""
      ]
     },
     "execution_count": 154,
     "metadata": {},
     "output_type": "execute_result"
    }
   ],
   "source": [
    "### STATSMODELS ###\n",
    "# print a summary of the fitted model\n",
    "lm1.summary()"
   ]
  },
  {
   "cell_type": "markdown",
   "metadata": {},
   "source": [
    "## Adding dummie for win and lost "
   ]
  },
  {
   "cell_type": "code",
   "execution_count": 155,
   "metadata": {},
   "outputs": [],
   "source": [
    "dummies=pd.get_dummies(dt_rev[[\"Win_Lost\"]],columns=[\"Win_Lost\"],prefix=[\"Win_Lost\"],drop_first=True).head()\n",
    "columns=[\"Win_Lost\"]\n",
    "dt_rev = pd.concat([dt_rev,dummies],axis=1)"
   ]
  },
  {
   "cell_type": "code",
   "execution_count": 156,
   "metadata": {},
   "outputs": [
    {
     "data": {
      "text/html": [
       "<div>\n",
       "<style scoped>\n",
       "    .dataframe tbody tr th:only-of-type {\n",
       "        vertical-align: middle;\n",
       "    }\n",
       "\n",
       "    .dataframe tbody tr th {\n",
       "        vertical-align: top;\n",
       "    }\n",
       "\n",
       "    .dataframe thead th {\n",
       "        text-align: right;\n",
       "    }\n",
       "</style>\n",
       "<table border=\"1\" class=\"dataframe\">\n",
       "  <thead>\n",
       "    <tr style=\"text-align: right;\">\n",
       "      <th></th>\n",
       "      <th>SELLER</th>\n",
       "      <th>DURATION</th>\n",
       "      <th>REVENUE</th>\n",
       "      <th>Sub_Brand</th>\n",
       "      <th>Segment</th>\n",
       "      <th>COUNTRY_EMP</th>\n",
       "      <th>Geo</th>\n",
       "      <th>Mkt</th>\n",
       "      <th>EMPLOYEE_MGR_L1_NAME</th>\n",
       "      <th>REV_AMT</th>\n",
       "      <th>Win_Lost</th>\n",
       "      <th>Win_Lost_Win</th>\n",
       "    </tr>\n",
       "  </thead>\n",
       "  <tbody>\n",
       "    <tr>\n",
       "      <th>0</th>\n",
       "      <td>A RAM UM</td>\n",
       "      <td>46770</td>\n",
       "      <td>0.000</td>\n",
       "      <td>NaN</td>\n",
       "      <td>NaN</td>\n",
       "      <td>NaN</td>\n",
       "      <td>NaN</td>\n",
       "      <td>NaN</td>\n",
       "      <td>NaN</td>\n",
       "      <td>0.0</td>\n",
       "      <td>Lost</td>\n",
       "      <td>0.0</td>\n",
       "    </tr>\n",
       "    <tr>\n",
       "      <th>1</th>\n",
       "      <td>AADIL LAGHZAOUI</td>\n",
       "      <td>21510</td>\n",
       "      <td>0.634</td>\n",
       "      <td>Systems HW Cross Brand</td>\n",
       "      <td>Segment 2</td>\n",
       "      <td>Morocco</td>\n",
       "      <td>EMEA</td>\n",
       "      <td>MEA</td>\n",
       "      <td>Hicham Sbaa</td>\n",
       "      <td>634000.0</td>\n",
       "      <td>Win</td>\n",
       "      <td>1.0</td>\n",
       "    </tr>\n",
       "    <tr>\n",
       "      <th>2</th>\n",
       "      <td>AALISHAN MOOSAVI</td>\n",
       "      <td>1365</td>\n",
       "      <td>0.000</td>\n",
       "      <td>NaN</td>\n",
       "      <td>NaN</td>\n",
       "      <td>NaN</td>\n",
       "      <td>NaN</td>\n",
       "      <td>NaN</td>\n",
       "      <td>NaN</td>\n",
       "      <td>0.0</td>\n",
       "      <td>Lost</td>\n",
       "      <td>0.0</td>\n",
       "    </tr>\n",
       "    <tr>\n",
       "      <th>3</th>\n",
       "      <td>AARON BROWN</td>\n",
       "      <td>27630</td>\n",
       "      <td>0.972</td>\n",
       "      <td>SW Crossbrand (non z)</td>\n",
       "      <td>Segment 2</td>\n",
       "      <td>Portland</td>\n",
       "      <td>AMER</td>\n",
       "      <td>PUB</td>\n",
       "      <td>Paula Buerkle</td>\n",
       "      <td>972000.0</td>\n",
       "      <td>Win</td>\n",
       "      <td>1.0</td>\n",
       "    </tr>\n",
       "    <tr>\n",
       "      <th>4</th>\n",
       "      <td>AARON FIELD</td>\n",
       "      <td>3420</td>\n",
       "      <td>0.000</td>\n",
       "      <td>NaN</td>\n",
       "      <td>NaN</td>\n",
       "      <td>NaN</td>\n",
       "      <td>NaN</td>\n",
       "      <td>NaN</td>\n",
       "      <td>NaN</td>\n",
       "      <td>0.0</td>\n",
       "      <td>Lost</td>\n",
       "      <td>0.0</td>\n",
       "    </tr>\n",
       "  </tbody>\n",
       "</table>\n",
       "</div>"
      ],
      "text/plain": [
       "             SELLER  DURATION  REVENUE               Sub_Brand    Segment  \\\n",
       "0          A RAM UM     46770    0.000                     NaN        NaN   \n",
       "1   AADIL LAGHZAOUI     21510    0.634  Systems HW Cross Brand  Segment 2   \n",
       "2  AALISHAN MOOSAVI      1365    0.000                     NaN        NaN   \n",
       "3       AARON BROWN     27630    0.972   SW Crossbrand (non z)  Segment 2   \n",
       "4       AARON FIELD      3420    0.000                     NaN        NaN   \n",
       "\n",
       "  COUNTRY_EMP   Geo  Mkt EMPLOYEE_MGR_L1_NAME    REV_AMT Win_Lost  \\\n",
       "0         NaN   NaN  NaN                   NaN       0.0     Lost   \n",
       "1     Morocco  EMEA  MEA           Hicham Sbaa  634000.0      Win   \n",
       "2         NaN   NaN  NaN                   NaN       0.0     Lost   \n",
       "3    Portland  AMER  PUB         Paula Buerkle  972000.0      Win   \n",
       "4         NaN   NaN  NaN                   NaN       0.0     Lost   \n",
       "\n",
       "   Win_Lost_Win  \n",
       "0           0.0  \n",
       "1           1.0  \n",
       "2           0.0  \n",
       "3           1.0  \n",
       "4           0.0  "
      ]
     },
     "execution_count": 156,
     "metadata": {},
     "output_type": "execute_result"
    }
   ],
   "source": [
    "dt_rev.head()"
   ]
  },
  {
   "cell_type": "code",
   "execution_count": 157,
   "metadata": {},
   "outputs": [
    {
     "data": {
      "image/png": "[encoded data removed]",
      "text/plain": [
       "<Figure size 360x360 with 1 Axes>"
      ]
     },
     "metadata": {},
     "output_type": "display_data"
    }
   ],
   "source": [
    "q1_geo = dt_rev.groupby(\"Geo\")[\"DURATION\"].sum()\n",
    "q1_geo\n",
    "# data.plot.pie(autopct=\"%.1f%%\");\n",
    "# Using matplotlib\n",
    "pie, ax = plt.subplots(figsize=[5,5])\n",
    "labels = q1_geo.keys()\n",
    "plt.pie(x=q1_geo, autopct=\"%.1f%%\", explode=[0.05]*4, labels=labels, pctdistance=0.5)\n",
    "plt.title(\"Total call duration made by Geo for Qurter 2021\", fontsize=14);\n",
    "pie.savefig(\"q1GeoPieChart.png\")"
   ]
  },
  {
   "cell_type": "code",
   "execution_count": 158,
   "metadata": {},
   "outputs": [
    {
     "data": {
      "text/html": [
       "<div>\n",
       "<style scoped>\n",
       "    .dataframe tbody tr th:only-of-type {\n",
       "        vertical-align: middle;\n",
       "    }\n",
       "\n",
       "    .dataframe tbody tr th {\n",
       "        vertical-align: top;\n",
       "    }\n",
       "\n",
       "    .dataframe thead th {\n",
       "        text-align: right;\n",
       "    }\n",
       "</style>\n",
       "<table border=\"1\" class=\"dataframe\">\n",
       "  <thead>\n",
       "    <tr style=\"text-align: right;\">\n",
       "      <th></th>\n",
       "      <th>Geo</th>\n",
       "      <th>DURATION</th>\n",
       "    </tr>\n",
       "  </thead>\n",
       "  <tbody>\n",
       "    <tr>\n",
       "      <th>0</th>\n",
       "      <td>EMEA</td>\n",
       "      <td>20309558</td>\n",
       "    </tr>\n",
       "    <tr>\n",
       "      <th>1</th>\n",
       "      <td>AMER</td>\n",
       "      <td>17706546</td>\n",
       "    </tr>\n",
       "    <tr>\n",
       "      <th>2</th>\n",
       "      <td>APAC</td>\n",
       "      <td>4490085</td>\n",
       "    </tr>\n",
       "    <tr>\n",
       "      <th>3</th>\n",
       "      <td>JN</td>\n",
       "      <td>2797557</td>\n",
       "    </tr>\n",
       "  </tbody>\n",
       "</table>\n",
       "</div>"
      ],
      "text/plain": [
       "    Geo  DURATION\n",
       "0  EMEA  20309558\n",
       "1  AMER  17706546\n",
       "2  APAC   4490085\n",
       "3    JN   2797557"
      ]
     },
     "execution_count": 158,
     "metadata": {},
     "output_type": "execute_result"
    }
   ],
   "source": [
    "dt_geo = dt_rev.pivot_table(index=['Geo'], values=['DURATION'], aggfunc='sum')\n",
    "dt_geo = dt_geo.sort_values('DURATION',ascending=False).reset_index() \n",
    "dt_geo"
   ]
  },
  {
   "cell_type": "code",
   "execution_count": 159,
   "metadata": {},
   "outputs": [
    {
     "data": {
      "text/plain": [
       "<seaborn.axisgrid.FacetGrid at 0x2c60ec74460>"
      ]
     },
     "execution_count": 159,
     "metadata": {},
     "output_type": "execute_result"
    },
    {
     "data": {
      "text/plain": [
       "<Figure size 1080x576 with 0 Axes>"
      ]
     },
     "metadata": {},
     "output_type": "display_data"
    },
    {
     "data": {
      "image/png": "[encoded data removed]",
      "text/plain": [
       "<Figure size 416.5x360 with 1 Axes>"
      ]
     },
     "metadata": {
      "needs_background": "light"
     },
     "output_type": "display_data"
    }
   ],
   "source": [
    "plt.figure(figsize=(15,8))\n",
    "sns.catplot(y=\"Geo\", hue=\"Win_Lost\", kind=\"count\",palette=\"pastel\", edgecolor=\".6\",data=dt_rev)"
   ]
  },
  {
   "cell_type": "code",
   "execution_count": 160,
   "metadata": {},
   "outputs": [
    {
     "data": {
      "text/html": [
       "<div>\n",
       "<style scoped>\n",
       "    .dataframe tbody tr th:only-of-type {\n",
       "        vertical-align: middle;\n",
       "    }\n",
       "\n",
       "    .dataframe tbody tr th {\n",
       "        vertical-align: top;\n",
       "    }\n",
       "\n",
       "    .dataframe thead th {\n",
       "        text-align: right;\n",
       "    }\n",
       "</style>\n",
       "<table border=\"1\" class=\"dataframe\">\n",
       "  <thead>\n",
       "    <tr style=\"text-align: right;\">\n",
       "      <th></th>\n",
       "      <th>Geo</th>\n",
       "      <th>Win_Lost</th>\n",
       "    </tr>\n",
       "  </thead>\n",
       "  <tbody>\n",
       "    <tr>\n",
       "      <th>0</th>\n",
       "      <td>EMEA</td>\n",
       "      <td>877</td>\n",
       "    </tr>\n",
       "    <tr>\n",
       "      <th>1</th>\n",
       "      <td>AMER</td>\n",
       "      <td>708</td>\n",
       "    </tr>\n",
       "    <tr>\n",
       "      <th>2</th>\n",
       "      <td>JN</td>\n",
       "      <td>186</td>\n",
       "    </tr>\n",
       "    <tr>\n",
       "      <th>3</th>\n",
       "      <td>APAC</td>\n",
       "      <td>163</td>\n",
       "    </tr>\n",
       "  </tbody>\n",
       "</table>\n",
       "</div>"
      ],
      "text/plain": [
       "    Geo  Win_Lost\n",
       "0  EMEA       877\n",
       "1  AMER       708\n",
       "2    JN       186\n",
       "3  APAC       163"
      ]
     },
     "execution_count": 160,
     "metadata": {},
     "output_type": "execute_result"
    }
   ],
   "source": [
    "dt_gct = dt_rev.pivot_table(index=['Geo'], values=['Win_Lost'], aggfunc='count')\n",
    "dt_gct = dt_gct.sort_values('Win_Lost',ascending=False).reset_index() \n",
    "dt_gct"
   ]
  },
  {
   "cell_type": "code",
   "execution_count": 161,
   "metadata": {},
   "outputs": [
    {
     "data": {
      "text/plain": [
       "<AxesSubplot:xlabel='Geo', ylabel='DURATION'>"
      ]
     },
     "execution_count": 161,
     "metadata": {},
     "output_type": "execute_result"
    },
    {
     "data": {
      "image/png": "[encoded data removed]",
      "text/plain": [
       "<Figure size 720x576 with 1 Axes>"
      ]
     },
     "metadata": {
      "needs_background": "light"
     },
     "output_type": "display_data"
    }
   ],
   "source": [
    "plt.figure(figsize=(10,8))\n",
    "sns.barplot(x='Geo', y= 'DURATION',data=dt_rev,hue='Win_Lost',ci=None)"
   ]
  },
  {
   "cell_type": "code",
   "execution_count": 162,
   "metadata": {},
   "outputs": [
    {
     "data": {
      "text/html": [
       "<div>\n",
       "<style scoped>\n",
       "    .dataframe tbody tr th:only-of-type {\n",
       "        vertical-align: middle;\n",
       "    }\n",
       "\n",
       "    .dataframe tbody tr th {\n",
       "        vertical-align: top;\n",
       "    }\n",
       "\n",
       "    .dataframe thead th {\n",
       "        text-align: right;\n",
       "    }\n",
       "</style>\n",
       "<table border=\"1\" class=\"dataframe\">\n",
       "  <thead>\n",
       "    <tr style=\"text-align: right;\">\n",
       "      <th></th>\n",
       "      <th>Win_Lost</th>\n",
       "      <th>Geo</th>\n",
       "      <th>DURATION</th>\n",
       "    </tr>\n",
       "  </thead>\n",
       "  <tbody>\n",
       "    <tr>\n",
       "      <th>0</th>\n",
       "      <td>Win</td>\n",
       "      <td>EMEA</td>\n",
       "      <td>15561055</td>\n",
       "    </tr>\n",
       "    <tr>\n",
       "      <th>1</th>\n",
       "      <td>Win</td>\n",
       "      <td>AMER</td>\n",
       "      <td>13450187</td>\n",
       "    </tr>\n",
       "    <tr>\n",
       "      <th>2</th>\n",
       "      <td>Lost</td>\n",
       "      <td>EMEA</td>\n",
       "      <td>4748503</td>\n",
       "    </tr>\n",
       "    <tr>\n",
       "      <th>3</th>\n",
       "      <td>Lost</td>\n",
       "      <td>AMER</td>\n",
       "      <td>4256359</td>\n",
       "    </tr>\n",
       "    <tr>\n",
       "      <th>4</th>\n",
       "      <td>Win</td>\n",
       "      <td>APAC</td>\n",
       "      <td>4042445</td>\n",
       "    </tr>\n",
       "    <tr>\n",
       "      <th>5</th>\n",
       "      <td>Win</td>\n",
       "      <td>JN</td>\n",
       "      <td>2651942</td>\n",
       "    </tr>\n",
       "    <tr>\n",
       "      <th>6</th>\n",
       "      <td>Lost</td>\n",
       "      <td>APAC</td>\n",
       "      <td>447640</td>\n",
       "    </tr>\n",
       "    <tr>\n",
       "      <th>7</th>\n",
       "      <td>Lost</td>\n",
       "      <td>JN</td>\n",
       "      <td>145615</td>\n",
       "    </tr>\n",
       "  </tbody>\n",
       "</table>\n",
       "</div>"
      ],
      "text/plain": [
       "  Win_Lost   Geo  DURATION\n",
       "0      Win  EMEA  15561055\n",
       "1      Win  AMER  13450187\n",
       "2     Lost  EMEA   4748503\n",
       "3     Lost  AMER   4256359\n",
       "4      Win  APAC   4042445\n",
       "5      Win    JN   2651942\n",
       "6     Lost  APAC    447640\n",
       "7     Lost    JN    145615"
      ]
     },
     "execution_count": 162,
     "metadata": {},
     "output_type": "execute_result"
    }
   ],
   "source": [
    "dt_gct = dt_rev.pivot_table(index=['Win_Lost','Geo'], values=['DURATION'], aggfunc='sum')\n",
    "dt_gct = dt_gct.sort_values('DURATION',ascending=False).reset_index() \n",
    "dt_gct.head(10)"
   ]
  },
  {
   "cell_type": "code",
   "execution_count": 163,
   "metadata": {},
   "outputs": [
    {
     "data": {
      "text/html": [
       "<div>\n",
       "<style scoped>\n",
       "    .dataframe tbody tr th:only-of-type {\n",
       "        vertical-align: middle;\n",
       "    }\n",
       "\n",
       "    .dataframe tbody tr th {\n",
       "        vertical-align: top;\n",
       "    }\n",
       "\n",
       "    .dataframe thead th {\n",
       "        text-align: right;\n",
       "    }\n",
       "</style>\n",
       "<table border=\"1\" class=\"dataframe\">\n",
       "  <thead>\n",
       "    <tr style=\"text-align: right;\">\n",
       "      <th></th>\n",
       "      <th>Mkt</th>\n",
       "      <th>DURATION</th>\n",
       "    </tr>\n",
       "  </thead>\n",
       "  <tbody>\n",
       "    <tr>\n",
       "      <th>0</th>\n",
       "      <td>DACH</td>\n",
       "      <td>5448253</td>\n",
       "    </tr>\n",
       "    <tr>\n",
       "      <th>1</th>\n",
       "      <td>PUB</td>\n",
       "      <td>4340550</td>\n",
       "    </tr>\n",
       "    <tr>\n",
       "      <th>2</th>\n",
       "      <td>FSS</td>\n",
       "      <td>3274850</td>\n",
       "    </tr>\n",
       "    <tr>\n",
       "      <th>3</th>\n",
       "      <td>ITA</td>\n",
       "      <td>3091782</td>\n",
       "    </tr>\n",
       "    <tr>\n",
       "      <th>4</th>\n",
       "      <td>CEE</td>\n",
       "      <td>2848056</td>\n",
       "    </tr>\n",
       "    <tr>\n",
       "      <th>5</th>\n",
       "      <td>JAPAN</td>\n",
       "      <td>2797557</td>\n",
       "    </tr>\n",
       "    <tr>\n",
       "      <th>6</th>\n",
       "      <td>LA</td>\n",
       "      <td>2540597</td>\n",
       "    </tr>\n",
       "    <tr>\n",
       "      <th>7</th>\n",
       "      <td>FRA</td>\n",
       "      <td>2217045</td>\n",
       "    </tr>\n",
       "    <tr>\n",
       "      <th>8</th>\n",
       "      <td>COM</td>\n",
       "      <td>2090405</td>\n",
       "    </tr>\n",
       "    <tr>\n",
       "      <th>9</th>\n",
       "      <td>DIS</td>\n",
       "      <td>2067865</td>\n",
       "    </tr>\n",
       "  </tbody>\n",
       "</table>\n",
       "</div>"
      ],
      "text/plain": [
       "     Mkt  DURATION\n",
       "0   DACH   5448253\n",
       "1    PUB   4340550\n",
       "2    FSS   3274850\n",
       "3    ITA   3091782\n",
       "4    CEE   2848056\n",
       "5  JAPAN   2797557\n",
       "6     LA   2540597\n",
       "7    FRA   2217045\n",
       "8    COM   2090405\n",
       "9    DIS   2067865"
      ]
     },
     "execution_count": 163,
     "metadata": {},
     "output_type": "execute_result"
    }
   ],
   "source": [
    "q1_mkt = dt_rev.groupby('Mkt').sum()['DURATION'].reset_index()\n",
    "q1_mkt = q1_mkt.sort_values('DURATION',ascending=False).reset_index(drop=True)\n",
    "q1_mkt.head(10)"
   ]
  },
  {
   "cell_type": "code",
   "execution_count": 164,
   "metadata": {},
   "outputs": [
    {
     "data": {
      "image/png": "[encoded data removed]",
      "text/plain": [
       "<Figure size 864x576 with 1 Axes>"
      ]
     },
     "metadata": {
      "needs_background": "light"
     },
     "output_type": "display_data"
    }
   ],
   "source": [
    "mkt = q1_mkt['Mkt'].head(12)\n",
    "dur = q1_mkt['DURATION'].head(12)\n",
    "# Figure Size\n",
    "fig, ax = plt.subplots(figsize =(12, 8)) \n",
    "# Horizontal Bar Plot\n",
    "ax.barh(mkt, dur)\n",
    "# Remove axes splines\n",
    "for s in ['top', 'bottom', 'left', 'right']:\n",
    "    ax.spines[s].set_visible(False)\n",
    "\n",
    "# Remove x, y Ticks\n",
    "ax.xaxis.set_ticks_position('none')\n",
    "ax.yaxis.set_ticks_position('none')\n",
    "# Add padding between axes and labels\n",
    "ax.xaxis.set_tick_params(pad = 5)\n",
    "ax.yaxis.set_tick_params(pad = 15)\n",
    "# Add x, y gridlines\n",
    "ax.grid(b = True, color ='grey',\n",
    "        linestyle ='-.', linewidth = 0.5,\n",
    "        alpha = 0.2)\n",
    "# Show top values\n",
    "ax.invert_yaxis()\n",
    "# Add annotation to bars\n",
    "for i in ax.patches:\n",
    "    plt.text(i.get_width()+0.2, i.get_y()+0.5,\n",
    "             str(round((i.get_width()), 2)),\n",
    "             fontsize = 10, fontweight ='bold',\n",
    "             color ='grey')\n",
    "# Add Plot Title\n",
    "ax.set_title('Call duration by Market  ',\n",
    "             loc ='left', )\n",
    "# Add Text watermark\n",
    "fig.text(0.9, 0.15, 'Jeeteshgavande30', fontsize = 12,\n",
    "         color ='grey', ha ='right', va ='bottom',\n",
    "         alpha = 0.5)\n",
    "# Show Plot\n",
    "plt.show()"
   ]
  },
  {
   "cell_type": "code",
   "execution_count": 165,
   "metadata": {},
   "outputs": [
    {
     "data": {
      "image/png": "[encoded data removed]",
      "text/plain": [
       "<Figure size 432x288 with 1 Axes>"
      ]
     },
     "metadata": {
      "needs_background": "light"
     },
     "output_type": "display_data"
    }
   ],
   "source": [
    "# Mkt  wisn and lost\n",
    "sns.countplot(y ='Mkt', hue = \"Win_Lost\", data = dt_rev)\n",
    "# Show the plot\n",
    "plt.show()"
   ]
  },
  {
   "cell_type": "code",
   "execution_count": 166,
   "metadata": {},
   "outputs": [
    {
     "data": {
      "text/plain": [
       "<AxesSubplot:xlabel='Mkt', ylabel='DURATION'>"
      ]
     },
     "execution_count": 166,
     "metadata": {},
     "output_type": "execute_result"
    },
    {
     "data": {
      "image/png": "[encoded data removed]",
      "text/plain": [
       "<Figure size 1080x576 with 1 Axes>"
      ]
     },
     "metadata": {
      "needs_background": "light"
     },
     "output_type": "display_data"
    }
   ],
   "source": [
    "# Mkt duration with win and lost\n",
    "plt.figure(figsize=(15,8))\n",
    "sns.pointplot(x='Mkt', y= 'DURATION',data=dt_rev,hue='Win_Lost',ci=None)"
   ]
  },
  {
   "cell_type": "code",
   "execution_count": 167,
   "metadata": {},
   "outputs": [
    {
     "data": {
      "text/plain": [
       "<AxesSubplot:xlabel='Segment', ylabel='DURATION'>"
      ]
     },
     "execution_count": 167,
     "metadata": {},
     "output_type": "execute_result"
    },
    {
     "data": {
      "image/png": "[encoded data removed]",
      "text/plain": [
       "<Figure size 432x288 with 1 Axes>"
      ]
     },
     "metadata": {
      "needs_background": "light"
     },
     "output_type": "display_data"
    }
   ],
   "source": [
    "# Segment wise win and lost \n",
    "sns.pointplot(x='Segment', y= 'DURATION',data=dt_rev,hue='Win_Lost',ci=None)"
   ]
  },
  {
   "cell_type": "code",
   "execution_count": 168,
   "metadata": {},
   "outputs": [],
   "source": [
    "dt_win = dt_rev.pivot_table(index=['Win_Lost','SELLER'], values=['DURATION'], aggfunc='sum')\n",
    "dt_win = dt_win.sort_values('DURATION',ascending=False).reset_index() "
   ]
  },
  {
   "cell_type": "code",
   "execution_count": 169,
   "metadata": {},
   "outputs": [
    {
     "data": {
      "text/html": [
       "<div>\n",
       "<style scoped>\n",
       "    .dataframe tbody tr th:only-of-type {\n",
       "        vertical-align: middle;\n",
       "    }\n",
       "\n",
       "    .dataframe tbody tr th {\n",
       "        vertical-align: top;\n",
       "    }\n",
       "\n",
       "    .dataframe thead th {\n",
       "        text-align: right;\n",
       "    }\n",
       "</style>\n",
       "<table border=\"1\" class=\"dataframe\">\n",
       "  <thead>\n",
       "    <tr style=\"text-align: right;\">\n",
       "      <th></th>\n",
       "      <th>Win_Lost</th>\n",
       "      <th>SELLER</th>\n",
       "      <th>DURATION</th>\n",
       "    </tr>\n",
       "  </thead>\n",
       "  <tbody>\n",
       "    <tr>\n",
       "      <th>0</th>\n",
       "      <td>Lost</td>\n",
       "      <td>CLARA OGWUAZOR MBAMALU</td>\n",
       "      <td>516210</td>\n",
       "    </tr>\n",
       "    <tr>\n",
       "      <th>1</th>\n",
       "      <td>Lost</td>\n",
       "      <td>GLENN DARCY</td>\n",
       "      <td>468840</td>\n",
       "    </tr>\n",
       "    <tr>\n",
       "      <th>2</th>\n",
       "      <td>Lost</td>\n",
       "      <td>JAGATHESYWARA GOOPAALAN</td>\n",
       "      <td>464550</td>\n",
       "    </tr>\n",
       "    <tr>\n",
       "      <th>3</th>\n",
       "      <td>Lost</td>\n",
       "      <td>AQULIA ZIXUAN NG</td>\n",
       "      <td>425250</td>\n",
       "    </tr>\n",
       "    <tr>\n",
       "      <th>4</th>\n",
       "      <td>Lost</td>\n",
       "      <td>VALERIE KNIBBELER</td>\n",
       "      <td>366975</td>\n",
       "    </tr>\n",
       "  </tbody>\n",
       "</table>\n",
       "</div>"
      ],
      "text/plain": [
       "  Win_Lost                   SELLER  DURATION\n",
       "0     Lost   CLARA OGWUAZOR MBAMALU    516210\n",
       "1     Lost              GLENN DARCY    468840\n",
       "2     Lost  JAGATHESYWARA GOOPAALAN    464550\n",
       "3     Lost         AQULIA ZIXUAN NG    425250\n",
       "4     Lost        VALERIE KNIBBELER    366975"
      ]
     },
     "execution_count": 169,
     "metadata": {},
     "output_type": "execute_result"
    }
   ],
   "source": [
    "dt_win.head()"
   ]
  },
  {
   "cell_type": "markdown",
   "metadata": {},
   "source": [
    "#### Call duraitons  by Win and Lost "
   ]
  },
  {
   "cell_type": "code",
   "execution_count": 170,
   "metadata": {},
   "outputs": [
    {
     "data": {
      "text/html": [
       "<div>\n",
       "<style scoped>\n",
       "    .dataframe tbody tr th:only-of-type {\n",
       "        vertical-align: middle;\n",
       "    }\n",
       "\n",
       "    .dataframe tbody tr th {\n",
       "        vertical-align: top;\n",
       "    }\n",
       "\n",
       "    .dataframe thead th {\n",
       "        text-align: right;\n",
       "    }\n",
       "</style>\n",
       "<table border=\"1\" class=\"dataframe\">\n",
       "  <thead>\n",
       "    <tr style=\"text-align: right;\">\n",
       "      <th></th>\n",
       "      <th>SELLER</th>\n",
       "      <th>Win_Lost</th>\n",
       "      <th>DURATION</th>\n",
       "    </tr>\n",
       "  </thead>\n",
       "  <tbody>\n",
       "    <tr>\n",
       "      <th>0</th>\n",
       "      <td>CLARA OGWUAZOR MBAMALU</td>\n",
       "      <td>Lost</td>\n",
       "      <td>516210</td>\n",
       "    </tr>\n",
       "    <tr>\n",
       "      <th>1</th>\n",
       "      <td>GLENN DARCY</td>\n",
       "      <td>Lost</td>\n",
       "      <td>468840</td>\n",
       "    </tr>\n",
       "    <tr>\n",
       "      <th>2</th>\n",
       "      <td>JAGATHESYWARA GOOPAALAN</td>\n",
       "      <td>Lost</td>\n",
       "      <td>464550</td>\n",
       "    </tr>\n",
       "    <tr>\n",
       "      <th>3</th>\n",
       "      <td>AQULIA ZIXUAN NG</td>\n",
       "      <td>Lost</td>\n",
       "      <td>425250</td>\n",
       "    </tr>\n",
       "    <tr>\n",
       "      <th>4</th>\n",
       "      <td>VALERIE KNIBBELER</td>\n",
       "      <td>Lost</td>\n",
       "      <td>366975</td>\n",
       "    </tr>\n",
       "    <tr>\n",
       "      <th>5</th>\n",
       "      <td>CERISE CELLIER</td>\n",
       "      <td>Lost</td>\n",
       "      <td>346080</td>\n",
       "    </tr>\n",
       "    <tr>\n",
       "      <th>6</th>\n",
       "      <td>CHARLES SINGLETON</td>\n",
       "      <td>Lost</td>\n",
       "      <td>340590</td>\n",
       "    </tr>\n",
       "    <tr>\n",
       "      <th>7</th>\n",
       "      <td>JUDY WEE NAH LIM</td>\n",
       "      <td>Lost</td>\n",
       "      <td>321405</td>\n",
       "    </tr>\n",
       "    <tr>\n",
       "      <th>8</th>\n",
       "      <td>ALONZO WEATHERBY</td>\n",
       "      <td>Lost</td>\n",
       "      <td>317430</td>\n",
       "    </tr>\n",
       "    <tr>\n",
       "      <th>9</th>\n",
       "      <td>KAIJUN CHIN</td>\n",
       "      <td>Lost</td>\n",
       "      <td>305430</td>\n",
       "    </tr>\n",
       "  </tbody>\n",
       "</table>\n",
       "</div>"
      ],
      "text/plain": [
       "                    SELLER Win_Lost  DURATION\n",
       "0   CLARA OGWUAZOR MBAMALU     Lost    516210\n",
       "1              GLENN DARCY     Lost    468840\n",
       "2  JAGATHESYWARA GOOPAALAN     Lost    464550\n",
       "3         AQULIA ZIXUAN NG     Lost    425250\n",
       "4        VALERIE KNIBBELER     Lost    366975\n",
       "5           CERISE CELLIER     Lost    346080\n",
       "6        CHARLES SINGLETON     Lost    340590\n",
       "7         JUDY WEE NAH LIM     Lost    321405\n",
       "8         ALONZO WEATHERBY     Lost    317430\n",
       "9              KAIJUN CHIN     Lost    305430"
      ]
     },
     "execution_count": 170,
     "metadata": {},
     "output_type": "execute_result"
    }
   ],
   "source": [
    "dt_win = dt_rev.pivot_table(index=['SELLER','Win_Lost'], values=['DURATION'], aggfunc='sum')\n",
    "dt_win = dt_win.sort_values('DURATION',ascending=False).reset_index() \n",
    "dt_win.head(10)"
   ]
  },
  {
   "cell_type": "code",
   "execution_count": null,
   "metadata": {},
   "outputs": [],
   "source": []
  }
 ],
 "metadata": {
  "kernelspec": {
   "display_name": "Python 3",
   "language": "python",
   "name": "python3"
  },
  "language_info": {
   "codemirror_mode": {
    "name": "ipython",
    "version": 3
   },
   "file_extension": ".py",
   "mimetype": "text/x-python",
   "name": "python",
   "nbconvert_exporter": "python",
   "pygments_lexer": "ipython3",
   "version": "3.8.5"
  }
 },
 "nbformat": 4,
 "nbformat_minor": 4
}
